{
 "cells": [
  {
   "cell_type": "code",
   "execution_count": 58,
   "id": "001cc99f-b9e2-485e-a178-56a0bd727aca",
   "metadata": {},
   "outputs": [],
   "source": [
    "def P1(input_list: list[int])->set:\n",
    "    output_set = set()\n",
    "    input_set = set(input_list)\n",
    "\n",
    "    for i in input_set:\n",
    "        if input_list.count(i) >= 2:\n",
    "            output_set.add(i)    \n",
    "    return output_set"
   ]
  },
  {
   "cell_type": "code",
   "execution_count": 39,
   "id": "62321b5c-9deb-4df2-9ad6-72e1a455cad8",
   "metadata": {},
   "outputs": [],
   "source": [
    "def P1(input_list: list[int])->set:\n",
    "    output_cnt = dict()\n",
    "    output_set = set()\n",
    "\n",
    "    # for each data\n",
    "    for i in input_list:\n",
    "        # if data already counted\n",
    "        if i in output_cnt:\n",
    "            output_cnt[i] += 1;\n",
    "            output_set.add(i)\n",
    "        else:\n",
    "            output_cnt[i] = 1;    \n",
    "    return output_set"
   ]
  },
  {
   "cell_type": "code",
   "execution_count": 56,
   "id": "acc21a07-1bb5-4c37-8faf-5a3606095ee3",
   "metadata": {},
   "outputs": [],
   "source": [
    "def P1(input_list: list[int])->set:\n",
    "    # counter (key = integer, value = count)\n",
    "    output_cnt = dict()    \n",
    "\n",
    "    # for each data \n",
    "    for i in input_list:\n",
    "        if i in output_cnt:\n",
    "            output_cnt[i] += 1;            \n",
    "        else:\n",
    "            output_cnt[i] = 1;  \n",
    "    \n",
    "    # dict counter >= 2\n",
    "    output_set = []\n",
    "    for key, val in output_cnt.items():\n",
    "        if val >= 2:\n",
    "            output_set.append(key)\n",
    "        \n",
    "    return set(output_set)"
   ]
  },
  {
   "cell_type": "code",
   "execution_count": 59,
   "id": "a9e89b01-b0a5-46a7-9665-17b8ecdb8e90",
   "metadata": {},
   "outputs": [
    {
     "data": {
      "text/plain": [
       "{1}"
      ]
     },
     "execution_count": 59,
     "metadata": {},
     "output_type": "execute_result"
    }
   ],
   "source": [
    "P1([1, 2, 3, 1])"
   ]
  },
  {
   "cell_type": "code",
   "execution_count": 60,
   "id": "43b77baf-9dd0-41fd-805f-48104331f11d",
   "metadata": {},
   "outputs": [
    {
     "data": {
      "text/plain": [
       "{1, 3}"
      ]
     },
     "execution_count": 60,
     "metadata": {},
     "output_type": "execute_result"
    }
   ],
   "source": [
    "P1([1, 1, 2, 3, 3, 3])"
   ]
  },
  {
   "cell_type": "code",
   "execution_count": 61,
   "id": "50bc2b15-cfb8-418b-854f-daa98195f85f",
   "metadata": {},
   "outputs": [
    {
     "data": {
      "text/plain": [
       "set()"
      ]
     },
     "execution_count": 61,
     "metadata": {},
     "output_type": "execute_result"
    }
   ],
   "source": [
    "P1([1, 2, 3, 4, 5])"
   ]
  },
  {
   "cell_type": "code",
   "execution_count": 67,
   "id": "b07ba3cf-9017-4594-8873-0a3a293c0093",
   "metadata": {},
   "outputs": [],
   "source": [
    "def P2(input_dict: dict)->str:\n",
    "    # get values \n",
    "    prob_list = list(input_dict.values())\n",
    "    print(prob_list)\n",
    "    # get max prob\n",
    "    max_prob = max(prob_list)\n",
    "    print(max_prob)\n",
    "\n",
    "    # find the right key\n",
    "    # for key, value in input_dict.items():\n",
    "    #     if value == max_prob:\n",
    "    #         return key\n",
    "    for key in input_dict.keys():\n",
    "        if input_dict[key] == max_prob:\n",
    "            return key\n",
    "        "
   ]
  },
  {
   "cell_type": "code",
   "execution_count": 68,
   "id": "4c8d34e9-efc2-4b96-adca-b292179f57de",
   "metadata": {},
   "outputs": [
    {
     "name": "stdout",
     "output_type": "stream",
     "text": [
      "[0.55, 0.21, 0.03]\n",
      "0.55\n"
     ]
    },
    {
     "data": {
      "text/plain": [
       "'ne'"
      ]
     },
     "execution_count": 68,
     "metadata": {},
     "output_type": "execute_result"
    }
   ],
   "source": [
    "P2({'ne': 0.55, 'pro': 0.21, 'me': 0.03})"
   ]
  },
  {
   "cell_type": "code",
   "execution_count": 69,
   "id": "542a8516-62e0-4451-878c-f2dcb2c9699c",
   "metadata": {},
   "outputs": [
    {
     "name": "stdout",
     "output_type": "stream",
     "text": [
      "[0.11, 0.21, 0.05]\n",
      "0.21\n"
     ]
    },
    {
     "data": {
      "text/plain": [
       "'pro'"
      ]
     },
     "execution_count": 69,
     "metadata": {},
     "output_type": "execute_result"
    }
   ],
   "source": [
    "P2({'ne': 0.11, 'pro': 0.21, 'me': 0.05})"
   ]
  },
  {
   "cell_type": "code",
   "execution_count": 79,
   "id": "c2a36d55-f1cf-4f71-af6f-fc83ecf6c2ae",
   "metadata": {},
   "outputs": [],
   "source": [
    "def P3(input_dict):\n",
    "    output_set = set()\n",
    "    for key, inner_dict in input_dict.items():\n",
    "        output_set.add(list(inner_dict.keys()))\n",
    "    if len(output_set) == 1:\n",
    "        return 1\n",
    "    else:\n",
    "        return 0"
   ]
  },
  {
   "cell_type": "code",
   "execution_count": 78,
   "id": "0bd1e7e8-d15d-4846-9ef5-f4e6bebf697f",
   "metadata": {},
   "outputs": [
    {
     "ename": "TypeError",
     "evalue": "unhashable type: 'dict_keys'",
     "output_type": "error",
     "traceback": [
      "\u001b[31m---------------------------------------------------------------------------\u001b[39m",
      "\u001b[31mTypeError\u001b[39m                                 Traceback (most recent call last)",
      "\u001b[36mCell\u001b[39m\u001b[36m \u001b[39m\u001b[32mIn[78]\u001b[39m\u001b[32m, line 1\u001b[39m\n\u001b[32m----> \u001b[39m\u001b[32m1\u001b[39m \u001b[43mP3\u001b[49m\u001b[43m(\u001b[49m\u001b[43m{\u001b[49m\u001b[33;43m'\u001b[39;49m\u001b[33;43ma\u001b[39;49m\u001b[33;43m'\u001b[39;49m\u001b[43m:\u001b[49m\u001b[43m \u001b[49m\u001b[43m{\u001b[49m\u001b[33;43m'\u001b[39;49m\u001b[33;43maa\u001b[39;49m\u001b[33;43m'\u001b[39;49m\u001b[43m:\u001b[49m\u001b[32;43m123\u001b[39;49m\u001b[43m,\u001b[49m\u001b[43m \u001b[49m\u001b[33;43m'\u001b[39;49m\u001b[33;43mab\u001b[39;49m\u001b[33;43m'\u001b[39;49m\u001b[43m:\u001b[49m\u001b[43m \u001b[49m\u001b[43m[\u001b[49m\u001b[32;43m1\u001b[39;49m\u001b[43m,\u001b[49m\u001b[32;43m2\u001b[39;49m\u001b[43m]\u001b[49m\u001b[43m}\u001b[49m\u001b[43m,\u001b[49m\u001b[43m \u001b[49m\u001b[33;43m'\u001b[39;49m\u001b[33;43mb\u001b[39;49m\u001b[33;43m'\u001b[39;49m\u001b[43m:\u001b[49m\u001b[43m \u001b[49m\u001b[43m{\u001b[49m\u001b[33;43m'\u001b[39;49m\u001b[33;43maa\u001b[39;49m\u001b[33;43m'\u001b[39;49m\u001b[43m:\u001b[49m\u001b[43m \u001b[49m\u001b[33;43m'\u001b[39;49m\u001b[33;43mbb\u001b[39;49m\u001b[33;43m'\u001b[39;49m\u001b[43m,\u001b[49m\u001b[43m \u001b[49m\u001b[33;43m'\u001b[39;49m\u001b[33;43mab\u001b[39;49m\u001b[33;43m'\u001b[39;49m\u001b[43m:\u001b[49m\u001b[43m \u001b[49m\u001b[33;43m'\u001b[39;49m\u001b[33;43mcc\u001b[39;49m\u001b[33;43m'\u001b[39;49m\u001b[43m}\u001b[49m\u001b[43m}\u001b[49m\u001b[43m)\u001b[49m\n",
      "\u001b[36mCell\u001b[39m\u001b[36m \u001b[39m\u001b[32mIn[77]\u001b[39m\u001b[32m, line 4\u001b[39m, in \u001b[36mP3\u001b[39m\u001b[34m(input_dict)\u001b[39m\n\u001b[32m      2\u001b[39m output_set = \u001b[38;5;28mset\u001b[39m()\n\u001b[32m      3\u001b[39m \u001b[38;5;28;01mfor\u001b[39;00m key, inner_dict \u001b[38;5;129;01min\u001b[39;00m input_dict.items():\n\u001b[32m----> \u001b[39m\u001b[32m4\u001b[39m     \u001b[43moutput_set\u001b[49m\u001b[43m.\u001b[49m\u001b[43madd\u001b[49m\u001b[43m(\u001b[49m\u001b[43minner_dict\u001b[49m\u001b[43m.\u001b[49m\u001b[43mkeys\u001b[49m\u001b[43m(\u001b[49m\u001b[43m)\u001b[49m\u001b[43m)\u001b[49m\n\u001b[32m      5\u001b[39m \u001b[38;5;28;01mif\u001b[39;00m \u001b[38;5;28mlen\u001b[39m(output_set) == \u001b[32m1\u001b[39m:\n\u001b[32m      6\u001b[39m     \u001b[38;5;28;01mreturn\u001b[39;00m \u001b[32m1\u001b[39m\n",
      "\u001b[31mTypeError\u001b[39m: unhashable type: 'dict_keys'"
     ]
    }
   ],
   "source": [
    "P3({'a': {'aa':123, 'ab': [1,2]}, 'b': {'aa': 'bb', 'ab': 'cc'}})"
   ]
  },
  {
   "cell_type": "code",
   "execution_count": 76,
   "id": "8bfc70d3-f560-4e35-88d7-80ef376c0916",
   "metadata": {},
   "outputs": [
    {
     "data": {
      "text/plain": [
       "0"
      ]
     },
     "execution_count": 76,
     "metadata": {},
     "output_type": "execute_result"
    }
   ],
   "source": [
    "P3({'A': {1: 'a', 2: 'b'}, 'B': {2: 'c', 3: 'd'}})"
   ]
  },
  {
   "cell_type": "code",
   "execution_count": null,
   "id": "a55e72e7-7ce9-4fcb-9375-e7807224b7b4",
   "metadata": {},
   "outputs": [],
   "source": []
  }
 ],
 "metadata": {
  "kernelspec": {
   "display_name": "Python 3 (ipykernel)",
   "language": "python",
   "name": "python3"
  },
  "language_info": {
   "codemirror_mode": {
    "name": "ipython",
    "version": 3
   },
   "file_extension": ".py",
   "mimetype": "text/x-python",
   "name": "python",
   "nbconvert_exporter": "python",
   "pygments_lexer": "ipython3",
   "version": "3.12.8"
  }
 },
 "nbformat": 4,
 "nbformat_minor": 5
}
