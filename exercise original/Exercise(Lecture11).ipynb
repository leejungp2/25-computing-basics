{
 "cells": [
  {
   "cell_type": "markdown",
   "id": "30b4ee4d",
   "metadata": {
    "id": "30b4ee4d"
   },
   "source": [
    "# Q1. Pascal's Triangle"
   ]
  },
  {
   "attachments": {},
   "cell_type": "markdown",
   "id": "7d527a27",
   "metadata": {
    "id": "7d527a27"
   },
   "source": [
    "### Create a function for calculating a list of row index of the Pascal’s triangle"
   ]
  },
  {
   "cell_type": "code",
   "execution_count": 109,
   "id": "6b416b8c",
   "metadata": {},
   "outputs": [],
   "source": [
    "from typing import List"
   ]
  },
  {
   "cell_type": "code",
   "execution_count": 223,
   "id": "24bdf330",
   "metadata": {},
   "outputs": [],
   "source": [
    "def Pascal(n: int) -> List[int]:\n",
    "    # Write your code\n",
    "    return answer"
   ]
  },
  {
   "cell_type": "code",
   "execution_count": null,
   "id": "a7c3aa06",
   "metadata": {},
   "outputs": [
    {
     "data": {
      "text/plain": [
       "[1, 4, 6, 4, 1]"
      ]
     },
     "execution_count": 314,
     "metadata": {},
     "output_type": "execute_result"
    }
   ],
   "source": [
    "Pascal(4)"
   ]
  },
  {
   "cell_type": "markdown",
   "id": "70163ceb",
   "metadata": {
    "id": "70163ceb"
   },
   "source": [
    "# Q2. Merge Sort"
   ]
  },
  {
   "cell_type": "markdown",
   "id": "da9c09ab",
   "metadata": {
    "id": "da9c09ab"
   },
   "source": [
    "### Create a function for outputting a list and a value from the merge sort in the order"
   ]
  },
  {
   "cell_type": "code",
   "execution_count": 309,
   "id": "2b3e28f5",
   "metadata": {
    "id": "2b3e28f5",
    "outputId": "8e403c29-fb97-4868-a9bf-60fb2433c042"
   },
   "outputs": [],
   "source": [
    "def mergeSortHelp(L:list, first:int, last:int) -> None:\n",
    "    if first == last: # Base Case\n",
    "        return\n",
    "    else: # Recursive Case\n",
    "        # Step 1 : Divide it into two sublists\n",
    "        mid = first + (last - first) // 2\n",
    "        # Step 2 : Sort the two sublists\n",
    "        mergeSortHelp(L, first, mid)\n",
    "        mergeSortHelp(L, mid+1, last)\n",
    "        # Step 3 : Merge the two \"sorted\" sublists\n",
    "        merge(L, first, mid, last)\n",
    "        \n",
    "def merge(L:list, first:int, mid:int, last:int) -> None:\n",
    "    # Write your code"
   ]
  },
  {
   "cell_type": "code",
   "execution_count": 312,
   "id": "8678ffc3",
   "metadata": {},
   "outputs": [
    {
     "name": "stdout",
     "output_type": "stream",
     "text": [
      "[4, 5, 1, 3, 2] 4\n",
      "[4, 5, 1, 3, 2] 5\n",
      "[1, 5, 1, 3, 2] 1\n",
      "[1, 4, 1, 3, 2] 4\n",
      "[1, 4, 5, 3, 2] 5\n",
      "[1, 4, 5, 2, 2] 2\n",
      "[1, 4, 5, 2, 3] 3\n",
      "[1, 4, 5, 2, 3] 1\n",
      "[1, 2, 5, 2, 3] 2\n",
      "[1, 2, 3, 2, 3] 3\n",
      "[1, 2, 3, 4, 3] 4\n",
      "[1, 2, 3, 4, 5] 5\n"
     ]
    }
   ],
   "source": [
    "L = [4, 5, 1, 3, 2]\n",
    "mergeSortHelp(L, 0, 4)"
   ]
  },
  {
   "cell_type": "code",
   "execution_count": null,
   "id": "e74507e5",
   "metadata": {},
   "outputs": [],
   "source": []
  }
 ],
 "metadata": {
  "colab": {
   "provenance": []
  },
  "kernelspec": {
   "display_name": "Python 3 (ipykernel)",
   "language": "python",
   "name": "python3"
  },
  "language_info": {
   "codemirror_mode": {
    "name": "ipython",
    "version": 3
   },
   "file_extension": ".py",
   "mimetype": "text/x-python",
   "name": "python",
   "nbconvert_exporter": "python",
   "pygments_lexer": "ipython3",
   "version": "3.11.3"
  }
 },
 "nbformat": 4,
 "nbformat_minor": 5
}
