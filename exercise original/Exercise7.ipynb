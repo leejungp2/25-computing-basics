{
 "cells": [
  {
   "cell_type": "markdown",
   "id": "37da5851",
   "metadata": {},
   "source": [
    "# Practice 1. Café menu\n",
    "\n",
    "Write two functions to read a cafe's menu from a text file (menu.txt) and return a list of menu.\n",
    "\n",
    "* menu - returns list of lists\n",
    "* reverse_menu - returns a list of strings in reverse order"
   ]
  },
  {
   "cell_type": "code",
   "execution_count": null,
   "id": "80d140a0",
   "metadata": {},
   "outputs": [],
   "source": [
    "from typing import TextIO, List"
   ]
  },
  {
   "cell_type": "code",
   "execution_count": null,
   "id": "8a29fdd4",
   "metadata": {},
   "outputs": [],
   "source": [
    "def menu(filename : str) -> List[List]:\n",
    "    # Write your code here\n",
    "\n",
    "    \n",
    "    return out_list"
   ]
  },
  {
   "cell_type": "code",
   "execution_count": null,
   "id": "2301df84",
   "metadata": {},
   "outputs": [],
   "source": [
    "menu('menu.txt')"
   ]
  },
  {
   "cell_type": "code",
   "execution_count": null,
   "id": "b153071e",
   "metadata": {},
   "outputs": [],
   "source": [
    "def reverse_menu(filename: str) -> list:\n",
    "    # Write your code here\n",
    "\n",
    "    \n",
    "    return reverse_list"
   ]
  },
  {
   "cell_type": "code",
   "execution_count": null,
   "id": "501bc6d0",
   "metadata": {},
   "outputs": [],
   "source": [
    "reverse_menu('menu.txt')"
   ]
  },
  {
   "cell_type": "markdown",
   "id": "36383641",
   "metadata": {},
   "source": [
    "# Practice 2. Find the largest number\n",
    "\n",
    "Suppose the file (file_practice.txt) contains numbers ending with ‘.'   and comments written after hash symbol(#).  \n",
    "Write a code that finds the largest number in the file.\n",
    "\n",
    "* Ignore any part of the line commented with ‘#’."
   ]
  },
  {
   "cell_type": "code",
   "execution_count": null,
   "id": "59c8bdda",
   "metadata": {},
   "outputs": [],
   "source": [
    "from typing import TextIO"
   ]
  },
  {
   "cell_type": "code",
   "execution_count": null,
   "id": "cd14198f",
   "metadata": {},
   "outputs": [],
   "source": [
    "def findLargestNum(filename : str) -> int:\n",
    "    # Write your code here\n",
    "    ## There would be some steps to get the maximum number\n",
    "    ## ex. Filter Comments, Extract Numbers, Update Maximum\n",
    "\n",
    "            \n",
    "    return maxNum"
   ]
  },
  {
   "cell_type": "code",
   "execution_count": null,
   "id": "bae50308",
   "metadata": {},
   "outputs": [],
   "source": [
    "findLargestNum('file_practice.txt')"
   ]
  }
 ],
 "metadata": {
  "kernelspec": {
   "display_name": "Python 3 (ipykernel)",
   "language": "python",
   "name": "python3"
  },
  "language_info": {
   "codemirror_mode": {
    "name": "ipython",
    "version": 3
   },
   "file_extension": ".py",
   "mimetype": "text/x-python",
   "name": "python",
   "nbconvert_exporter": "python",
   "pygments_lexer": "ipython3",
   "version": "3.11.3"
  }
 },
 "nbformat": 4,
 "nbformat_minor": 5
}
