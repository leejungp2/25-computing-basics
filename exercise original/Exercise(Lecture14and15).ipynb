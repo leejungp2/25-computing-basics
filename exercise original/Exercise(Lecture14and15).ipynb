{
 "cells": [
  {
   "cell_type": "markdown",
   "metadata": {
    "id": "I9FM6s1o9ZUc"
   },
   "source": [
    "# In-class Exercise"
   ]
  },
  {
   "cell_type": "markdown",
   "metadata": {
    "id": "pz0rVpAR9ZUf"
   },
   "source": [
    "### Q1.Stack"
   ]
  },
  {
   "cell_type": "markdown",
   "metadata": {
    "id": "q9INvpLR9ZUf"
   },
   "source": [
    "push(x): Add a LinkedNode that has val x to myStack  \n",
    "pop: Remove the most recently added LinkedNode from myStack  \n",
    "top: Return val of the most recently added LinkedNode  \n",
    "getSize: Return the number of LinkedNodes in myStack  \n",
    "isEmpty: Return True if myStack is empty, or False otherwise."
   ]
  },
  {
   "cell_type": "code",
   "execution_count": null,
   "metadata": {
    "tags": [],
    "id": "a2xIR4I69ZUg"
   },
   "outputs": [],
   "source": [
    "class LinkedNode():\n",
    "    def __init__(self, x):\n",
    "        self.val = x\n",
    "        self.next = None\n",
    "\n",
    "\n",
    "class myStack():\n",
    "    def __init__(self) -> None:\n",
    "        self.sentinel = LinkedNode(0)\n",
    "        self.size = 0\n",
    "\n",
    "    def push(self, x: int) -> None:\n",
    "        ##### Write your Code Here #####\n",
    "        ...\n",
    "        ################################\n",
    "\n",
    "    def pop(self) -> None:\n",
    "        ##### Write your Code Here #####\n",
    "        ...\n",
    "        ################################\n",
    "\n",
    "    def top(self) -> int:\n",
    "        ##### Write your Code Here #####\n",
    "        ...\n",
    "        ################################\n",
    "\n",
    "    def getSize(self) -> int:\n",
    "        ##### Write your Code Here #####\n",
    "        ...\n",
    "        ################################\n",
    "\n",
    "    def isEmpty(self) -> bool:\n",
    "        ##### Write your Code Here #####\n",
    "        ...\n",
    "        ################################"
   ]
  },
  {
   "cell_type": "code",
   "execution_count": null,
   "metadata": {
    "tags": [],
    "id": "YRjWz5ls9ZUh"
   },
   "outputs": [],
   "source": [
    "s = myStack()"
   ]
  },
  {
   "cell_type": "code",
   "execution_count": null,
   "metadata": {
    "tags": [],
    "id": "gzYTu59-9ZUh",
    "outputId": "cb15a90a-d84f-413f-e251-9000f15e867e",
    "colab": {
     "base_uri": "https://localhost:8080/"
    },
    "executionInfo": {
     "status": "ok",
     "timestamp": 1696245165907,
     "user_tz": -540,
     "elapsed": 5,
     "user": {
      "displayName": "­정지혜 / 학생 / 데이터사이언스학과",
      "userId": "18385305302286132298"
     }
    }
   },
   "outputs": [
    {
     "output_type": "stream",
     "name": "stdout",
     "text": [
      "False 1 10\n",
      "True 0 None\n"
     ]
    }
   ],
   "source": [
    "s.push(10)\n",
    "print(s.isEmpty(), s.getSize(), s.top())\n",
    "s.pop()\n",
    "print(s.isEmpty(), s.getSize(), s.top())"
   ]
  },
  {
   "cell_type": "markdown",
   "metadata": {
    "id": "YMPHMl5J9ZUi"
   },
   "source": [
    "###Q2. Reversing SLL"
   ]
  },
  {
   "cell_type": "markdown",
   "metadata": {
    "id": "sgdBwNQo9ZUi"
   },
   "source": [
    "※ Space complexity should be O(1)  \n",
    "(Generating new LinkedLists or lists is not allowed)"
   ]
  },
  {
   "cell_type": "code",
   "execution_count": null,
   "metadata": {
    "id": "lTdCGhc49ZUj"
   },
   "outputs": [],
   "source": [
    "class ListNode:\n",
    "    def __init__(self, val=0, next=None):\n",
    "        self.val = val\n",
    "        self.next = next"
   ]
  },
  {
   "cell_type": "code",
   "execution_count": null,
   "metadata": {
    "id": "ciRBsqcR9ZUj"
   },
   "outputs": [],
   "source": [
    "# converting list form into a singly linked list\n",
    "def create_linked_list(l: list) -> ListNode:\n",
    "    if len(l) == 0:\n",
    "        return None\n",
    "\n",
    "    start = ListNode(l[0])\n",
    "    node = start\n",
    "\n",
    "    for i in range(1, len(l)):\n",
    "        node_new = ListNode(l[i])\n",
    "        node.next = node_new\n",
    "        node = node_new\n",
    "\n",
    "    return start\n",
    "\n",
    "\n",
    "# printing linked-list in form of a list\n",
    "def print_linked_list(n: ListNode, l: list) -> None:\n",
    "    if n is not None:\n",
    "        l.append(n.val)\n",
    "        print_linked_list(n.next, l)\n",
    "    else:\n",
    "        print(l)\n",
    "\n",
    "\n",
    "def reverse_SSL(head: ListNode) -> ListNode:\n",
    "    ##### Write your Code Here #####\n",
    "\n",
    "    return\n",
    "    ################################"
   ]
  },
  {
   "cell_type": "code",
   "execution_count": null,
   "metadata": {
    "id": "W0IY8Azn9ZUj",
    "outputId": "afcea17a-b7fb-4554-f7fc-dbdefd968387",
    "colab": {
     "base_uri": "https://localhost:8080/"
    },
    "executionInfo": {
     "status": "ok",
     "timestamp": 1696245135408,
     "user_tz": -540,
     "elapsed": 374,
     "user": {
      "displayName": "­정지혜 / 학생 / 데이터사이언스학과",
      "userId": "18385305302286132298"
     }
    }
   },
   "outputs": [
    {
     "output_type": "stream",
     "name": "stdout",
     "text": [
      "[3, 1, 2, 4]\n"
     ]
    }
   ],
   "source": [
    "l1 = create_linked_list([4, 2, 1, 3])\n",
    "print_linked_list(reverse_SSL(l1), [])"
   ]
  }
 ],
 "metadata": {
  "kernelspec": {
   "display_name": "Python 3 (ipykernel)",
   "language": "python",
   "name": "python3"
  },
  "language_info": {
   "codemirror_mode": {
    "name": "ipython",
    "version": 3
   },
   "file_extension": ".py",
   "mimetype": "text/x-python",
   "name": "python",
   "nbconvert_exporter": "python",
   "pygments_lexer": "ipython3",
   "version": "3.8.16"
  },
  "vscode": {
   "interpreter": {
    "hash": "e31f0f46eebab55a29f0e124b1401c6335879e1da13c450265b689861a18de2a"
   }
  },
  "colab": {
   "provenance": []
  }
 },
 "nbformat": 4,
 "nbformat_minor": 0
}
