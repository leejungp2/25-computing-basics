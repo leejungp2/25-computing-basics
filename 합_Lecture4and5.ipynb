{
 "cells": [
  {
   "cell_type": "markdown",
   "id": "64630305",
   "metadata": {},
   "source": [
    "## Quiz 정답"
   ]
  },
  {
   "cell_type": "code",
   "execution_count": null,
   "id": "75cf82e6",
   "metadata": {},
   "outputs": [
    {
     "data": {
      "text/plain": [
       "120"
      ]
     },
     "execution_count": 2,
     "metadata": {},
     "output_type": "execute_result"
    }
   ],
   "source": [
    "# 문제1-1\n",
    "\n",
    "import math\n",
    "math.factorial(5)\n",
    "# import 한 이름 그대로"
   ]
  },
  {
   "cell_type": "code",
   "execution_count": null,
   "id": "a28b4e9b",
   "metadata": {},
   "outputs": [
    {
     "data": {
      "text/plain": [
       "9.0"
      ]
     },
     "execution_count": 3,
     "metadata": {},
     "output_type": "execute_result"
    }
   ],
   "source": [
    "# 문제1-2\n",
    "import math as mh\n",
    "math.pow(3,2)\n",
    "# output: NameError: name 'math' is not defined"
   ]
  },
  {
   "cell_type": "code",
   "execution_count": 4,
   "id": "1fa5b85a",
   "metadata": {},
   "outputs": [
    {
     "name": "stdout",
     "output_type": "stream",
     "text": [
      "[1, 2, 3, 5]\n"
     ]
    }
   ],
   "source": [
    "# 문제 3\n",
    "lst = [1, 2, 3]\n",
    "lst.append(5)\n",
    "\n",
    "print(lst)"
   ]
  },
  {
   "cell_type": "code",
   "execution_count": 5,
   "id": "1b07460c",
   "metadata": {},
   "outputs": [
    {
     "name": "stdout",
     "output_type": "stream",
     "text": [
      "[5, 3, 2]\n"
     ]
    }
   ],
   "source": [
    "lst_A = lst\n",
    "lst_A.reverse() # [5, 3, 2, 1]로 뒤집기\n",
    "lst_A.pop() # [5, 3, 2] 마지막 요소 1 제거\n",
    "##  pop()은 리스트뿐만 아니라 딕셔너리, 세트에서도 사용할 수 있으며, 요소를 제거하면서 동시에 그 값을 반환하는 유용한 메서드\n",
    "print(lst_A)"
   ]
  },
  {
   "cell_type": "code",
   "execution_count": null,
   "id": "6280c045",
   "metadata": {},
   "outputs": [
    {
     "name": "stdout",
     "output_type": "stream",
     "text": [
      "[5, 3, 2]\n",
      "[5, 3, 1, 5, 3]\n"
     ]
    }
   ],
   "source": [
    "lst_B = lst_A[:2] #[5, 3] 리스트 앞 2개 원소 복사\n",
    "lst_B = lst_B*2 # [5, 3, 5, 3]\n",
    "lst_B.insert(2, 1) # [5, 3, 1, 5, 3] 인덱스 2 위치에 1 넣기\n",
    "\n",
    "print(lst_A)\n",
    "print(lst_B)"
   ]
  },
  {
   "cell_type": "code",
   "execution_count": null,
   "id": "4e63b6cf",
   "metadata": {},
   "outputs": [
    {
     "name": "stdout",
     "output_type": "stream",
     "text": [
      "[1, 2, 4, 4, 6]\n"
     ]
    }
   ],
   "source": [
    "# 문제 4*\n",
    "lst = [1, 2, 3, 4, 5]\n",
    "for i in range(4, 0, -1): # range (시작, 끝, 증감 폭): 4부터 1까지(0 제외) 거꾸로 반복\n",
    "    if i == 3:\n",
    "        continue # continue는 밑에를 skip\n",
    "    elif i<2:\n",
    "        break # break는 미래까지 skip -> i = 4, 2일 때만 실행\n",
    "    lst[i] = lst[i] + 1\n",
    "    # i = 4일 때: [1, 2, 3, 4, 6] index 4 = 5번째 리스트 + 1\n",
    "    # i = 3일 때: continue\n",
    "    # i = 2일 때: [1, 2, 4, 4, 6] index 2 = 3번째 리스트 + 1\n",
    "print(lst)"
   ]
  },
  {
   "cell_type": "markdown",
   "id": "860de080",
   "metadata": {},
   "source": [
    "<range 함수의 구조>\n",
    "``` \n",
    "start: 시작 값 (포함)\n",
    "stop: 끝 값 (포함되지 않음)\n",
    "step: 증가/감소 폭\n",
    "``` "
   ]
  },
  {
   "cell_type": "code",
   "execution_count": null,
   "id": "681771b3",
   "metadata": {},
   "outputs": [
    {
     "data": {
      "text/plain": [
       "[4, 3, 2, 1]"
      ]
     },
     "metadata": {},
     "output_type": "display_data"
    }
   ],
   "source": [
    "list(range(4, 0, -1))"
   ]
  },
  {
   "cell_type": "code",
   "execution_count": null,
   "id": "2f2ee23a",
   "metadata": {},
   "outputs": [
    {
     "data": {
      "text/plain": [
       "[0, 1, 2, 3, 4, 5, 6, 7, 8, 9]"
      ]
     },
     "metadata": {},
     "output_type": "display_data"
    }
   ],
   "source": [
    "list(range(0, 10, 1))"
   ]
  },
  {
   "cell_type": "code",
   "execution_count": null,
   "id": "ab8bde2f",
   "metadata": {},
   "outputs": [
    {
     "name": "stdout",
     "output_type": "stream",
     "text": [
      "0\n",
      "1\n",
      "2\n",
      "3\n",
      "4\n",
      "5\n",
      "6\n",
      "7\n",
      "8\n",
      "9\n"
     ]
    }
   ],
   "source": [
    "# 위와 동일한 구조\n",
    "for i in range(10):\n",
    "    print(i)"
   ]
  },
  {
   "cell_type": "markdown",
   "id": "8c0d5671",
   "metadata": {},
   "source": [
    "## Module"
   ]
  },
  {
   "cell_type": "code",
   "execution_count": null,
   "id": "9cd9a0d9",
   "metadata": {},
   "outputs": [
    {
     "name": "stdout",
     "output_type": "stream",
     "text": [
      "5.0\n",
      "9.0\n",
      "30.0\n"
     ]
    }
   ],
   "source": [
    "import temp as tmp\n",
    "\n",
    "print(tmp.a)\n",
    "print(tmp.b)\n",
    "print(tmp.convert_to_celcius(86))"
   ]
  },
  {
   "cell_type": "code",
   "execution_count": null,
   "id": "b75ccdff",
   "metadata": {},
   "outputs": [],
   "source": [
    "a = [1, 2, 3, 4]"
   ]
  },
  {
   "cell_type": "code",
   "execution_count": null,
   "id": "a6e8430e",
   "metadata": {},
   "outputs": [
    {
     "data": {
      "text/plain": [
       "list"
      ]
     },
     "metadata": {},
     "output_type": "display_data"
    }
   ],
   "source": [
    "type(a) #data type 반환"
   ]
  },
  {
   "cell_type": "code",
   "execution_count": null,
   "id": "93b90233",
   "metadata": {},
   "outputs": [
    {
     "data": {
      "text/plain": [
       "2"
      ]
     },
     "metadata": {},
     "output_type": "display_data"
    }
   ],
   "source": [
    "a[1] # 1은 앞에서 두 번째"
   ]
  },
  {
   "cell_type": "code",
   "execution_count": null,
   "id": "388c3afe",
   "metadata": {},
   "outputs": [
    {
     "data": {
      "text/plain": [
       "4"
      ]
     },
     "metadata": {},
     "output_type": "display_data"
    }
   ],
   "source": [
    "a[-1] # 마이너스는 뒤에서 첫 번째"
   ]
  },
  {
   "cell_type": "code",
   "execution_count": null,
   "id": "1c552568",
   "metadata": {},
   "outputs": [],
   "source": [
    "def P1(input_list: list[int])-> int: #return 값도 int\n",
    "    # return summation value -> initialize\n",
    "    pos_sum = 0 # 아무 값도 없다고 초기화\n",
    "    \n",
    "    # for each value in the list\n",
    "    for i in input_list:\n",
    "        # check each value, positive or not\n",
    "        if i in input_list:\n",
    "            if i>0:\n",
    "                pos_sum = pos_sum + 1 # pos_sum += 1\n",
    "            # otherwise, nothing\n",
    "    \n",
    "    # return\n",
    "    return pos_sum"
   ]
  },
  {
   "cell_type": "code",
   "execution_count": null,
   "id": "339d81bf",
   "metadata": {},
   "outputs": [
    {
     "data": {
      "text/plain": [
       "1"
      ]
     },
     "metadata": {},
     "output_type": "display_data"
    }
   ],
   "source": [
    "P1([-1, -2, 3])"
   ]
  },
  {
   "cell_type": "markdown",
   "id": "6495315b",
   "metadata": {},
   "source": [
    "### "
   ]
  },
  {
   "cell_type": "markdown",
   "id": "41290070",
   "metadata": {},
   "source": [
    "### Exercise1: 리스트 안의 양수(positive number) 들만 찾아서 더하는 함수*"
   ]
  },
  {
   "cell_type": "code",
   "execution_count": null,
   "id": "a10b30e8",
   "metadata": {},
   "outputs": [],
   "source": [
    "#* 수업 답안\n",
    "def P1(input_list: list[int])-> int:\n",
    "    # return summation value ->initialize\n",
    "    pos_sum = 0\n",
    "\n",
    "    # for each value in the list\n",
    "    for i in input_list:\n",
    "        print(\"current value: \", i)\n",
    "        # check each value, postive or not\n",
    "        if i>0:\n",
    "            print(\"    positive value: \", i)\n",
    "            # add up\n",
    "            pos_sum = pos_sum + i # cf) pos_sum + 1을 하면, 양수의 '개수'를 더하는 코드가 됨\n",
    "        \n",
    "        # otherwise, nothing\n",
    "\n",
    "    # return\n",
    "    return pos_sum"
   ]
  },
  {
   "cell_type": "code",
   "execution_count": 12,
   "id": "315db09e-2dea-49c4-a081-16e79ca11e46",
   "metadata": {},
   "outputs": [
    {
     "name": "stdout",
     "output_type": "stream",
     "text": [
      "current value:  1\n",
      "    positive value:  1\n",
      "current value:  -2\n",
      "current value:  -3\n"
     ]
    },
    {
     "data": {
      "text/plain": [
       "1"
      ]
     },
     "execution_count": 12,
     "metadata": {},
     "output_type": "execute_result"
    }
   ],
   "source": [
    "P1([1, -2, -3])"
   ]
  },
  {
   "cell_type": "markdown",
   "id": "0276ccbd",
   "metadata": {},
   "source": [
    "### Exercise 2: print starts\n",
    "- Task: Make a function that print stars as below.\n",
    "(1) star_flag(n) (n is a positive number)\n",
    "\n",
    "```\n",
    "def star_flag(n: int) -> None:\n",
    "\n",
    "```\n",
    "\n",
    "\\*\n",
    "\n",
    "\\*\\*\n",
    "\n",
    "\\*\\*\\*\n",
    "\n",
    "\\*\\*\n",
    "\n",
    "\\*\n",
    "\n",
    "cf) return 값이 없을 때 none 사용"
   ]
  },
  {
   "cell_type": "code",
   "execution_count": null,
   "id": "995c53e9-373d-4df4-97e1-98b38ccf320c",
   "metadata": {},
   "outputs": [],
   "source": [
    "#* 수업 답안\n",
    "def star_flag(n: int)->None:\n",
    "    for i in range(n): # i는 현재 돌고 있는 턴, n은 별의 최대 개수.i=0부터 시작, 별 개수는 n에 맞춰야 함\n",
    "        print(\"*\"*(i+1)) # return 대신 print\n",
    "    for i in range(n-1,0,-1):\n",
    "        print(\"*\"*i)\n",
    "    \n",
    "    # for문 두 개가 따로 돌기 때문에 상대적으로 덜 복잡"
   ]
  },
  {
   "cell_type": "code",
   "execution_count": 46,
   "id": "627d9994-89a7-4fea-9d95-d2631e325148",
   "metadata": {},
   "outputs": [
    {
     "name": "stdout",
     "output_type": "stream",
     "text": [
      "*\n",
      "**\n",
      "***\n",
      "****\n",
      "*****\n",
      "****\n",
      "***\n",
      "**\n",
      "*\n"
     ]
    }
   ],
   "source": [
    "star_flag(5)"
   ]
  },
  {
   "cell_type": "code",
   "execution_count": null,
   "id": "a5ddecd2",
   "metadata": {},
   "outputs": [],
   "source": [
    "def star_flag(n: int)->None:\n",
    "    for i in range(n*2):\n",
    "        if i < n:\n",
    "            print(\"*\"*(i+1))\n",
    "        elif i == n:\n",
    "            continue\n",
    "        else:\n",
    "            print(\"*\"*(n - i%n)) # i%n = 0에서 n-1까지 반복되는 패턴 만들어줌"
   ]
  },
  {
   "cell_type": "code",
   "execution_count": null,
   "id": "66afe85b",
   "metadata": {},
   "outputs": [
    {
     "name": "stdout",
     "output_type": "stream",
     "text": [
      "*\n",
      "**\n",
      "***\n",
      "****\n",
      "*****\n",
      "****\n",
      "***\n",
      "**\n",
      "*\n"
     ]
    }
   ],
   "source": [
    "star_flag(5)"
   ]
  }
 ],
 "metadata": {
  "kernelspec": {
   "display_name": "basic-computing",
   "language": "python",
   "name": "python3"
  },
  "language_info": {
   "codemirror_mode": {
    "name": "ipython",
    "version": 3
   },
   "file_extension": ".py",
   "mimetype": "text/x-python",
   "name": "python",
   "nbconvert_exporter": "python",
   "pygments_lexer": "ipython3",
   "version": "3.10.18"
  }
 },
 "nbformat": 4,
 "nbformat_minor": 5
}
