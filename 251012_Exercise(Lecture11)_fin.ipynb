{
 "cells": [
  {
   "cell_type": "markdown",
   "id": "d59a23cb",
   "metadata": {},
   "source": [
    "# Lecture 11: Recursion, Merge sort"
   ]
  },
  {
   "cell_type": "markdown",
   "id": "30b4ee4d",
   "metadata": {
    "id": "30b4ee4d"
   },
   "source": [
    "# Q1. Pascal's Triangle"
   ]
  },
  {
   "attachments": {},
   "cell_type": "markdown",
   "id": "7d527a27",
   "metadata": {
    "id": "7d527a27"
   },
   "source": [
    "### Q1. Create a function for calculating a list of row index of the Pascal’s triangle"
   ]
  },
  {
   "cell_type": "code",
   "execution_count": null,
   "id": "3f00e888",
   "metadata": {},
   "outputs": [],
   "source": [
    "from typing import List"
   ]
  },
  {
   "cell_type": "code",
   "execution_count": null,
   "id": "8e5bd645",
   "metadata": {},
   "outputs": [],
   "source": [
    "def Pascal(n: int) -> List[int]:\n",
    "    # Write your code\n",
    "    return answer"
   ]
  },
  {
   "cell_type": "code",
   "execution_count": null,
   "id": "3dc51fd8",
   "metadata": {},
   "outputs": [
    {
     "data": {
      "text/plain": [
       "[1, 4, 6, 4, 1]"
      ]
     },
     "metadata": {},
     "output_type": "display_data"
    }
   ],
   "source": [
    "Pascal(4)"
   ]
  },
  {
   "cell_type": "markdown",
   "id": "dd33ff4d",
   "metadata": {},
   "source": [
    "### Q1. 풀이\n",
    "파스칼의 삼각형: 맨 꼭대기에서 시작해서 숫자들을 삼각형으로 쌓아가는 구조\n",
    "- 규칙:\n",
    "    - 맨 바깥쪽은 항상 1.\n",
    "    - 안쪽 값은 “바로 위 두 수의 합”\n",
    "\n",
    "- 위에서부터 0번째 행을 쓰면:\n",
    "    - 0행: [1]\n",
    "    - 1행: [1, 1]\n",
    "    - 2행: [1, 2, 1]\n",
    "    - 3행: [1, 3, 3, 1]\n",
    "    - 4행: [1, 4, 6, 4, 1]\n",
    "\n",
    "- 수학적으로, 파스칼의 삼각형 각 행은 이항계수 (nCk)의 집합과 똑같음"
   ]
  },
  {
   "cell_type": "code",
   "execution_count": 1,
   "id": "6b416b8c",
   "metadata": {},
   "outputs": [],
   "source": [
    "from typing import List"
   ]
  },
  {
   "cell_type": "code",
   "execution_count": null,
   "id": "b479e049",
   "metadata": {},
   "outputs": [],
   "source": [
    "# 풀이 1: 강의자료\n",
    "def Pascal(n: int) -> List[int]:\n",
    "    # base case: conditional statement\n",
    "    if n == 0:\n",
    "        return [1]\n",
    "    elif n == 1:\n",
    "        return [1, 1]\n",
    "\n",
    "    # otherwise, recursive case       \n",
    "    prev_output = Pascal(n-1)\n",
    "    curr_output = [1]\n",
    "    for i in range(len(prev_output)-1):\n",
    "        curr_output.append(prev_output[i] + prev_output[i+1])    \n",
    "    curr_output.append(1)\n",
    "    return curr_output"
   ]
  },
  {
   "cell_type": "markdown",
   "id": "ec078837",
   "metadata": {},
   "source": [
    "<코드 설명>\n",
    "- Pascal(n: int) -> List[int]: pascal_row 함수는 n이라는 정수를 입력으로 받아서(매개변수), 정수로 이루어진 리스트를 반환한다(return 값))\n",
    "- base case: 여기서는 0번째, 1번째 행을 직접 반환하고 끝남\n",
    "- prev_output: 바로 위 행을 구하기 위해 자기 자신을 호출\n",
    "- curr_output: 파스칼의 삼각형은 항상 양끝이 1로 시작하니까, 일단 [1]을 넣고 시작\n",
    "- for문: 바로 위 행(prev_output)을 보고, 인접한 두 수의 합을 현재 행에 더해줌\n",
    "    - range(len(prev_output) - 1): 마지막 직전까지만 돌아야 함\n",
    "    - 인덱스 번호: 서로 붙어 있는 수 [i], [i+1]를 더해서 새 행의 중간값 만듦"
   ]
  },
  {
   "cell_type": "code",
   "execution_count": 6,
   "id": "d73ff892",
   "metadata": {},
   "outputs": [
    {
     "name": "stdout",
     "output_type": "stream",
     "text": [
      "[1]\n",
      "[1, 1]\n",
      "[1, 2, 1]\n",
      "[1, 3, 3, 1]\n",
      "[1, 4, 6, 4, 1]\n",
      "[1, 5, 10, 10, 5, 1]\n",
      "[1, 6, 15, 20, 15, 6, 1]\n",
      "[1, 7, 21, 35, 35, 21, 7, 1]\n",
      "[1, 8, 28, 56, 70, 56, 28, 8, 1]\n",
      "[1, 9, 36, 84, 126, 126, 84, 36, 9, 1]\n"
     ]
    }
   ],
   "source": [
    "for i in range(10):\n",
    "    print(Pascal(i))"
   ]
  },
  {
   "cell_type": "code",
   "execution_count": null,
   "id": "24bdf330",
   "metadata": {},
   "outputs": [],
   "source": [
    "# 풀이 2: GPT 풀이법 (주제랑 안맞는듯..)\n",
    "def Pascal(n: int) -> List[int]:\n",
    "    \n",
    "    if n < 0:\n",
    "        raise ValueError(\"n must be >= 0\")\n",
    "    \n",
    "    answer = []\n",
    "    val = 1 #C(n, 0)\n",
    "    \n",
    "    for k in range(n + 1):\n",
    "        answer.append(val)\n",
    "        # next val = C(n, k+1) from C(n, k)\n",
    "        val = val*(n-k)//(k+1) if k < n else val ## A if 조건 else B\n",
    "\n",
    "    \n",
    "    return answer"
   ]
  },
  {
   "cell_type": "markdown",
   "id": "5cec3ceb",
   "metadata": {},
   "source": [
    "<코드 설명 - 세모>\n",
    "- Pascal(n: int) -> List[int]: pascal_row 함수는 n이라는 정수를 입력으로 받아서(매개변수), 정수로 이루어진 리스트를 반환한다(return 값))\n",
    "- n: 매개변수 - 함수가 실행될 때 입력값이 들어가는 자리\n",
    "- k: 지역 변수 - 함수 안에서 사용, 0~n까지 순서대로 가짐\n",
    "- val: 지역 변수 - 수 안에서 계산 과정 중에 만든 “임시 저장용 변수, 계속 업데이트 됨"
   ]
  },
  {
   "cell_type": "code",
   "execution_count": 3,
   "id": "a7c3aa06",
   "metadata": {},
   "outputs": [
    {
     "data": {
      "text/plain": [
       "[1, 4, 6, 4, 1]"
      ]
     },
     "execution_count": 3,
     "metadata": {},
     "output_type": "execute_result"
    }
   ],
   "source": [
    "Pascal(4)"
   ]
  },
  {
   "cell_type": "markdown",
   "id": "70163ceb",
   "metadata": {
    "id": "70163ceb"
   },
   "source": [
    "# Q2. Merge Sort"
   ]
  },
  {
   "cell_type": "markdown",
   "id": "da9c09ab",
   "metadata": {
    "id": "da9c09ab"
   },
   "source": [
    "### Q2. Create a function for outputting a list and a value from the merge sort in the order"
   ]
  },
  {
   "cell_type": "code",
   "execution_count": 309,
   "id": "2b3e28f5",
   "metadata": {
    "id": "2b3e28f5",
    "outputId": "8e403c29-fb97-4868-a9bf-60fb2433c042"
   },
   "outputs": [],
   "source": [
    "def mergeSortHelp(L:list, first:int, last:int) -> None:\n",
    "    if first == last: # Base Case\n",
    "        return\n",
    "    else: # Recursive Case\n",
    "        # Step 1 : Divide it into two sublists\n",
    "        mid = first + (last - first) // 2\n",
    "        # Step 2 : Sort the two sublists\n",
    "        mergeSortHelp(L, first, mid)\n",
    "        mergeSortHelp(L, mid+1, last)\n",
    "        # Step 3 : Merge the two \"sorted\" sublists\n",
    "        merge(L, first, mid, last)\n",
    "        \n",
    "def merge(L:list, first:int, mid:int, last:int) -> None:\n",
    "    # Write your code"
   ]
  },
  {
   "cell_type": "code",
   "execution_count": 312,
   "id": "8678ffc3",
   "metadata": {},
   "outputs": [
    {
     "name": "stdout",
     "output_type": "stream",
     "text": [
      "[4, 5, 1, 3, 2] 4\n",
      "[4, 5, 1, 3, 2] 5\n",
      "[1, 5, 1, 3, 2] 1\n",
      "[1, 4, 1, 3, 2] 4\n",
      "[1, 4, 5, 3, 2] 5\n",
      "[1, 4, 5, 2, 2] 2\n",
      "[1, 4, 5, 2, 3] 3\n",
      "[1, 4, 5, 2, 3] 1\n",
      "[1, 2, 5, 2, 3] 2\n",
      "[1, 2, 3, 2, 3] 3\n",
      "[1, 2, 3, 4, 3] 4\n",
      "[1, 2, 3, 4, 5] 5\n"
     ]
    }
   ],
   "source": [
    "L = [4, 5, 1, 3, 2]\n",
    "mergeSortHelp(L, 0, 4)"
   ]
  },
  {
   "cell_type": "markdown",
   "id": "eb8fef0d",
   "metadata": {},
   "source": [
    "### Q2. 풀이"
   ]
  },
  {
   "cell_type": "code",
   "execution_count": 7,
   "id": "e74507e5",
   "metadata": {},
   "outputs": [],
   "source": [
    "# 풀이1: 강의 자료\n",
    "def mergeSortHelp(L:list, first:int, last:int) -> None:\n",
    "    if first == last: # Base Case\n",
    "        return\n",
    "    else: # Recursive Case\n",
    "        # Step 1 : Divide it into two sublists\n",
    "        mid = first + (last - first) // 2\n",
    "        # Step 2 : Sort the two sublists\n",
    "        mergeSortHelp(L, first, mid)\n",
    "        mergeSortHelp(L, mid+1, last)\n",
    "        # Step 3 : Merge the two \"sorted\" sublists\n",
    "        merge(L, first, mid, last)\n",
    "\n",
    "        \n",
    "def merge(L:list, first:int, mid:int, last:int) -> None:\n",
    "    # get current lists (left, write)\n",
    "    half1_list = L[first:(mid+1)]\n",
    "    half2_list = L[(mid+1):(last+1)]\n",
    "\n",
    "    # set start point\n",
    "    i = first\n",
    "    h1 = 0 \n",
    "    h2 = 0\n",
    "\n",
    "    # merge by comparing\n",
    "    while h1 < len(half1_list) and h2 < len(half2_list):\n",
    "        # if the left one is larger than the right one\n",
    "        if half1_list[h1] <= half2_list[h2]:\n",
    "            # assign and move\n",
    "            L[i] = half1_list[h1]\n",
    "            h1 += 1\n",
    "        else:\n",
    "            # assign and move\n",
    "            L[i] = half2_list[h2]\n",
    "            h2 += 1\n",
    "        print(L, L[i])\n",
    "        # move\n",
    "        i += 1\n",
    "    \n",
    "    # remaining\n",
    "    if h1 < len(half1_list):\n",
    "        for j in range(h1, len(half1_list)):\n",
    "            L[i] = half1_list[j]\n",
    "            print(L, L[i])\n",
    "            i += 1\n",
    "    elif h2 < len(half2_list):\n",
    "        for j in range(h2, len(half2_list)):\n",
    "            L[i] = half2_list[j]\n",
    "            print(L, L[i])\n",
    "            i += 1        "
   ]
  },
  {
   "cell_type": "code",
   "execution_count": 8,
   "id": "c8b055b0",
   "metadata": {},
   "outputs": [
    {
     "name": "stdout",
     "output_type": "stream",
     "text": [
      "[4, 5, 1, 3, 2] 4\n",
      "[4, 5, 1, 3, 2] 5\n",
      "[1, 5, 1, 3, 2] 1\n",
      "[1, 4, 1, 3, 2] 4\n",
      "[1, 4, 5, 3, 2] 5\n",
      "[1, 4, 5, 2, 2] 2\n",
      "[1, 4, 5, 2, 3] 3\n",
      "[1, 4, 5, 2, 3] 1\n",
      "[1, 2, 5, 2, 3] 2\n",
      "[1, 2, 3, 2, 3] 3\n",
      "[1, 2, 3, 4, 3] 4\n",
      "[1, 2, 3, 4, 5] 5\n"
     ]
    }
   ],
   "source": [
    "L = [4, 5, 1, 3, 2]\n",
    "mergeSortHelp(L, 0, 4)"
   ]
  },
  {
   "cell_type": "code",
   "execution_count": null,
   "id": "792c52c3",
   "metadata": {},
   "outputs": [],
   "source": []
  }
 ],
 "metadata": {
  "colab": {
   "provenance": []
  },
  "kernelspec": {
   "display_name": "basic-computing",
   "language": "python",
   "name": "python3"
  },
  "language_info": {
   "codemirror_mode": {
    "name": "ipython",
    "version": 3
   },
   "file_extension": ".py",
   "mimetype": "text/x-python",
   "name": "python",
   "nbconvert_exporter": "python",
   "pygments_lexer": "ipython3",
   "version": "3.10.18"
  }
 },
 "nbformat": 4,
 "nbformat_minor": 5
}
