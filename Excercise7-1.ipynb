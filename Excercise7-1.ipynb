{
 "cells": [
  {
   "cell_type": "markdown",
   "id": "37da5851",
   "metadata": {},
   "source": [
    "# Practice 1. Café menu\n",
    "\n",
    "Write two functions to read a cafe's menu from a text file (menu.txt) and return a list of menu.\n",
    "\n",
    "* menu - returns list of lists\n",
    "* reverse_menu - returns a list of strings in reverse order"
   ]
  },
  {
   "cell_type": "code",
   "execution_count": 1,
   "id": "80d140a0",
   "metadata": {},
   "outputs": [],
   "source": [
    "from typing import TextIO, List"
   ]
  },
  {
   "cell_type": "code",
   "execution_count": 22,
   "id": "8a29fdd4",
   "metadata": {},
   "outputs": [],
   "source": [
    "def menu(filename : str) -> List[List]:\n",
    "    out_list = []\n",
    "    try:\n",
    "        with open(filename, \"r\") as f:\n",
    "            content = f.readlines()\n",
    "            for l in content:\n",
    "                word_list = l.split()\n",
    "                out_list.append(word_list)\n",
    "    except FileNotFoundError:\n",
    "        print(\"파일을 찾을 수 없습니다.\")\n",
    "\n",
    "    return out_list"
   ]
  },
  {
   "cell_type": "code",
   "execution_count": 24,
   "id": "a5a3a73a-606a-40ac-b5a6-09a68d437dfc",
   "metadata": {},
   "outputs": [],
   "source": [
    "def menu(filename : str) -> List[List]:\n",
    "    out_list = []\n",
    "    try:\n",
    "        with open(filename, \"r\") as f:\n",
    "            for line in f:\n",
    "                out_list.append(line.split())\n",
    "    except FileNotFoundError:\n",
    "        print(\"파일을 찾을 수 없습니다.\")\n",
    "\n",
    "    return out_list"
   ]
  },
  {
   "cell_type": "code",
   "execution_count": 25,
   "id": "2301df84",
   "metadata": {},
   "outputs": [
    {
     "name": "stdout",
     "output_type": "stream",
     "text": [
      "Americano 3.66 4.11 4.56\n",
      "\n",
      "CafeLatte 4.11 4.56 5.00\n",
      "\n",
      "CafeMocha 4.55 5.00 5.45\n",
      "\n",
      "DecafeCaffeLatte 4.38 4.82\n"
     ]
    },
    {
     "data": {
      "text/plain": [
       "[['Americano', '3.66', '4.11', '4.56'],\n",
       " ['CafeLatte', '4.11', '4.56', '5.00'],\n",
       " ['CafeMocha', '4.55', '5.00', '5.45'],\n",
       " ['DecafeCaffeLatte', '4.38', '4.82']]"
      ]
     },
     "execution_count": 25,
     "metadata": {},
     "output_type": "execute_result"
    }
   ],
   "source": [
    "menu('menu.txt')"
   ]
  },
  {
   "cell_type": "code",
   "execution_count": 34,
   "id": "b153071e",
   "metadata": {},
   "outputs": [],
   "source": [
    "def reverse_menu(filename: str) -> list:\n",
    "    reverse_list = []\n",
    "    try:\n",
    "        with open(filename, \"r\") as f:\n",
    "            reverse_list = f.readlines()\n",
    "            reverse_list = reverse_list[::-1]\n",
    "            for i, line in enumerate(reverse_list):\n",
    "                reverse_list[i] = line.strip()\n",
    "    except FileNotFoundError:\n",
    "        print(\"파일을 찾을 수 없습니다.\")\n",
    "    return reverse_list"
   ]
  },
  {
   "cell_type": "code",
   "execution_count": 35,
   "id": "501bc6d0",
   "metadata": {},
   "outputs": [
    {
     "data": {
      "text/plain": [
       "['DecafeCaffeLatte 4.38 4.82',\n",
       " 'CafeMocha 4.55 5.00 5.45',\n",
       " 'CafeLatte 4.11 4.56 5.00',\n",
       " 'Americano 3.66 4.11 4.56']"
      ]
     },
     "execution_count": 35,
     "metadata": {},
     "output_type": "execute_result"
    }
   ],
   "source": [
    "reverse_menu('menu.txt')"
   ]
  },
  {
   "cell_type": "markdown",
   "id": "36383641",
   "metadata": {},
   "source": [
    "# Practice 2. Find the largest number\n",
    "\n",
    "Suppose the file (file_practice.txt) contains numbers ending with ‘.'   and comments written after hash symbol(#).  \n",
    "Write a code that finds the largest number in the file.\n",
    "\n",
    "* Ignore any part of the line commented with ‘#’."
   ]
  },
  {
   "cell_type": "code",
   "execution_count": 37,
   "id": "59c8bdda",
   "metadata": {},
   "outputs": [],
   "source": [
    "from typing import TextIO"
   ]
  },
  {
   "cell_type": "code",
   "execution_count": 76,
   "id": "cd14198f",
   "metadata": {},
   "outputs": [],
   "source": [
    "def findLargestNum(filename : str) -> int:\n",
    "    total_num_list = []\n",
    "    try:\n",
    "        with open(filename, \"r\") as f:\n",
    "            for line in f:\n",
    "                if line.startswith(\"#\"):\n",
    "                    continue \n",
    "                line = line.split(\"#\")[0]\n",
    "                num_list = line.split()                \n",
    "                for num in num_list:\n",
    "                    total_num_list.append(int(num.strip(\".\")))\n",
    "    except FileNotFoundError:\n",
    "        print(\"파일을 찾을 수 없습니다.\")\n",
    "            \n",
    "    return max(total_num_list)"
   ]
  },
  {
   "cell_type": "code",
   "execution_count": 77,
   "id": "bae50308",
   "metadata": {},
   "outputs": [
    {
     "data": {
      "text/plain": [
       "6721"
      ]
     },
     "execution_count": 77,
     "metadata": {},
     "output_type": "execute_result"
    }
   ],
   "source": [
    "findLargestNum('file_practice.txt')"
   ]
  },
  {
   "cell_type": "code",
   "execution_count": null,
   "id": "0e1fc205-49c7-4cd7-88ec-86e7194cf3a2",
   "metadata": {},
   "outputs": [],
   "source": []
  }
 ],
 "metadata": {
  "kernelspec": {
   "display_name": "Python 3 (ipykernel)",
   "language": "python",
   "name": "python3"
  },
  "language_info": {
   "codemirror_mode": {
    "name": "ipython",
    "version": 3
   },
   "file_extension": ".py",
   "mimetype": "text/x-python",
   "name": "python",
   "nbconvert_exporter": "python",
   "pygments_lexer": "ipython3",
   "version": "3.12.7"
  }
 },
 "nbformat": 4,
 "nbformat_minor": 5
}
