{
 "cells": [
  {
   "cell_type": "markdown",
   "metadata": {},
   "source": [
    "# Linear Search : find the index"
   ]
  },
  {
   "cell_type": "code",
   "execution_count": 5,
   "metadata": {},
   "outputs": [
    {
     "name": "stdout",
     "output_type": "stream",
     "text": [
      "[83, 11, 95, 21, 78, 65, 80, 0, 69, 61, 90, 77, 81, 28, 5, 73, 52, 45, 66, 42, 62, 86, 75, 63, 19, 35, 37, 68, 49, 2, 70, 72, 3, 1, 16, 99, 29, 7, 48, 10, 24, 30, 89, 51, 34, 12, 57, 43, 58, 31, 32, 88, 38, 27, 26, 79, 93, 71, 54, 96, 25, 85, 44, 67, 6, 9, 17, 13, 23, 84, 39, 59, 4, 46, 97, 41, 98, 94, 92, 15, 87, 74, 82, 20, 22, 50, 64, 33, 53, 18, 55, 56, 40, 14, 76, 60, 36, 91, 8, 47]\n"
     ]
    }
   ],
   "source": [
    "## 답지\n",
    "# make a random array\n",
    "import numpy as np\n",
    "import random\n",
    "listSize = 100\n",
    "nums = list(range(listSize))\n",
    "# print(nums) -> 정렬된 상태로 출력\n",
    "random.shuffle(nums)\n",
    "print(nums) # -> 정렬되지 않은 상태"
   ]
  },
  {
   "cell_type": "code",
   "execution_count": null,
   "metadata": {},
   "outputs": [],
   "source": [
    "## 답지\n",
    "# complete linear search function\n",
    "def find_idx(L:list, num:int): # L: 탐색할 리스트, num: 찾고 싶은 target value\n",
    "    # for i in range(len(L)):\n",
    "    for i, val in enumerate(L): # enumerate: iterable(리스트, 튜플, 문자열 등)을 순회하면서 매번 (index, value) 쌍을 만들어주는 파이썬 내장함수\n",
    "        if val == num:\n",
    "            return i\n",
    "    return -1 "
   ]
  },
  {
   "cell_type": "code",
   "execution_count": null,
   "metadata": {},
   "outputs": [],
   "source": [
    "# 방법1: enumerate 사용해서 index, value 쌍 순회\n",
    "def find_idx(L:list, num:int):\n",
    "    for i, val in enumerate(L):\n",
    "        if val == num: # target인 num과, 리스트 값 val이 일치하는 구간에서 index number i 반환\n",
    "            return i\n",
    "    return -1"
   ]
  },
  {
   "cell_type": "code",
   "execution_count": null,
   "metadata": {},
   "outputs": [],
   "source": [
    "#* 방법2: 일반적인 for문에서 len(L) 사용\n",
    "def find_idx_2(L: list, num: int):\n",
    "    for i in range(len(L)):\n",
    "        if L[i] == num:\n",
    "            return i\n",
    "    return -1"
   ]
  },
  {
   "cell_type": "code",
   "execution_count": null,
   "metadata": {},
   "outputs": [
    {
     "name": "stdout",
     "output_type": "stream",
     "text": [
      "\n",
      "값 42은 리스트의 인덱스 19에 있습니다.\n"
     ]
    }
   ],
   "source": [
    "# test code\n",
    "target = 42\n",
    "result = find_idx_2(nums, target)\n",
    "\n",
    "if result != -1:\n",
    "    print(f\"\\n값 {target}은 리스트의 인덱스 {result}에 있습니다.\")\n",
    "else:\n",
    "    print(f\"\\n값 {target}은 리스트에 없습니다.\")"
   ]
  },
  {
   "cell_type": "markdown",
   "metadata": {},
   "source": [
    "### Latency 측정"
   ]
  },
  {
   "cell_type": "code",
   "execution_count": null,
   "metadata": {},
   "outputs": [
    {
     "name": "stdout",
     "output_type": "stream",
     "text": [
      "85\n",
      "Latency: 0.082763671875 ms\n"
     ]
    }
   ],
   "source": [
    "import time\n",
    "\n",
    "start = time.time()*1000\n",
    "print(find_idx(nums, 50)) #find_idx는 직접 만든 파이썬 함수여서 느림\n",
    "# print(nums.index(50)) -> 리스트의 내장 메소드이므로, C 코드여서 상대적으로 빠름\n",
    "end = time.time()*1000\n",
    "\n",
    "print(\"Latency:\", end-start, \"ms\")"
   ]
  },
  {
   "cell_type": "code",
   "execution_count": null,
   "metadata": {},
   "outputs": [
    {
     "name": "stdout",
     "output_type": "stream",
     "text": [
      "Latency: 0.002451171875 ms\n"
     ]
    }
   ],
   "source": [
    "# 답지: 리스트 안의 모든 원소 돌면서 평균 latency 계산\n",
    "import time\n",
    "total_time_list = []\n",
    "for val in nums:\n",
    "    start = time.time()*1000 # time 모듈 안의 time 함수 (현재 시각을 숫자로 반환하는 함수)\n",
    "    idx = find_idx(nums, val)\n",
    "    end = time.time()*1000\n",
    "    total_time = end-start\n",
    "    total_time_list.append(total_time)\n",
    "\n",
    "sum_time = sum(total_time_list)\n",
    "length = len(total_time_list)\n",
    "\n",
    "print(\"Latency:\", sum_time/length, \"ms\")"
   ]
  },
  {
   "cell_type": "code",
   "execution_count": null,
   "metadata": {},
   "outputs": [
    {
     "name": "stdout",
     "output_type": "stream",
     "text": [
      "Latency: 0.05322265625 ms\n"
     ]
    }
   ],
   "source": [
    "# 답지: 단일 실행\n",
    "nums = [3, 3, 4, 5, 6, 7]  # nums는 탐색 대상 전체 리스트, num이 target 값\n",
    "val = 7\n",
    "\n",
    "import time\n",
    "start = time.time()*1000\n",
    "idx = find_idx(nums, val) # 원칙적으로 nums, val 모두 사전 정의 되어있어야 함.\n",
    "end = time.time()*1000\n",
    "\n",
    "print(\"Latency:\", end - start, \"ms\")"
   ]
  },
  {
   "cell_type": "markdown",
   "metadata": {},
   "source": [
    "### 강의 자료에 나온 코드들"
   ]
  },
  {
   "cell_type": "code",
   "execution_count": null,
   "metadata": {},
   "outputs": [],
   "source": [
    "#* Linear Search - for loop -> 요거 위에 나옴!\n",
    "from typing import Any\n",
    "def linear_search_for(L: list, value: Any) -> int:\n",
    "    for i in range(len(L)):\n",
    "        if L[i] == value:\n",
    "            return i\n",
    "    return -1"
   ]
  },
  {
   "cell_type": "code",
   "execution_count": null,
   "metadata": {},
   "outputs": [],
   "source": [
    "# Linear Search - while loop\n",
    "from typing import Any\n",
    "def linear_search_while(L: list, value: Any) -> int:\n",
    "    i = 0\n",
    "    while i < len(L) and L[i] != value: # 탐색 진행\n",
    "        i = i + 1 # index 번호 +1\n",
    "    if i == len(L): # 루프가 끝난 뒤 실행\n",
    "        return -1\n",
    "    else: # 루프가 중간에 멈춤 = L[i] == value 찾음\n",
    "        return i"
   ]
  },
  {
   "cell_type": "code",
   "execution_count": null,
   "metadata": {},
   "outputs": [],
   "source": [
    "# Linear Search - sentinel\n",
    "from typing import Any\n",
    "def linear_search_sentinel(L: list, value: Any) -> int:\n",
    "    L.append(value)         # sentinel 추가\n",
    "    i = 0\n",
    "    while L[i] != value:    # 종료조건 단순화\n",
    "        i = i + 1\n",
    "    L.pop()                 # sentinel 제거\n",
    "    if i == len(L):\n",
    "        return -1\n",
    "    else:\n",
    "        return i"
   ]
  },
  {
   "cell_type": "code",
   "execution_count": null,
   "metadata": {},
   "outputs": [],
   "source": [
    "# Binary Search\n",
    "\n",
    "def binary_search(L: list, v: Any) -> int:\n",
    "    start, end = 0, len(L) - 1 # 검색 구간의 시작과 끝 인덱스\n",
    "    while start != end + 1: # 탐색 구간이 남아 있는 동안 반복\n",
    "        mid = (start + end) // 2 # 가운데 인덱스(mid) 계산\n",
    "        if L[mid] < v:\n",
    "            start = mid + 1 # 찾는 값이 mid보다 크면 오른쪽 탐색 (왼쪽 반 버림)\n",
    "        else:\n",
    "            end = mid - 1 # 찾는 값이 mid보다 작거나 같으면 왼쪽 탐색 (오른쪽 반 버림)\n",
    "    if start < len(L) and L[start] == v:\n",
    "        return start # 값 찾았을 경우 인덱스 반환\n",
    "    else:\n",
    "        return -1 # 없으면 -1 반환"
   ]
  },
  {
   "cell_type": "code",
   "execution_count": null,
   "metadata": {},
   "outputs": [],
   "source": [
    "# Selection Sort\n",
    "# 입력: L (정렬할 리스트)\n",
    "# 출력: 반환값 없음 (리스트 L 자체가 정렬됨, 즉 \"제자리 정렬 in-place\")\n",
    "\n",
    "def selection_sort(L: list) -> None:\n",
    "    for i in range(len(L)):\n",
    "        smallest = i # 가장 작은 원소 인덱스 저장 변수\n",
    "        \n",
    "        # i 이후의 원소를 순회하며 더 작은 값이 있는지 탐색\n",
    "        for j in range(i+1, len(L)):\n",
    "            if L[j] < L[smallest]:\n",
    "                smallest = j # 더 작은 값 발견 시 인덱스 갱신\n",
    "        L[i], L[smallest] = L[smallest], L[i]  # swap"
   ]
  },
  {
   "cell_type": "code",
   "execution_count": null,
   "metadata": {},
   "outputs": [],
   "source": [
    "# Insertion Sort\n",
    "def insertion_sort(L: list) -> None:\n",
    "    for i in range(1, len(L)):\n",
    "        for j in range(i, 0, -1): # j를 i -> 1까지 거꾸로 움직이며 현재 값 L[j]를 알맞은 위치로 이동시킴\n",
    "            if L[j-1] > L[j]: \n",
    "                L[j-1], L[j] = L[j], L[j-1] # swap\n",
    "            else:\n",
    "                break"
   ]
  }
 ],
 "metadata": {
  "kernelspec": {
   "display_name": "basic-computing",
   "language": "python",
   "name": "python3"
  },
  "language_info": {
   "codemirror_mode": {
    "name": "ipython",
    "version": 3
   },
   "file_extension": ".py",
   "mimetype": "text/x-python",
   "name": "python",
   "nbconvert_exporter": "python",
   "pygments_lexer": "ipython3",
   "version": "3.10.18"
  }
 },
 "nbformat": 4,
 "nbformat_minor": 4
}
