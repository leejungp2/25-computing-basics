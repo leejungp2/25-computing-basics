{
 "cells": [
  {
   "cell_type": "markdown",
   "id": "0a8a2013",
   "metadata": {},
   "source": [
    "## 퀴즈"
   ]
  },
  {
   "cell_type": "code",
   "execution_count": 9,
   "id": "2920e273",
   "metadata": {},
   "outputs": [],
   "source": [
    "#2\n",
    "import os\n",
    "# 터미널과 문법이 다름\n",
    "os.getcwd()\n",
    "# show current\n",
    "os.chdir(\"/Users/Owner/git_inside/25-2-basic-computing/files\")"
   ]
  },
  {
   "cell_type": "code",
   "execution_count": 10,
   "id": "ae8f8565",
   "metadata": {},
   "outputs": [],
   "source": [
    "import glob # 대량 파일을 효과적으로 가져오고 싶을 때 search 해주는"
   ]
  },
  {
   "cell_type": "code",
   "execution_count": 12,
   "id": "4d6198fa",
   "metadata": {},
   "outputs": [
    {
     "data": {
      "text/plain": [
       "2"
      ]
     },
     "execution_count": 12,
     "metadata": {},
     "output_type": "execute_result"
    }
   ],
   "source": [
    "txt_file_list = glob.glob(\"*.txt\") # txt 파일을 리스트로 가져옴\n",
    "len(txt_file_list)"
   ]
  },
  {
   "cell_type": "code",
   "execution_count": null,
   "id": "039278b2",
   "metadata": {},
   "outputs": [
    {
     "ename": "FileNotFoundError",
     "evalue": "[Errno 2] No such file or directory: 'ex.txt'",
     "output_type": "error",
     "traceback": [
      "\u001b[0;31m---------------------------------------------------------------------------\u001b[0m",
      "\u001b[0;31mFileNotFoundError\u001b[0m                         Traceback (most recent call last)",
      "Cell \u001b[0;32mIn[15], line 1\u001b[0m\n\u001b[0;32m----> 1\u001b[0m \u001b[38;5;28;01mwith\u001b[39;00m \u001b[38;5;28;43mopen\u001b[39;49m\u001b[43m(\u001b[49m\u001b[38;5;124;43m\"\u001b[39;49m\u001b[38;5;124;43mex.txt\u001b[39;49m\u001b[38;5;124;43m\"\u001b[39;49m\u001b[43m,\u001b[49m\u001b[43m \u001b[49m\u001b[38;5;124;43m'\u001b[39;49m\u001b[38;5;124;43mr\u001b[39;49m\u001b[38;5;124;43m'\u001b[39;49m\u001b[43m)\u001b[49m \u001b[38;5;28;01mas\u001b[39;00m f: \u001b[38;5;66;03m# 없는 파일 불러올 때\u001b[39;00m\n\u001b[1;32m      2\u001b[0m     f\u001b[38;5;241m.\u001b[39mread()\n",
      "File \u001b[0;32m/opt/anaconda3/envs/basic-computing/lib/python3.10/site-packages/IPython/core/interactiveshell.py:324\u001b[0m, in \u001b[0;36m_modified_open\u001b[0;34m(file, *args, **kwargs)\u001b[0m\n\u001b[1;32m    317\u001b[0m \u001b[38;5;28;01mif\u001b[39;00m file \u001b[38;5;129;01min\u001b[39;00m {\u001b[38;5;241m0\u001b[39m, \u001b[38;5;241m1\u001b[39m, \u001b[38;5;241m2\u001b[39m}:\n\u001b[1;32m    318\u001b[0m     \u001b[38;5;28;01mraise\u001b[39;00m \u001b[38;5;167;01mValueError\u001b[39;00m(\n\u001b[1;32m    319\u001b[0m         \u001b[38;5;124mf\u001b[39m\u001b[38;5;124m\"\u001b[39m\u001b[38;5;124mIPython won\u001b[39m\u001b[38;5;124m'\u001b[39m\u001b[38;5;124mt let you open fd=\u001b[39m\u001b[38;5;132;01m{\u001b[39;00mfile\u001b[38;5;132;01m}\u001b[39;00m\u001b[38;5;124m by default \u001b[39m\u001b[38;5;124m\"\u001b[39m\n\u001b[1;32m    320\u001b[0m         \u001b[38;5;124m\"\u001b[39m\u001b[38;5;124mas it is likely to crash IPython. If you know what you are doing, \u001b[39m\u001b[38;5;124m\"\u001b[39m\n\u001b[1;32m    321\u001b[0m         \u001b[38;5;124m\"\u001b[39m\u001b[38;5;124myou can use builtins\u001b[39m\u001b[38;5;124m'\u001b[39m\u001b[38;5;124m open.\u001b[39m\u001b[38;5;124m\"\u001b[39m\n\u001b[1;32m    322\u001b[0m     )\n\u001b[0;32m--> 324\u001b[0m \u001b[38;5;28;01mreturn\u001b[39;00m \u001b[43mio_open\u001b[49m\u001b[43m(\u001b[49m\u001b[43mfile\u001b[49m\u001b[43m,\u001b[49m\u001b[43m \u001b[49m\u001b[38;5;241;43m*\u001b[39;49m\u001b[43margs\u001b[49m\u001b[43m,\u001b[49m\u001b[43m \u001b[49m\u001b[38;5;241;43m*\u001b[39;49m\u001b[38;5;241;43m*\u001b[39;49m\u001b[43mkwargs\u001b[49m\u001b[43m)\u001b[49m\n",
      "\u001b[0;31mFileNotFoundError\u001b[0m: [Errno 2] No such file or directory: 'ex.txt'"
     ]
    }
   ],
   "source": [
    "with open(\"ex.txt\", 'r') as f: # 없는 파일 불러올 때 에러남\n",
    "    f.read()"
   ]
  },
  {
   "cell_type": "markdown",
   "id": "780ea324",
   "metadata": {},
   "source": [
    "## Exercise"
   ]
  },
  {
   "cell_type": "markdown",
   "id": "d445655b",
   "metadata": {},
   "source": [
    "### 1번 Exercise\n",
    "menu('menu.txt') -> 리스트로 반환\n",
    "reverse_menu('menu.txt') -> 거꾸로 된 리스트로 반환"
   ]
  },
  {
   "cell_type": "code",
   "execution_count": 24,
   "id": "ef213e1e",
   "metadata": {},
   "outputs": [
    {
     "name": "stdout",
     "output_type": "stream",
     "text": [
      "파일 존재 여부: False\n"
     ]
    }
   ],
   "source": [
    "import os\n",
    "file_path = 'files/menu.txt'\n",
    "print(f\"파일 존재 여부: {os.path.exists(file_path)}\")"
   ]
  },
  {
   "cell_type": "code",
   "execution_count": 23,
   "id": "02d2c11c",
   "metadata": {},
   "outputs": [
    {
     "ename": "FileNotFoundError",
     "evalue": "[Errno 2] No such file or directory: 'files/menu.txt'",
     "output_type": "error",
     "traceback": [
      "\u001b[0;31m---------------------------------------------------------------------------\u001b[0m",
      "\u001b[0;31mFileNotFoundError\u001b[0m                         Traceback (most recent call last)",
      "Cell \u001b[0;32mIn[23], line 1\u001b[0m\n\u001b[0;32m----> 1\u001b[0m \u001b[38;5;28;01mwith\u001b[39;00m \u001b[38;5;28;43mopen\u001b[39;49m\u001b[43m(\u001b[49m\u001b[38;5;124;43m'\u001b[39;49m\u001b[38;5;124;43mfiles/menu.txt\u001b[39;49m\u001b[38;5;124;43m'\u001b[39;49m\u001b[43m,\u001b[49m\u001b[43m \u001b[49m\u001b[38;5;124;43m'\u001b[39;49m\u001b[38;5;124;43mr\u001b[39;49m\u001b[38;5;124;43m'\u001b[39;49m\u001b[43m)\u001b[49m \u001b[38;5;28;01mas\u001b[39;00m menu:\n\u001b[1;32m      2\u001b[0m     menu\u001b[38;5;241m.\u001b[39mread()\n",
      "File \u001b[0;32m/opt/anaconda3/envs/basic-computing/lib/python3.10/site-packages/IPython/core/interactiveshell.py:324\u001b[0m, in \u001b[0;36m_modified_open\u001b[0;34m(file, *args, **kwargs)\u001b[0m\n\u001b[1;32m    317\u001b[0m \u001b[38;5;28;01mif\u001b[39;00m file \u001b[38;5;129;01min\u001b[39;00m {\u001b[38;5;241m0\u001b[39m, \u001b[38;5;241m1\u001b[39m, \u001b[38;5;241m2\u001b[39m}:\n\u001b[1;32m    318\u001b[0m     \u001b[38;5;28;01mraise\u001b[39;00m \u001b[38;5;167;01mValueError\u001b[39;00m(\n\u001b[1;32m    319\u001b[0m         \u001b[38;5;124mf\u001b[39m\u001b[38;5;124m\"\u001b[39m\u001b[38;5;124mIPython won\u001b[39m\u001b[38;5;124m'\u001b[39m\u001b[38;5;124mt let you open fd=\u001b[39m\u001b[38;5;132;01m{\u001b[39;00mfile\u001b[38;5;132;01m}\u001b[39;00m\u001b[38;5;124m by default \u001b[39m\u001b[38;5;124m\"\u001b[39m\n\u001b[1;32m    320\u001b[0m         \u001b[38;5;124m\"\u001b[39m\u001b[38;5;124mas it is likely to crash IPython. If you know what you are doing, \u001b[39m\u001b[38;5;124m\"\u001b[39m\n\u001b[1;32m    321\u001b[0m         \u001b[38;5;124m\"\u001b[39m\u001b[38;5;124myou can use builtins\u001b[39m\u001b[38;5;124m'\u001b[39m\u001b[38;5;124m open.\u001b[39m\u001b[38;5;124m\"\u001b[39m\n\u001b[1;32m    322\u001b[0m     )\n\u001b[0;32m--> 324\u001b[0m \u001b[38;5;28;01mreturn\u001b[39;00m \u001b[43mio_open\u001b[49m\u001b[43m(\u001b[49m\u001b[43mfile\u001b[49m\u001b[43m,\u001b[49m\u001b[43m \u001b[49m\u001b[38;5;241;43m*\u001b[39;49m\u001b[43margs\u001b[49m\u001b[43m,\u001b[49m\u001b[43m \u001b[49m\u001b[38;5;241;43m*\u001b[39;49m\u001b[38;5;241;43m*\u001b[39;49m\u001b[43mkwargs\u001b[49m\u001b[43m)\u001b[49m\n",
      "\u001b[0;31mFileNotFoundError\u001b[0m: [Errno 2] No such file or directory: 'files/menu.txt'"
     ]
    }
   ],
   "source": [
    "with open('files/menu.txt', 'r') as menu:\n",
    "    menu.read()"
   ]
  },
  {
   "cell_type": "code",
   "execution_count": null,
   "id": "c1e94cb5",
   "metadata": {},
   "outputs": [],
   "source": [
    "filename = \"files/menu.txt\"\n",
    "from typing import List\n",
    "# 교수님 풀이\n",
    "# 1) 하나의 line 단위로 처리해서 2) split\n",
    "# 파일이 일단 없어도 돌아간다고 가정하고 반환되게 (error case 처리)\n",
    "def menu(filename : str) -> List[List]:\n",
    "    out_list = []\n",
    "    try:\n",
    "        with open(filename, \"r\") as f:\n",
    "            content = f.readlines()\n",
    "            for l in content:\n",
    "                out_list.append(l.split())\n",
    "                # out_list += [word_list]\n",
    "    except FileNotFoundError:\n",
    "        print(\"파일을 찾을 수 없습니다.\")\n",
    "        \n",
    "    return out_list\n",
    "            "
   ]
  },
  {
   "cell_type": "code",
   "execution_count": 33,
   "id": "af4e1ccc",
   "metadata": {},
   "outputs": [
    {
     "name": "stdout",
     "output_type": "stream",
     "text": [
      "파일을 찾을 수 없습니다.\n"
     ]
    }
   ],
   "source": [
    "# reverse 교수님 풀이\n",
    "reverse_list = []\n",
    "try:\n",
    "    with open(filename, \"r\") as f:\n",
    "        reverse_list = f.readlines()\n",
    "        reverse_list = reverse_list[::-1]\n",
    "        for i, l in enumerate(reverse_list):\n",
    "            reverse_list[i] = l.strip()\n",
    "except FileNotFoundError:\n",
    "    print('파일을 찾을 수 없습니다.')\n",
    "    \n",
    "#        return reverse_list 용도?"
   ]
  },
  {
   "cell_type": "code",
   "execution_count": null,
   "id": "55cf2ed6",
   "metadata": {},
   "outputs": [],
   "source": [
    "reverse_menu('files/menu.txt')"
   ]
  },
  {
   "cell_type": "markdown",
   "id": "9b8bc8e0",
   "metadata": {},
   "source": [
    "### Exercise 2"
   ]
  },
  {
   "cell_type": "code",
   "execution_count": 40,
   "id": "393f1c93",
   "metadata": {},
   "outputs": [
    {
     "name": "stdout",
     "output_type": "stream",
     "text": [
      "현재 위치: /Users/Owner/git_inside/25-2-basic-computing\n",
      "폴더 내용: ['Lecture6and7_복습필요.ipynb', 'Lecture2.ipynb', 'Lecture8and9.ipynb', 'Lecture4and5_복습필요.ipynb', 'Lecture1.ipynb', 'Excercise(Lecture4and5).ipynb', 'temp.py', 'files', '.ipynb_checkpoints']\n"
     ]
    }
   ],
   "source": [
    "import os\n",
    "# 원래 가려던 경로로 이동\n",
    "os.chdir(\"/Users/Owner/git_inside/25-2-basic-computing\")\n",
    "print(\"현재 위치:\", os.getcwd())\n",
    "print(\"폴더 내용:\", os.listdir('.'))"
   ]
  },
  {
   "cell_type": "code",
   "execution_count": 43,
   "id": "3fc624c7",
   "metadata": {},
   "outputs": [
    {
     "name": "stdout",
     "output_type": "stream",
     "text": [
      "파일을 찾을 수 없습니다.\n",
      "[]\n"
     ]
    }
   ],
   "source": [
    "import os\n",
    "filename = \"/Users/Owner/git_inside/25-2-basic-computingfiles/file_practice.txt\"\n",
    "\n",
    "def practice(filename : str) -> List[List]:\n",
    "    out_list = []\n",
    "    try:\n",
    "        with open(filename, \"r\") as f:\n",
    "            content = f.readlines()\n",
    "            for l in content:\n",
    "                out_list.append(l.split())\n",
    "                # out_list += [word_list]\n",
    "    except FileNotFoundError:\n",
    "        print(\"파일을 찾을 수 없습니다.\")\n",
    "        \n",
    "    return out_list\n",
    "\n",
    "result = practice(filename)\n",
    "print(result)"
   ]
  },
  {
   "cell_type": "code",
   "execution_count": null,
   "id": "d5222063",
   "metadata": {},
   "outputs": [],
   "source": [
    "def findLargestNum(filename : str) -> List[List]:\n",
    "    total_num_list = []\n",
    "    try:\n",
    "        with open(filename, \"r\") as f:\n",
    "            #\n",
    "            for line in f:\n",
    "                if line.startswith(\"#\"): # 데이터 보면 앞에 샾 있는 숫자 있음\n",
    "                    continue\n",
    "                line = line.split(\"#\")[0]\n",
    "                num_list = line.split() # 주석이 있든 없든, 앞 쪽 데이터를 써야 함\n",
    "                print(num_list)\n",
    "                for num in num_list:\n",
    "                    total_num_list.append(int(num.strip(\".\")))\n",
    "    except FileNotFoundError:\n",
    "        print('파일을 찾을 수 없습니다.')\n",
    "    \n",
    "    return max total "
   ]
  },
  {
   "cell_type": "code",
   "execution_count": null,
   "id": "d4088b06",
   "metadata": {},
   "outputs": [],
   "source": [
    "findLargestNum('file_practice.txt')"
   ]
  }
 ],
 "metadata": {
  "kernelspec": {
   "display_name": "basic-computing",
   "language": "python",
   "name": "python3"
  },
  "language_info": {
   "codemirror_mode": {
    "name": "ipython",
    "version": 3
   },
   "file_extension": ".py",
   "mimetype": "text/x-python",
   "name": "python",
   "nbconvert_exporter": "python",
   "pygments_lexer": "ipython3",
   "version": "3.10.18"
  }
 },
 "nbformat": 4,
 "nbformat_minor": 5
}
