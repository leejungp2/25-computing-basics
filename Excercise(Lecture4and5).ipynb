{
 "cells": [
  {
   "cell_type": "code",
   "execution_count": 32,
   "id": "234e8362-5c40-4bb0-9db4-3a70ccab9e06",
   "metadata": {},
   "outputs": [],
   "source": [
    "def P1(input_list: list[int])-> int:\n",
    "    # return summation value ->initialize\n",
    "    pos_sum = 0\n",
    "\n",
    "    # for each value in the list\n",
    "    for i in input_list:\n",
    "        print(\"current value: \", i)\n",
    "        # check each value, postive or not\n",
    "        if i>0:\n",
    "            print(\"    positive value: \", i)\n",
    "            # add up\n",
    "            pos_sum = pos_sum +i\n",
    "        \n",
    "        # otherwise, nothing\n",
    "\n",
    "    # return\n",
    "    return pos_sum"
   ]
  },
  {
   "cell_type": "code",
   "execution_count": 33,
   "id": "315db09e-2dea-49c4-a081-16e79ca11e46",
   "metadata": {},
   "outputs": [
    {
     "name": "stdout",
     "output_type": "stream",
     "text": [
      "current value:  1\n",
      "    positive value:  1\n",
      "current value:  -2\n",
      "current value:  -3\n"
     ]
    },
    {
     "data": {
      "text/plain": [
       "1"
      ]
     },
     "execution_count": 33,
     "metadata": {},
     "output_type": "execute_result"
    }
   ],
   "source": [
    "P1([1, -2, -3])"
   ]
  },
  {
   "cell_type": "code",
   "execution_count": 45,
   "id": "995c53e9-373d-4df4-97e1-98b38ccf320c",
   "metadata": {},
   "outputs": [],
   "source": [
    "def star_flag(n: int)->None:\n",
    "    for i in range(n):\n",
    "        print(\"*\"*(i+1))\n",
    "    for i in range(n-1,0,-1):\n",
    "        print(\"*\"*i)"
   ]
  },
  {
   "cell_type": "code",
   "execution_count": 46,
   "id": "627d9994-89a7-4fea-9d95-d2631e325148",
   "metadata": {},
   "outputs": [
    {
     "name": "stdout",
     "output_type": "stream",
     "text": [
      "*\n",
      "**\n",
      "***\n",
      "****\n",
      "*****\n",
      "****\n",
      "***\n",
      "**\n",
      "*\n"
     ]
    }
   ],
   "source": [
    "star_flag(5)"
   ]
  },
  {
   "cell_type": "code",
   "execution_count": 49,
   "id": "8a1befd9-8956-4061-aec2-fd8c3610ac00",
   "metadata": {},
   "outputs": [],
   "source": [
    "def star_flag(n: int)->None:\n",
    "    for i in range(n*2):\n",
    "        if i < n:\n",
    "            print(\"*\"*(i+1))\n",
    "        elif i == n:\n",
    "            continue\n",
    "        else:\n",
    "            print(\"*\"*(n - i%n))"
   ]
  },
  {
   "cell_type": "code",
   "execution_count": 50,
   "id": "6baa6079-eca6-4b7d-9e51-80716fceb176",
   "metadata": {},
   "outputs": [
    {
     "name": "stdout",
     "output_type": "stream",
     "text": [
      "*\n",
      "**\n",
      "***\n",
      "****\n",
      "*****\n",
      "****\n",
      "***\n",
      "**\n",
      "*\n"
     ]
    }
   ],
   "source": [
    "star_flag(5)"
   ]
  },
  {
   "cell_type": "code",
   "execution_count": null,
   "id": "4b30243c-d178-4250-b8c3-91a64a53a3f9",
   "metadata": {},
   "outputs": [],
   "source": []
  }
 ],
 "metadata": {
  "kernelspec": {
   "display_name": "Python 3 (ipykernel)",
   "language": "python",
   "name": "python3"
  },
  "language_info": {
   "codemirror_mode": {
    "name": "ipython",
    "version": 3
   },
   "file_extension": ".py",
   "mimetype": "text/x-python",
   "name": "python",
   "nbconvert_exporter": "python",
   "pygments_lexer": "ipython3",
   "version": "3.12.7"
  }
 },
 "nbformat": 4,
 "nbformat_minor": 5
}
