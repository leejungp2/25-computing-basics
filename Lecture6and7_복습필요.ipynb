{
 "cells": [
  {
   "cell_type": "markdown",
   "id": "9bcc9d9d",
   "metadata": {},
   "source": [
    "## 1. Find Duplicates\n",
    "\n",
    "- Take a list of integers as input argument, and return a set of numbers that appear two or more times.\n",
    "\n",
    "Ex 1)\n",
    "- P1([1, 2, 3, 1])\n",
    "- {1}\n",
    "\n",
    "Ex 2)\n",
    "- P1([1, 1, 2, 3, 3, 3])\n",
    "- {1, 3}\n",
    "\n",
    "Ex 3)\n",
    "- P1([1, 2, 3, 4, 5]) seto"
   ]
  },
  {
   "cell_type": "code",
   "execution_count": null,
   "id": "2648739b",
   "metadata": {},
   "outputs": [],
   "source": [
    "# 교수님 풀이 1\n",
    "def P1(input_list: list[int]) -> set:\n",
    "    # counter (key = integer, value = count)\n",
    "    output_cnt = dict()\n",
    "\n",
    "    # for each data\n",
    "    for i in input_list:\n",
    "        # if data already counted\n",
    "        if i in output_cnt:\n",
    "            output_cnt[i] += 1\n",
    "        else:\n",
    "            output_cnt[i] = 1\n",
    "    \n",
    "    # dict counter >= 2\n",
    "    output_set = []\n",
    "    for key, val in output_cnt.items():\n",
    "        if val >= 2:\n",
    "            output_set.append(key)\n",
    "    \n",
    "    return set(output_set)"
   ]
  },
  {
   "cell_type": "code",
   "execution_count": 2,
   "id": "a2ee2c70",
   "metadata": {},
   "outputs": [
    {
     "data": {
      "text/plain": [
       "{1}"
      ]
     },
     "execution_count": 2,
     "metadata": {},
     "output_type": "execute_result"
    }
   ],
   "source": [
    "P1([1, 2, 3, 1])"
   ]
  },
  {
   "cell_type": "code",
   "execution_count": null,
   "id": "88b686bb",
   "metadata": {},
   "outputs": [],
   "source": [
    "# 교수님 풀이 2\n",
    "def P1(input_list: list[int]) -> set:\n",
    "    output_set = set()\n",
    "    input_set\n",
    "    # set으로 만들어주면, unique한 데이터만 돌리는 상황이 됨.\n",
    "    # 그 상황에서 개수만 체크"
   ]
  },
  {
   "cell_type": "markdown",
   "id": "4e692422",
   "metadata": {},
   "source": [
    "## 2. Particle with Highest Probability\n",
    "- Probability of detecting each subatomic particles is given in the form of dictionary {str: float}.\n",
    "- Make a function that returns the particle with the highest probability.\n",
    "There is no case that the probability is the same among different particles.\n",
    "\n",
    "```\n",
    "Ex 1)\n",
    ">>> P2({'neutron': 0.55, 'proton': 0.21, 'meson': 0.03, 'muon': 0.07, 'neutrino': 0.14})\n",
    "'neutron'\n",
    "\n",
    "Ex 2)\n",
    ">>> P2({'neutron': 0.11, 'proton': 0.21, 'meson': 0.05, 'muon': 0.09, 'neutrino': 0.12})\n",
    "'proton'\n",
    "```"
   ]
  },
  {
   "cell_type": "code",
   "execution_count": null,
   "id": "5f6811e8",
   "metadata": {},
   "outputs": [],
   "source": [
    "# 목표: probability가 가장 높은 애의 key값을 반환하는 것\n",
    "def P2(input_dict: dict) -> str:\n",
    "    # get values\n",
    "    prob_list = list(input_dict.values())\n",
    "    print(prob_list)\n",
    "    # get max prob\n",
    "    max_prob = max(prob_list)\n",
    "    \n",
    "    # find the right key\n",
    "    for key, value in input_dict.items():\n",
    "        if value == max_prob:\n",
    "            return key\n",
    "    # for key in input_dict.keys():\n",
    "    #   if input_dict[key] == max_prob:\n",
    "    #       return key"
   ]
  },
  {
   "cell_type": "code",
   "execution_count": 4,
   "id": "a3c3db20",
   "metadata": {},
   "outputs": [
    {
     "name": "stdout",
     "output_type": "stream",
     "text": [
      "[0.55, 0.21, 0.03]\n"
     ]
    },
    {
     "data": {
      "text/plain": [
       "'ne'"
      ]
     },
     "execution_count": 4,
     "metadata": {},
     "output_type": "execute_result"
    }
   ],
   "source": [
    "P2({'ne': 0.55, 'pro': 0.21, 'me': 0.03})"
   ]
  },
  {
   "cell_type": "markdown",
   "id": "1b6622a1",
   "metadata": {},
   "source": [
    "## 3. Check Dictionary of Dictionaries\n",
    "=> 문제가 불완전쓰....\n",
    "- {'A': {1: 'a', 2: 'b'}, 'B': {2: 'c', 3: 'd'}}\n",
    "- {'a': {'aa':123, 'ab': [1,2]}, 'b': {'aa': 'bb', 'ab': 'cc'}}\n",
    "\n",
    "```\n",
    "Ex 1)\n",
    ">>> P3(fa': {'aa':123, 'ab': [1,21}, 'b': {'aa': 'bb', 'ab': 'cc'}})\n",
    "1\n",
    "# (Explanation: All values have the same keys, {'aa', 'ab'}.)\n",
    "\n",
    "Ex 2)\n",
    ">>> P3('A': {1: 'a', 2: 'b'}, 'B': {2: 'c', 3: 'd'})\n",
    "```"
   ]
  },
  {
   "cell_type": "code",
   "execution_count": null,
   "id": "f4980675",
   "metadata": {},
   "outputs": [],
   "source": [
    "def P3(input_dict):\n",
    "    output_set = set()\n",
    "    for key, inner_dict in input_dict.items():\n",
    "        output_set.add(tuple(inner_dict.keys())) # mutable 하지 않은 형태로 들어가야 하므로 tuple\n",
    "    if len(output_set) == 1:\n",
    "        return 1\n",
    "    else:\n",
    "        return 0"
   ]
  },
  {
   "cell_type": "code",
   "execution_count": null,
   "id": "11c2f756",
   "metadata": {},
   "outputs": [],
   "source": []
  },
  {
   "cell_type": "markdown",
   "id": "3763e9c0",
   "metadata": {},
   "source": []
  }
 ],
 "metadata": {
  "kernelspec": {
   "display_name": "basic-computing",
   "language": "python",
   "name": "python3"
  },
  "language_info": {
   "codemirror_mode": {
    "name": "ipython",
    "version": 3
   },
   "file_extension": ".py",
   "mimetype": "text/x-python",
   "name": "python",
   "nbconvert_exporter": "python",
   "pygments_lexer": "ipython3",
   "version": "3.10.18"
  }
 },
 "nbformat": 4,
 "nbformat_minor": 5
}
