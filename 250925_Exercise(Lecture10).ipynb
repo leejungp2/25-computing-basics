{
 "cells": [
  {
   "cell_type": "markdown",
   "metadata": {},
   "source": [
    "## **Exercise** : Basic Sorting Algorithm - selection sort and insertion sort "
   ]
  },
  {
   "cell_type": "markdown",
   "metadata": {},
   "source": [
    "##### 숫자 N을 입력으로 받고, \n",
    "##### 1) N을 구성하는 숫자들을 활용하여, 가장 큰 값을 만들고 -> *한자리씩 내림차순으로 sorting\n",
    "##### 2) 30의 배수인지 확인\n",
    "\n",
    "##### [Conditions]\n",
    "##### 입력 (INPUT) : N을 입력받는다. N는 최대 100,000개의 숫자로 구성되어 있으며, 0으로 시작하지 않는다.\n",
    "##### 출력 (OUTPUT) : 위의 조건을 만족하면 해당 수를 출력. 만족하지 않는다면, -1을 출력하라."
   ]
  },
  {
   "cell_type": "markdown",
   "metadata": {},
   "source": [
    "**Examples**\n",
    "\n",
    "| input example  |  output example |\n",
    "| :--: | :--: |\n",
    "|    30  |   30  |\n",
    "|   102 | 210  |\n",
    "|   2931   |   -1   |\n",
    "|   80875542   |    88755420  |"
   ]
  },
  {
   "cell_type": "markdown",
   "metadata": {},
   "source": [
    "### selection sort"
   ]
  },
  {
   "cell_type": "code",
   "execution_count": null,
   "metadata": {},
   "outputs": [],
   "source": [
    "def selection_sort(N:int):\n",
    "    ## 이 코드는 가장 풀어서 쓴 방식\n",
    "    # make a string and split\n",
    "    N = list(str(N)) \n",
    "    N = [int(i) for i in N] # 아래 for 문을 간소화한 게 이거\n",
    "    # for i in N:\n",
    "    #   0.append(i)\n",
    "    print(N)\n",
    "    # sort\n",
    "    N = sorted(N, reverse=True) # 교수님은 sort로 어떻게 쓰신거지...\n",
    "    # merge\n",
    "    out = ''\n",
    "    for i in N:\n",
    "        out += str(i)\n",
    "    out = int(out)\n",
    "    if out % 30 == 0:\n",
    "        return out\n",
    "    else:\n",
    "        return -1\n",
    "    \n",
    "    print(0)\n",
    "    "
   ]
  },
  {
   "cell_type": "code",
   "execution_count": 14,
   "metadata": {},
   "outputs": [
    {
     "name": "stdout",
     "output_type": "stream",
     "text": [
      "[1, 0, 2]\n"
     ]
    },
    {
     "data": {
      "text/plain": [
       "210"
      ]
     },
     "execution_count": 14,
     "metadata": {},
     "output_type": "execute_result"
    }
   ],
   "source": [
    "selection_sort(102)"
   ]
  },
  {
   "cell_type": "code",
   "execution_count": 15,
   "metadata": {},
   "outputs": [
    {
     "name": "stdout",
     "output_type": "stream",
     "text": [
      "[2, 9, 3, 1]\n"
     ]
    },
    {
     "data": {
      "text/plain": [
       "-1"
      ]
     },
     "execution_count": 15,
     "metadata": {},
     "output_type": "execute_result"
    }
   ],
   "source": [
    "selection_sort(2931)"
   ]
  },
  {
   "cell_type": "code",
   "execution_count": null,
   "metadata": {},
   "outputs": [],
   "source": [
    "# selection sort 추가 예시\n",
    "# 현재 위치\n",
    "    # target_idx =  i\n",
    "    # # 뒷부분 체크\n",
    "    # for j in range(i+1, n):\n",
    "    #     if reverse:"
   ]
  },
  {
   "cell_type": "markdown",
   "metadata": {},
   "source": [
    "### insertion sort"
   ]
  },
  {
   "cell_type": "code",
   "execution_count": null,
   "metadata": {},
   "outputs": [],
   "source": [
    "def insertion_sort(N: int):\n",
    "    "
   ]
  },
  {
   "cell_type": "code",
   "execution_count": null,
   "metadata": {},
   "outputs": [],
   "source": [
    "selection_sort(102)"
   ]
  },
  {
   "cell_type": "code",
   "execution_count": null,
   "metadata": {},
   "outputs": [],
   "source": [
    "selection_sort(2931)"
   ]
  }
 ],
 "metadata": {
  "kernelspec": {
   "display_name": "basic-computing",
   "language": "python",
   "name": "python3"
  },
  "language_info": {
   "codemirror_mode": {
    "name": "ipython",
    "version": 3
   },
   "file_extension": ".py",
   "mimetype": "text/x-python",
   "name": "python",
   "nbconvert_exporter": "python",
   "pygments_lexer": "ipython3",
   "version": "3.10.18"
  }
 },
 "nbformat": 4,
 "nbformat_minor": 4
}
