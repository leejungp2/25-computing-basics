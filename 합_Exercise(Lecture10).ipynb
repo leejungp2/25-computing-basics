{
 "cells": [
  {
   "cell_type": "markdown",
   "metadata": {},
   "source": [
    "## **Exercise** : Basic Sorting Algorithm - selection sort and insertion sort "
   ]
  },
  {
   "cell_type": "markdown",
   "metadata": {},
   "source": [
    "##### 숫자 N을 입력으로 받고, \n",
    "##### 1) N을 구성하는 숫자들을 활용하여, 가장 큰 값을 만들고 \n",
    "##### 2) 30의 배수인지 확인\n",
    "\n",
    "##### [Conditions]\n",
    "##### 입력 (INPUT) : N을 입력받는다. N는 최대 100,000개의 숫자로 구성되어 있으며, 0으로 시작하지 않는다.\n",
    "##### 출력 (OUTPUT) : 위의 조건을 만족하면 해당 수를 출력. 만족하지 않는다면, -1을 출력하라."
   ]
  },
  {
   "cell_type": "markdown",
   "metadata": {},
   "source": [
    "**Examples**\n",
    "\n",
    "| input example  |  output example |\n",
    "| :--: | :--: |\n",
    "|    30  |   30  |\n",
    "|   102 | 210  |\n",
    "|   2931   |   -1   |\n",
    "|   80875542   |    88755420  |"
   ]
  },
  {
   "cell_type": "markdown",
   "metadata": {},
   "source": [
    "### selection sort"
   ]
  },
  {
   "cell_type": "code",
   "execution_count": 1,
   "metadata": {},
   "outputs": [],
   "source": [
    "def sort(arr, reverse = False): # reverse = False: 오름차순\n",
    "    n = len(arr) # len(입력 리스트)\n",
    "    for i in range(n): # 일반 selection sort 원리와 같음\n",
    "        # 현재 위치 인덱스 저장 변수\n",
    "        target_idx = i\n",
    "        # 뒷부분 체크\n",
    "        for j in range(i+1, n):\n",
    "            if reverse:\n",
    "                # 내림차순 -> 현재 문제에서의 목표\n",
    "                if arr[j] > arr[target_idx]:\n",
    "                    target_idx = j\n",
    "            else:\n",
    "                # 오름차순 -> 일반적인 경우\n",
    "                if arr[j] < arr[target_idx]:\n",
    "                    target_idx = j\n",
    "        arr[i], arr[target_idx] = arr[target_idx], arr[i]\n",
    "    return arr # 리스트 반환\n",
    "\n",
    "# 반환한 리스트를 숫자 형태로 만들기\n",
    "def selection_sort(N:int):   \n",
    "    N = list(str(N)) # 숫자 리스트 -> 문자열\n",
    "    N = [int(i) for i in N] # 문자형 -> 정수형\n",
    "    N = sort(N, True) # 위의 sort() 이용하여 내림차순 정렬\n",
    "    # merge\n",
    "    out = ''\n",
    "    for i in N:\n",
    "        out += str(i) # 정렬된 숫자를 다시 문자열로 합침\n",
    "    out = int(out) # 문자열 -> 정수\n",
    "    if out % 30 == 0: # 30의 배수인지 검사\n",
    "        return out\n",
    "    else:\n",
    "        return -1\n"
   ]
  },
  {
   "cell_type": "code",
   "execution_count": 2,
   "metadata": {},
   "outputs": [
    {
     "data": {
      "text/plain": [
       "210"
      ]
     },
     "execution_count": 2,
     "metadata": {},
     "output_type": "execute_result"
    }
   ],
   "source": [
    "selection_sort(102)"
   ]
  },
  {
   "cell_type": "code",
   "execution_count": 3,
   "metadata": {},
   "outputs": [
    {
     "data": {
      "text/plain": [
       "-1"
      ]
     },
     "execution_count": 3,
     "metadata": {},
     "output_type": "execute_result"
    }
   ],
   "source": [
    "selection_sort(2931)"
   ]
  },
  {
   "cell_type": "markdown",
   "metadata": {},
   "source": [
    "### insertion sort"
   ]
  },
  {
   "cell_type": "code",
   "execution_count": 4,
   "metadata": {},
   "outputs": [],
   "source": [
    "def sort_ver2(arr, reverse = False):\n",
    "    n = len(arr) # length로 선언\n",
    "    for i in range (1, n):\n",
    "        # j: i -> 1로 감소시키며 swap 반복\n",
    "        for j in range(i, 0, -1):\n",
    "            if reverse:\n",
    "                if arr[j-1] < arr[j]: # 내림차순: 앞의 값이 더 작으면 교환\n",
    "                    arr[j-1], arr[j] = arr[j], arr[j-1]\n",
    "                else:\n",
    "                    break\n",
    "                \n",
    "                if arr[j-1] > arr[j]: # 오름차순: 앞의 값이 더 크면 교환\n",
    "                    arr[j-1], arr[j] = arr[j], arr[j-1]\n",
    "                else:\n",
    "                    break\n",
    "    return arr\n",
    "\n",
    "def insertion_sort(N: int):\n",
    "    N = [int(i) for i in str(N)] # 1. 숫자를 문자열 -> 리스트 int형\n",
    "    N = sort_ver2(N, reverse=True) # 2. Insertion Sort로 내림차순 정렬\n",
    "    # 3. 정렬된 리스트를 하나의 수로 합치기 (for문)\n",
    "    out = ''\n",
    "    for i in N:\n",
    "        out += str(i)\n",
    "    out = int(out)\n",
    "    # 4. 30의 배수 검사\n",
    "    if out % 30 == 0:\n",
    "        return out\n",
    "    else:\n",
    "        return -1"
   ]
  },
  {
   "cell_type": "code",
   "execution_count": 5,
   "metadata": {},
   "outputs": [
    {
     "data": {
      "text/plain": [
       "210"
      ]
     },
     "execution_count": 5,
     "metadata": {},
     "output_type": "execute_result"
    }
   ],
   "source": [
    "selection_sort(102)"
   ]
  },
  {
   "cell_type": "code",
   "execution_count": 6,
   "metadata": {},
   "outputs": [
    {
     "data": {
      "text/plain": [
       "-1"
      ]
     },
     "execution_count": 6,
     "metadata": {},
     "output_type": "execute_result"
    }
   ],
   "source": [
    "selection_sort(2931)"
   ]
  }
 ],
 "metadata": {
  "kernelspec": {
   "display_name": "basic-computing",
   "language": "python",
   "name": "python3"
  },
  "language_info": {
   "codemirror_mode": {
    "name": "ipython",
    "version": 3
   },
   "file_extension": ".py",
   "mimetype": "text/x-python",
   "name": "python",
   "nbconvert_exporter": "python",
   "pygments_lexer": "ipython3",
   "version": "3.10.18"
  }
 },
 "nbformat": 4,
 "nbformat_minor": 4
}
