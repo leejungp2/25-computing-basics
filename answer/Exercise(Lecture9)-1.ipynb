{
 "cells": [
  {
   "cell_type": "markdown",
   "metadata": {},
   "source": [
    "# Linear Search : find the index"
   ]
  },
  {
   "cell_type": "code",
   "execution_count": 15,
   "metadata": {},
   "outputs": [],
   "source": [
    "# make a random array\n",
    "import numpy as np\n",
    "import random\n",
    "listSize = 1000000\n",
    "nums = list(range(listSize))\n",
    "# print(nums)\n",
    "random.shuffle(nums)\n",
    "# print(nums)"
   ]
  },
  {
   "cell_type": "code",
   "execution_count": 7,
   "metadata": {},
   "outputs": [],
   "source": [
    "# complete linear search function #\n",
    "def find_idx(L:list, num:int):\n",
    "    # for i in range(len(L)):\n",
    "    for i, val in enumerate(L):\n",
    "        if val == num:\n",
    "            return i\n",
    "    return -1 "
   ]
  },
  {
   "cell_type": "code",
   "execution_count": 13,
   "metadata": {},
   "outputs": [
    {
     "name": "stdout",
     "output_type": "stream",
     "text": [
      "Latency: 0.02810107421875 ms\n"
     ]
    }
   ],
   "source": [
    "import time\n",
    "total_time_list = []\n",
    "for val in nums:\n",
    "    start = time.time()*1000\n",
    "    idx = find_idx(nums, val)\n",
    "    end = time.time()*1000\n",
    "    total_time = end-start\n",
    "    total_time_list.append(total_time)\n",
    "\n",
    "sum_time = sum(total_time_list)\n",
    "length = len(total_time_list)\n",
    "\n",
    "print(\"Latency:\", sum_time/length, \"ms\")"
   ]
  },
  {
   "cell_type": "code",
   "execution_count": 17,
   "metadata": {},
   "outputs": [
    {
     "name": "stdout",
     "output_type": "stream",
     "text": [
      "Latency: 113.77197265625 ms\n"
     ]
    }
   ],
   "source": [
    "import time\n",
    "start = time.time()*1000\n",
    "idx = find_idx(nums, val)\n",
    "end = time.time()*1000\n",
    "\n",
    "print(\"Latency:\", end - start, \"ms\")"
   ]
  },
  {
   "cell_type": "code",
   "execution_count": 18,
   "metadata": {},
   "outputs": [
    {
     "name": "stdout",
     "output_type": "stream",
     "text": [
      "209971\n",
      "Latency: 24.89306640625 ms\n"
     ]
    }
   ],
   "source": [
    "start = time.time()*1000\n",
    "print(nums.index(3396))\n",
    "end = time.time()*1000\n",
    "\n",
    "print(\"Latency:\", end-start, \"ms\")"
   ]
  },
  {
   "cell_type": "code",
   "execution_count": null,
   "metadata": {},
   "outputs": [],
   "source": []
  }
 ],
 "metadata": {
  "kernelspec": {
   "display_name": "Python 3 (ipykernel)",
   "language": "python",
   "name": "python3"
  },
  "language_info": {
   "codemirror_mode": {
    "name": "ipython",
    "version": 3
   },
   "file_extension": ".py",
   "mimetype": "text/x-python",
   "name": "python",
   "nbconvert_exporter": "python",
   "pygments_lexer": "ipython3",
   "version": "3.12.7"
  },
  "vscode": {
   "interpreter": {
    "hash": "bdf171008f7f94bb9a9655f8b98be42976f175d5e0f2758d662f461298401f1f"
   }
  }
 },
 "nbformat": 4,
 "nbformat_minor": 4
}
