{
 "cells": [
  {
   "cell_type": "markdown",
   "id": "30b4ee4d",
   "metadata": {
    "id": "30b4ee4d"
   },
   "source": [
    "# Q1. Pascal's Triangle"
   ]
  },
  {
   "attachments": {},
   "cell_type": "markdown",
   "id": "7d527a27",
   "metadata": {
    "id": "7d527a27"
   },
   "source": [
    "### Create a function for calculating a list of row index of the Pascal’s triangle"
   ]
  },
  {
   "cell_type": "code",
   "execution_count": null,
   "id": "6b416b8c",
   "metadata": {},
   "outputs": [],
   "source": [
    "from typing import List"
   ]
  },
  {
   "cell_type": "code",
   "execution_count": null,
   "id": "24bdf330",
   "metadata": {},
   "outputs": [],
   "source": [
    "def Pascal(n: int) -> List[int]:\n",
    "    # base case\n",
    "    if n == 0:\n",
    "        return [1]\n",
    "    elif n == 1:\n",
    "        return [1, 1]\n",
    "\n",
    "    # otherwise, recursive case       \n",
    "    prev_output = Pascal(n-1)\n",
    "    curr_output = [1]\n",
    "    for i in range(len(prev_output)-1):\n",
    "        curr_output.append(prev_output[i] + prev_output[i+1])    \n",
    "    curr_output.append(1)\n",
    "    return curr_output"
   ]
  },
  {
   "cell_type": "code",
   "execution_count": null,
   "id": "a7c3aa06",
   "metadata": {},
   "outputs": [],
   "source": [
    "for i in range(10):\n",
    "    print(Pascal(i))"
   ]
  },
  {
   "cell_type": "markdown",
   "id": "70163ceb",
   "metadata": {
    "id": "70163ceb"
   },
   "source": [
    "# Q2. Merge Sort"
   ]
  },
  {
   "cell_type": "markdown",
   "id": "da9c09ab",
   "metadata": {
    "id": "da9c09ab"
   },
   "source": [
    "### Create a function for outputting a list and a value from the merge sort in the order"
   ]
  },
  {
   "cell_type": "code",
   "execution_count": null,
   "id": "2b3e28f5",
   "metadata": {
    "id": "2b3e28f5",
    "outputId": "8e403c29-fb97-4868-a9bf-60fb2433c042"
   },
   "outputs": [],
   "source": [
    "def mergeSortHelp(L:list, first:int, last:int) -> None:\n",
    "    if first == last: # Base Case\n",
    "        return\n",
    "    else: # Recursive Case\n",
    "        # Step 1 : Divide it into two sublists\n",
    "        mid = first + (last - first) // 2\n",
    "        # Step 2 : Sort the two sublists\n",
    "        mergeSortHelp(L, first, mid)\n",
    "        mergeSortHelp(L, mid+1, last)\n",
    "        # Step 3 : Merge the two \"sorted\" sublists\n",
    "        merge(L, first, mid, last)\n",
    "\n",
    "        \n",
    "def merge(L:list, first:int, mid:int, last:int) -> None:\n",
    "    # get current lists (left, write)\n",
    "    half1_list = L[first:(mid+1)]\n",
    "    half2_list = L[(mid+1):(last+1)]\n",
    "\n",
    "    # set start point\n",
    "    i = first\n",
    "    h1 = 0 \n",
    "    h2 = 0\n",
    "\n",
    "    # merge by comparing\n",
    "    while h1 < len(half1_list) and h2 < len(half2_list):\n",
    "        # if the left one is larger than the right one\n",
    "        if half1_list[h1] <= half2_list[h2]:\n",
    "            # assign and move\n",
    "            L[i] = half1_list[h1]\n",
    "            h1 += 1\n",
    "        else:\n",
    "            # assign and move\n",
    "            L[i] = half2_list[h2]\n",
    "            h2 += 1\n",
    "        print(L, L[i])\n",
    "        # move\n",
    "        i += 1\n",
    "    \n",
    "    # remaining\n",
    "    if h1 < len(half1_list):\n",
    "        for j in range(h1, len(half1_list)):\n",
    "            L[i] = half1_list[j]\n",
    "            print(L, L[i])\n",
    "            i += 1\n",
    "    elif h2 < len(half2_list):\n",
    "        for j in range(h2, len(half2_list)):\n",
    "            L[i] = half2_list[j]\n",
    "            print(L, L[i])\n",
    "            i += 1        \n",
    "            \n"
   ]
  },
  {
   "cell_type": "code",
   "execution_count": null,
   "id": "8678ffc3",
   "metadata": {},
   "outputs": [],
   "source": [
    "L = [4, 5, 1, 3, 2]\n",
    "mergeSortHelp(L, 0, 4)"
   ]
  }
 ],
 "metadata": {
  "colab": {
   "provenance": []
  },
  "kernelspec": {
   "display_name": "Python 3 (ipykernel)",
   "language": "python",
   "name": "python3"
  },
  "language_info": {
   "codemirror_mode": {
    "name": "ipython",
    "version": 3
   },
   "file_extension": ".py",
   "mimetype": "text/x-python",
   "name": "python",
   "nbconvert_exporter": "python",
   "pygments_lexer": "ipython3",
   "version": "3.12.8"
  }
 },
 "nbformat": 4,
 "nbformat_minor": 5
}
