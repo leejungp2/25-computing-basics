{
 "cells": [
  {
   "cell_type": "markdown",
   "id": "467b9d21",
   "metadata": {
    "id": "467b9d21"
   },
   "source": [
    "----------------------------------------------------------------------------"
   ]
  },
  {
   "cell_type": "markdown",
   "id": "05575511-af86-4943-b119-6073159f86a0",
   "metadata": {
    "id": "05575511-af86-4943-b119-6073159f86a0"
   },
   "source": [
    "## Practice 1. Number of Islands in a Graph\n",
    "\n",
    "The following code is a DFT (Depth-First Traversal) preorder code.\n",
    "Let's create a code to find out 'how many disjoint islands exist in the graph.'\n",
    "You can achieve this by making the appropriate modifications to the given code."
   ]
  },
  {
   "cell_type": "code",
   "execution_count": 15,
   "id": "34afaa10-2e8f-496b-9600-f2c9bea9fcf4",
   "metadata": {
    "id": "34afaa10-2e8f-496b-9600-f2c9bea9fcf4"
   },
   "outputs": [],
   "source": [
    "class _undi_graph():\n",
    "    def __init__(self, V: list, E: list[tuple], is_preorder=True) -> None:\n",
    "        self.V = V[:]\n",
    "        self.neighbor = {}\n",
    "        self.is_preorder = is_preorder\n",
    "        for v in V:\n",
    "            self.neighbor[v] = []\n",
    "        for (v, w) in E:\n",
    "            self.neighbor[v].append(w)\n",
    "            self.neighbor[w].append(v)\n",
    "\n",
    "    def __DFTHelp(self, visited: dict, v: int) -> None:\n",
    "        if not visited[v]:\n",
    "            visited[v] = True\n",
    "            if self.is_preorder:\n",
    "                print('pre: ',  v)\n",
    "            for w in self.neighbor[v]:                \n",
    "                self.__DFTHelp(visited, w)\n",
    "            if not self.is_preorder:\n",
    "                print('post: ',  v)\n",
    "            \n",
    "\n",
    "    def DFT(self) -> int:        \n",
    "        visited = {} \n",
    "        for v in self.V:\n",
    "            visited[v] = False\n",
    "        \n",
    "        island_cnt = 0\n",
    "        for v in self.V:\n",
    "            if not visited[v]:\n",
    "                self.__DFTHelp(visited, v)\n",
    "                island_cnt += 1\n",
    "        return island_cnt\n",
    "\n",
    "    def change_order(self, is_preorder=True):\n",
    "        self.is_preorder = is_preorder\n"
   ]
  },
  {
   "cell_type": "markdown",
   "id": "45a5a982",
   "metadata": {
    "id": "45a5a982"
   },
   "source": [
    "**Test Case**"
   ]
  },
  {
   "cell_type": "code",
   "execution_count": 17,
   "id": "4cc82b60",
   "metadata": {
    "id": "4cc82b60",
    "outputId": "b7c53dd4-af8b-432f-cf4f-30293d65d0af"
   },
   "outputs": [
    {
     "name": "stdout",
     "output_type": "stream",
     "text": [
      "pre:  a\n",
      "pre:  b\n",
      "pre:  c\n",
      "pre:  d\n",
      "pre:  g\n",
      "pre:  e\n",
      "pre:  i\n",
      "pre:  f\n",
      "pre:  h\n",
      "Dijoint Islands 개수: 3\n"
     ]
    }
   ],
   "source": [
    "# 답 : 3\n",
    "V = ['a', 'b', 'c', 'd', 'e', 'f', 'g', 'h', 'i']\n",
    "E = [('a', 'b'), ('a', 'c'), ('a', 'd'), ('b', 'c'), ('c', 'd'), ('c', 'e'), ('c', 'g'), ('d', 'g'), ('e', 'i'), ('g', 'e')]\n",
    "\n",
    "graph = _undi_graph(V, E, True)\n",
    "disjoint_islands = graph.DFT()\n",
    "print(\"Dijoint Islands 개수:\", disjoint_islands)"
   ]
  },
  {
   "cell_type": "code",
   "execution_count": 7,
   "id": "5d8a5824",
   "metadata": {
    "id": "5d8a5824",
    "outputId": "130e2cb3-6c9e-468b-d66f-196fe09e47c9"
   },
   "outputs": [
    {
     "name": "stdout",
     "output_type": "stream",
     "text": [
      "pre:  a\n",
      "pre:  b\n",
      "pre:  c\n",
      "pre:  d\n",
      "pre:  g\n",
      "pre:  e\n",
      "pre:  i\n",
      "post:  i\n",
      "post:  e\n",
      "post:  g\n",
      "post:  d\n",
      "post:  c\n",
      "post:  b\n",
      "post:  a\n",
      "pre:  f\n",
      "post:  f\n",
      "pre:  h\n",
      "post:  h\n",
      "pre:  j\n",
      "pre:  k\n",
      "post:  k\n",
      "post:  j\n",
      "Dijoint Islands 개수: 4\n"
     ]
    }
   ],
   "source": [
    "# 답 : 4\n",
    "V = ['a', 'b', 'c', 'd', 'e', 'f', 'g', 'h', 'i', 'j', 'k']\n",
    "E = [('a', 'b'), ('a', 'c'), ('a', 'd'), ('b', 'c'), ('c', 'd'), ('c', 'e'), ('c', 'g'), ('d', 'g'), ('e', 'i'), ('g', 'e'), ('j', 'k')]\n",
    "\n",
    "graph = _undi_graph(V, E)\n",
    "disjoint_islands = graph.DFT()\n",
    "print(\"Dijoint Islands 개수:\", disjoint_islands)"
   ]
  },
  {
   "cell_type": "code",
   "execution_count": 8,
   "id": "18019865",
   "metadata": {
    "id": "18019865",
    "outputId": "bc5be52c-ea9d-43a4-c0b4-8b8e6d744051"
   },
   "outputs": [
    {
     "name": "stdout",
     "output_type": "stream",
     "text": [
      "pre:  a\n",
      "pre:  b\n",
      "pre:  c\n",
      "pre:  d\n",
      "pre:  g\n",
      "pre:  e\n",
      "pre:  i\n",
      "post:  i\n",
      "post:  e\n",
      "post:  g\n",
      "post:  d\n",
      "post:  c\n",
      "post:  b\n",
      "post:  a\n",
      "pre:  f\n",
      "post:  f\n",
      "pre:  h\n",
      "post:  h\n",
      "pre:  j\n",
      "pre:  k\n",
      "post:  k\n",
      "post:  j\n",
      "pre:  l\n",
      "pre:  m\n",
      "pre:  n\n",
      "post:  n\n",
      "post:  m\n",
      "post:  l\n",
      "pre:  o\n",
      "pre:  p\n",
      "post:  p\n",
      "post:  o\n",
      "pre:  q\n",
      "pre:  r\n",
      "pre:  s\n",
      "pre:  t\n",
      "post:  t\n",
      "post:  s\n",
      "post:  r\n",
      "post:  q\n",
      "Dijoint Islands 개수: 7\n"
     ]
    }
   ],
   "source": [
    "# 답 : 7\n",
    "V = ['a', 'b', 'c', 'd', 'e', 'f', 'g', 'h', 'i', 'j', 'k', 'l', 'm', 'n', 'o', 'p', 'q', 'r', 's', 't']\n",
    "E = [('a', 'b'), ('a', 'c'), ('a', 'd'), ('b', 'c'), ('c', 'd'), ('c', 'e'), ('c', 'g'), ('d', 'g'), ('e', 'i'), ('g', 'e'),\n",
    "     ('j', 'k'), ('l', 'm'), ('m', 'n'), ('o', 'p'), ('q', 'r'), ('r', 's'), ('s', 't')]\n",
    "\n",
    "graph = _undi_graph(V, E)\n",
    "disjoint_islands = graph.DFT()\n",
    "print(\"Dijoint Islands 개수:\", disjoint_islands)"
   ]
  },
  {
   "cell_type": "markdown",
   "id": "cd250472",
   "metadata": {
    "id": "cd250472"
   },
   "source": [
    "-------------------------------------------------------------------------------------------------------------------------------------------"
   ]
  }
 ],
 "metadata": {
  "colab": {
   "provenance": []
  },
  "kernelspec": {
   "display_name": "Python 3 (ipykernel)",
   "language": "python",
   "name": "python3"
  },
  "language_info": {
   "codemirror_mode": {
    "name": "ipython",
    "version": 3
   },
   "file_extension": ".py",
   "mimetype": "text/x-python",
   "name": "python",
   "nbconvert_exporter": "python",
   "pygments_lexer": "ipython3",
   "version": "3.12.7"
  }
 },
 "nbformat": 4,
 "nbformat_minor": 5
}
