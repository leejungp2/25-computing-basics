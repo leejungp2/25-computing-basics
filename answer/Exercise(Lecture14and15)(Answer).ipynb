{
 "cells": [
  {
   "cell_type": "markdown",
   "metadata": {
    "id": "I9FM6s1o9ZUc"
   },
   "source": [
    "# In-class Exercise"
   ]
  },
  {
   "cell_type": "markdown",
   "metadata": {
    "id": "pz0rVpAR9ZUf"
   },
   "source": [
    "### Q1.Stack / Queue (by yourself)"
   ]
  },
  {
   "cell_type": "markdown",
   "metadata": {
    "id": "q9INvpLR9ZUf"
   },
   "source": [
    "push(x): Add a LinkedNode that has val x to myStack  \n",
    "pop: Remove the most recently added LinkedNode from myStack  \n",
    "top: Return val of the most recently added LinkedNode  \n",
    "getSize: Return the number of LinkedNodes in myStack  \n",
    "isEmpty: Return True if myStack is empty, or False otherwise."
   ]
  },
  {
   "cell_type": "code",
   "execution_count": null,
   "metadata": {
    "id": "a2xIR4I69ZUg",
    "tags": []
   },
   "outputs": [],
   "source": [
    "class LinkedNode():\n",
    "    def __init__(self, x):\n",
    "        self.val = x\n",
    "        self.next = None\n",
    "\n",
    "\n",
    "class myStack():\n",
    "    def __init__(self) -> None:\n",
    "        self.sentinel = LinkedNode(None)\n",
    "        self.size = 0\n",
    "\n",
    "    def push(self, x: int) -> None:        \n",
    "        # make new node\n",
    "        new_node = LinkedNode(x)\n",
    "        \n",
    "        # start from sentinel\n",
    "        cur_node = self.sentinel\n",
    "\n",
    "        # check for each node (find the last node)\n",
    "        while cur_node.next != None:\n",
    "            cur_node = cur_node.next\n",
    "\n",
    "        # connect to new node\n",
    "        cur_node.next = new_node        \n",
    "\n",
    "        # size ++\n",
    "        self.size += 1\n",
    "        \n",
    "\n",
    "    def pop(self) -> None:\n",
    "        if self.size == 0:\n",
    "            return\n",
    "            # raise IndexError(\"Pop from empty stack\")\n",
    "        # otherwise\n",
    "\n",
    "        # start from sentinel\n",
    "        prv_node = self.sentinel\n",
    "        cur_node = self.sentinel.next\n",
    "\n",
    "        # check for each node (find the last node)\n",
    "        while cur_node.next != None:\n",
    "            prv_node = cur_node\n",
    "            cur_node = cur_node.next        \n",
    "\n",
    "        # point to None\n",
    "        prv_node.next = None        \n",
    "        self.size -= 1\n",
    "        \n",
    "    def top(self) -> int:\n",
    "        # start from sentinel\n",
    "        cur_node = self.sentinel\n",
    "\n",
    "        # check for each node (find the last node)\n",
    "        while cur_node.next != None:\n",
    "            cur_node = cur_node.next\n",
    "\n",
    "        # return current node value\n",
    "        return cur_node.val\n",
    "\n",
    "    def getSize(self) -> int:\n",
    "        return self.size\n",
    "    \n",
    "    def isEmpty(self) -> bool:\n",
    "        return (self.size == 0)        "
   ]
  },
  {
   "cell_type": "code",
   "execution_count": null,
   "metadata": {
    "id": "YRjWz5ls9ZUh",
    "tags": []
   },
   "outputs": [],
   "source": [
    "s = myStack()"
   ]
  },
  {
   "cell_type": "code",
   "execution_count": null,
   "metadata": {
    "colab": {
     "base_uri": "https://localhost:8080/"
    },
    "executionInfo": {
     "elapsed": 5,
     "status": "ok",
     "timestamp": 1696245165907,
     "user": {
      "displayName": "­정지혜 / 학생 / 데이터사이언스학과",
      "userId": "18385305302286132298"
     },
     "user_tz": -540
    },
    "id": "gzYTu59-9ZUh",
    "outputId": "cb15a90a-d84f-413f-e251-9000f15e867e",
    "tags": []
   },
   "outputs": [],
   "source": [
    "s.push(1)\n",
    "s.push(2)\n",
    "s.push(8)\n",
    "s.pop()\n",
    "s.push(10)\n",
    "print(s.isEmpty(), s.getSize(), s.top())\n",
    "s.pop()\n",
    "print(s.isEmpty(), s.getSize(), s.top())"
   ]
  },
  {
   "cell_type": "markdown",
   "metadata": {
    "id": "YMPHMl5J9ZUi"
   },
   "source": [
    "###Q2. Reversing SLL"
   ]
  },
  {
   "cell_type": "markdown",
   "metadata": {
    "id": "sgdBwNQo9ZUi"
   },
   "source": [
    "※ Space complexity should be O(1)  \n",
    "(Generating new LinkedLists or lists is not allowed)"
   ]
  },
  {
   "cell_type": "code",
   "execution_count": null,
   "metadata": {
    "id": "lTdCGhc49ZUj"
   },
   "outputs": [],
   "source": [
    "class ListNode:\n",
    "    def __init__(self, val=0, next=None):\n",
    "        self.val = val\n",
    "        self.next = next"
   ]
  },
  {
   "cell_type": "code",
   "execution_count": null,
   "metadata": {
    "id": "ciRBsqcR9ZUj"
   },
   "outputs": [],
   "source": [
    "# converting list form into a singly linked list\n",
    "def create_linked_list(l: list) -> ListNode:\n",
    "    if len(l) == 0:\n",
    "        return None\n",
    "\n",
    "    start = ListNode(l[0])\n",
    "    node = start\n",
    "\n",
    "    for i in range(1, len(l)):\n",
    "        node_new = ListNode(l[i])\n",
    "        node.next = node_new\n",
    "        node = node_new\n",
    "\n",
    "    return start\n",
    "\n",
    "\n",
    "# printing linked-list in form of a list\n",
    "def print_linked_list(n: ListNode, l: list) -> None:\n",
    "    if n is not None:\n",
    "        l.append(n.val)\n",
    "        print_linked_list(n.next, l)\n",
    "    else:\n",
    "        print(l)\n",
    "\n",
    "\n",
    "def reverse_SSL(head: ListNode) -> ListNode:\n",
    "    ##### Write your Code Here #####\n",
    "\n",
    "    return\n",
    "    ################################"
   ]
  },
  {
   "cell_type": "code",
   "execution_count": null,
   "metadata": {},
   "outputs": [],
   "source": [
    "def reverse_SSL(head: ListNode) -> ListNode:\n",
    "    prv_node = None\n",
    "    cur_node = head\n",
    "\n",
    "    while cur_node != None:\n",
    "        # next node \n",
    "        nxt_node = cur_node.next\n",
    "        \n",
    "        # fix direction\n",
    "        cur_node.next = prv_node\n",
    "\n",
    "        # move to next\n",
    "        prv_node = cur_node\n",
    "        cur_node = nxt_node\n",
    "    return prv_node"
   ]
  },
  {
   "cell_type": "code",
   "execution_count": null,
   "metadata": {
    "colab": {
     "base_uri": "https://localhost:8080/"
    },
    "executionInfo": {
     "elapsed": 374,
     "status": "ok",
     "timestamp": 1696245135408,
     "user": {
      "displayName": "­정지혜 / 학생 / 데이터사이언스학과",
      "userId": "18385305302286132298"
     },
     "user_tz": -540
    },
    "id": "W0IY8Azn9ZUj",
    "outputId": "afcea17a-b7fb-4554-f7fc-dbdefd968387"
   },
   "outputs": [],
   "source": [
    "l1 = create_linked_list([9, 8, 7, 6, 5, 4, 3, 2, 1])\n",
    "print_linked_list(reverse_SSL(l1), [])"
   ]
  },
  {
   "cell_type": "code",
   "execution_count": null,
   "metadata": {},
   "outputs": [],
   "source": []
  }
 ],
 "metadata": {
  "colab": {
   "provenance": []
  },
  "kernelspec": {
   "display_name": "Python 3 (ipykernel)",
   "language": "python",
   "name": "python3"
  },
  "language_info": {
   "codemirror_mode": {
    "name": "ipython",
    "version": 3
   },
   "file_extension": ".py",
   "mimetype": "text/x-python",
   "name": "python",
   "nbconvert_exporter": "python",
   "pygments_lexer": "ipython3",
   "version": "3.12.7"
  },
  "vscode": {
   "interpreter": {
    "hash": "e31f0f46eebab55a29f0e124b1401c6335879e1da13c450265b689861a18de2a"
   }
  }
 },
 "nbformat": 4,
 "nbformat_minor": 4
}
