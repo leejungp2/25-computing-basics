{
 "cells": [
  {
   "cell_type": "markdown",
   "id": "f145bd19",
   "metadata": {
    "id": "f145bd19"
   },
   "source": [
    "## Practice 1. Deepest Leaves Sum\n",
    "Given the root of a binary tree, return the sum of values of its deepest leaves."
   ]
  },
  {
   "cell_type": "code",
   "execution_count": null,
   "id": "049ffc67",
   "metadata": {
    "id": "049ffc67"
   },
   "outputs": [],
   "source": [
    "# TreeNode Definition for Binary Tree\n",
    "class TreeNode:\n",
    "    def __init__(self, val=0, left=None, right=None):\n",
    "        self.val = val\n",
    "        self.left = left\n",
    "        self.right = right"
   ]
  },
  {
   "cell_type": "code",
   "execution_count": null,
   "id": "2553c694",
   "metadata": {
    "id": "2553c694"
   },
   "outputs": [],
   "source": [
    "# Tree Construction\n",
    "root = TreeNode(1)\n",
    "root.left = TreeNode(2)\n",
    "root.right = TreeNode(3)\n",
    "root.left.left = TreeNode(4)\n",
    "root.left.right = TreeNode(5)\n",
    "root.right.left = None\n",
    "root.right.right = TreeNode(6)\n",
    "root.left.left.left = TreeNode(7)\n",
    "root.left.left.right = None\n",
    "root.left.right.left = None\n",
    "root.left.right.right = None\n",
    "root.right.right.left = None\n",
    "root.right.right.right = TreeNode(8)"
   ]
  },
  {
   "cell_type": "code",
   "execution_count": null,
   "id": "d0107434",
   "metadata": {
    "id": "d0107434"
   },
   "outputs": [],
   "source": [
    "from collections import deque\n",
    "\n",
    "class Tree():\n",
    "    def __init__(self, root: TreeNode) -> None:\n",
    "        self.root = root\n",
    "\n",
    "    def deepestLeavesSum(self) -> None:\n",
    "        if self.root == None:\n",
    "            return\n",
    "\n",
    "        # init queue\n",
    "        q = deque([self.root])\n",
    "        deepest_level_sum = 0\n",
    "\n",
    "        # traverse\n",
    "        while q:\n",
    "            # current level nodes\n",
    "            level_size = len(q)\n",
    "\n",
    "            # compute current level sum\n",
    "            curr_sum = 0\n",
    "            for i in range(level_size):\n",
    "                # get current node\n",
    "                node = q.popleft()\n",
    "                # add value\n",
    "                curr_sum += node.val\n",
    "                # check next levet\n",
    "                if node.left:\n",
    "                    q.append(node.left)\n",
    "                if node.right:\n",
    "                    q.append(node.right)\n",
    "            deepest_level_sum = curr_sum\n",
    "        return deepest_level_sum"
   ]
  },
  {
   "cell_type": "code",
   "execution_count": null,
   "id": "4df2c679-20a8-4173-b6fb-7b6ad8a38b11",
   "metadata": {},
   "outputs": [],
   "source": [
    "# Create a tree\n",
    "myTree = Tree(root)\n",
    "\n",
    "# Execute preorder DFT\n",
    "myTree.deepestLeavesSum()"
   ]
  },
  {
   "cell_type": "code",
   "execution_count": null,
   "id": "52e427ea",
   "metadata": {
    "id": "52e427ea"
   },
   "outputs": [],
   "source": []
  }
 ],
 "metadata": {
  "colab": {
   "provenance": []
  },
  "kernelspec": {
   "display_name": "Python 3 (ipykernel)",
   "language": "python",
   "name": "python3"
  },
  "language_info": {
   "codemirror_mode": {
    "name": "ipython",
    "version": 3
   },
   "file_extension": ".py",
   "mimetype": "text/x-python",
   "name": "python",
   "nbconvert_exporter": "python",
   "pygments_lexer": "ipython3",
   "version": "3.12.8"
  }
 },
 "nbformat": 4,
 "nbformat_minor": 5
}
