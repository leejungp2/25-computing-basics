{
 "cells": [
  {
   "cell_type": "markdown",
   "id": "b7b9dea2",
   "metadata": {
    "id": "b7b9dea2"
   },
   "source": [
    "# In-class Exercise"
   ]
  },
  {
   "cell_type": "markdown",
   "id": "8cd0fa28",
   "metadata": {
    "id": "8cd0fa28"
   },
   "source": [
    "### Q1. Sum of subtree in BST"
   ]
  },
  {
   "cell_type": "markdown",
   "id": "63d7628e",
   "metadata": {
    "id": "63d7628e"
   },
   "source": [
    "Complete a function that returns sum of all the BST node values within the range [low, high]. Here make use of recursion as well!\n",
    "- Each node of BST is defined by TreeNode class, which is defined in BST_Helper.py file. printTree() Method returns a list of all nodes in the tree.\n",
    "- Input: Root Node of BST, low, high\n",
    "- Each node values are unique in the BST.\n",
    "- To test if your function is correct, use create_linked_bst function defined in BST_Helper.py file. It creates a BST with an input of integer list, and returns the root node. The input list has to be in a certain sequence: first element is the value of the root node, second is the value of left node of the root, third is the value of right node of the root, ... Also, if there is no node input None.\n"
   ]
  },
  {
   "cell_type": "markdown",
   "id": "458dd80d",
   "metadata": {
    "id": "458dd80d"
   },
   "source": [
    "- You should not use the method of summing up the values in a list, without using the characteristic of BST. To prevent this, the input may be given to you in a way that the condition of BST child is violated. Originally, current node's left value has to be smaller than current value, while the right value has to be bigger than current value. Here, we do not apply this rule to grand children. For example, BST below may be given to you. 9 is smaller than 10 but it is located at the right subtree of node with value 9. Refer to example 1 and 2 for the calculation of these kind of BSTs.\n"
   ]
  },
  {
   "cell_type": "markdown",
   "id": "11808137",
   "metadata": {
    "id": "11808137"
   },
   "source": [
    "Ex1) root = create_linked_bst([10,5,15,3,7, 9, 18]); P1(root, 3, 9)\n",
    "- output: 15\n",
    "- explanation: 3,5,7 is within the range, so it returns the sum of 15. Numerically, 9 is within the range too, but when we search BST, 9 is the maximum value within the range, thus we only scan through the left subtree of the root."
   ]
  },
  {
   "cell_type": "markdown",
   "id": "e1690829",
   "metadata": {
    "id": "e1690829"
   },
   "source": [
    "Ex2) root = create_linked_bst([10,5,15,3,7, 9, 18]); P1(root, 3, 15)\n",
    "- output: 49\n",
    "- explanation: 3, 5, 7, 9, 10, 15 is within the range, so it returns the sum of 49. The maximum value within the range is 15 and it's bigger than the root node value. Thus, we should search both left and right subtrees, and 9 should be included in the sum."
   ]
  },
  {
   "cell_type": "markdown",
   "id": "c8e770dc",
   "metadata": {
    "id": "c8e770dc"
   },
   "source": [
    "Ex3) root = create_linked_bst ([10,5,15,3,7,13,18,1,None,6]); P1(root, 6, 10)\n",
    "- output: 23\n",
    "- explanation: 6, 7, 10 is within the range, so it should return the sum of 23."
   ]
  },
  {
   "cell_type": "markdown",
   "id": "378deec1",
   "metadata": {
    "id": "378deec1"
   },
   "source": [
    "#### Solution"
   ]
  },
  {
   "cell_type": "code",
   "execution_count": null,
   "id": "d605922c",
   "metadata": {
    "id": "d605922c"
   },
   "outputs": [],
   "source": [
    "from BST_Helper import *"
   ]
  },
  {
   "cell_type": "code",
   "execution_count": null,
   "id": "78c884c3",
   "metadata": {
    "id": "78c884c3"
   },
   "outputs": [],
   "source": [
    "def P1(root: TreeNode, low: int, high: int) -> int:\n",
    "    if root is None:\n",
    "        return 0\n",
    "\n",
    "    # search right substree\n",
    "    if root.val < low:\n",
    "        return P1(root.right, low, high)\n",
    "    else if root.val > high: # search left substree\n",
    "        return P1(root.left, low, high)\n",
    "    # otherwise\n",
    "    # current node + all subtrees\n",
    "    return root.val + P1(root.left, low, high) + P1(root.right, low, high)"
   ]
  },
  {
   "cell_type": "code",
   "execution_count": null,
   "id": "d60cc017",
   "metadata": {
    "id": "d60cc017"
   },
   "outputs": [],
   "source": [
    "root = create_linked_bst([10, 5, 15, 3, 7, 9, 18])\n",
    "P1(root, 3, 9)"
   ]
  },
  {
   "cell_type": "code",
   "execution_count": null,
   "id": "31a8e9c7",
   "metadata": {
    "id": "31a8e9c7"
   },
   "outputs": [],
   "source": [
    "root = create_linked_bst([10, 5, 15, 3, 7, 9, 18])\n",
    "P1(root, 3, 15)"
   ]
  },
  {
   "cell_type": "code",
   "execution_count": null,
   "id": "881162f6",
   "metadata": {
    "id": "881162f6"
   },
   "outputs": [],
   "source": [
    "root = create_linked_bst([10, 5, 15, 3, 7, 13, 18, 1, None, 6])\n",
    "P1(root, 6, 10)"
   ]
  }
 ],
 "metadata": {
  "colab": {
   "provenance": []
  },
  "kernelspec": {
   "display_name": "Python 3 (ipykernel)",
   "language": "python",
   "name": "python3"
  },
  "language_info": {
   "codemirror_mode": {
    "name": "ipython",
    "version": 3
   },
   "file_extension": ".py",
   "mimetype": "text/x-python",
   "name": "python",
   "nbconvert_exporter": "python",
   "pygments_lexer": "ipython3",
   "version": "3.12.8"
  }
 },
 "nbformat": 4,
 "nbformat_minor": 5
}
