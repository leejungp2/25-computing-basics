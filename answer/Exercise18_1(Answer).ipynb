{
 "cells": [
  {
   "cell_type": "markdown",
   "id": "5afbb11d-76ac-46e5-99f8-1f190f89ad09",
   "metadata": {
    "id": "5afbb11d-76ac-46e5-99f8-1f190f89ad09"
   },
   "source": [
    "## Practice 1. BFT (Breadth-first Traversal)\n",
    "\n",
    "### Implement BFT for graph\n",
    "*  implementation of a graph given"
   ]
  },
  {
   "cell_type": "code",
   "execution_count": 1,
   "id": "efe2a389-a274-4f1c-9c60-5c261410f123",
   "metadata": {
    "id": "efe2a389-a274-4f1c-9c60-5c261410f123"
   },
   "outputs": [],
   "source": [
    "from collections import deque\n",
    "class UndirectedGraph:\n",
    "    def __init__(self, V: list, E: list) -> None:\n",
    "        self.V = V[:]\n",
    "        # intialize\n",
    "        self.neighbor = {v : [] for v in V}\n",
    "        for v, w in E:\n",
    "            if v in self.V and w in self.V:\n",
    "                self.neighbor[v].append(w)                \n",
    "                self.neighbor[w].append(v)\n",
    "    \n",
    "    def BFT(self, start_v=None):\n",
    "        if start_v is None:\n",
    "            start_v = self.V[0]\n",
    "        if start_v not in self.V:\n",
    "            raise ValueError(f\"{start_v} is not in the graph.\")\n",
    "        \n",
    "        visited = set()\n",
    "        queue = deque([start_v])\n",
    "        order = []\n",
    "        visited.add(start_v)\n",
    "        while queue:\n",
    "            # FIFO (QUEUE)\n",
    "            v = queue.popleft()\n",
    "\n",
    "            # visiting\n",
    "            order.append(v)\n",
    "\n",
    "            # check neighbors\n",
    "            for w in self.neighbor[v]:\n",
    "                # if not visited\n",
    "                if w not in visited:\n",
    "                    # visited\n",
    "                    visited.add(w)\n",
    "                    # queue\n",
    "                    queue.append(w)        \n",
    "        return order"
   ]
  },
  {
   "cell_type": "code",
   "execution_count": 2,
   "id": "d8a0531f-8b52-4695-b5b4-dfbdf1f540ce",
   "metadata": {
    "id": "d8a0531f-8b52-4695-b5b4-dfbdf1f540ce",
    "outputId": "61f98f11-51d6-48fd-9f62-38ff354a02ab",
    "scrolled": true
   },
   "outputs": [
    {
     "name": "stdout",
     "output_type": "stream",
     "text": [
      "[0, 1, 2, 3, 4, 5, 6, 7, 8, 9]\n",
      "{0: [1], 1: [0, 4, 5], 2: [3], 3: [2], 4: [1, 6], 5: [1, 6, 7], 6: [4, 5, 9], 7: [5, 8], 8: [7], 9: [6]}\n"
     ]
    }
   ],
   "source": [
    "V = [0,1,2,3,4,5,6,7,8,9]\n",
    "E = [(0,1),(1,4),(1,5),(2,3),(4,6),(5,6),(5,7),(6,9),(7,8)]\n",
    "\n",
    "graph = UndirectedGraph(V,E)\n",
    "print(graph.V)\n",
    "print(graph.neighbor)\n",
    "# graph.BFT()"
   ]
  },
  {
   "cell_type": "markdown",
   "id": "05575511-af86-4943-b119-6073159f86a0",
   "metadata": {
    "id": "05575511-af86-4943-b119-6073159f86a0"
   },
   "source": [
    "## Practice 2. Social Media\n",
    "\n",
    "In some social media platforms, there are members numbered from 1 to n, and friend relationships can be represented as tuples.\n",
    "For example, (1, 2) indicates that member 1 and member 2 are friends.\n",
    "Therefore, friend relationships can be represented as a graph.\n",
    "In this context, let's define a cluster as all members connected through friend relationships.\n",
    "\n",
    "* Implement a function called \"cluster\" that returns the number of members in the cluster to which member 1 belongs."
   ]
  },
  {
   "cell_type": "code",
   "execution_count": 3,
   "id": "34afaa10-2e8f-496b-9600-f2c9bea9fcf4",
   "metadata": {
    "id": "34afaa10-2e8f-496b-9600-f2c9bea9fcf4"
   },
   "outputs": [],
   "source": [
    "from collections import deque\n",
    "\n",
    "def socialMedia(total: int, relations: list) -> int:\n",
    "    V = list(range(1, total+1))\n",
    "    E = relations[:]\n",
    "    graph = UndirectedGraph(V, E)\n",
    "    result = graph.BFT(1)\n",
    "    return len(result)\n",
    "\n",
    "# def socialMedia(total: int, relations: list) -> int:\n",
    "#     # build a graph\n",
    "#     V = list(range(1, total+1))\n",
    "#     # intialize\n",
    "#     neighbor = {v : [] for v in V}\n",
    "#     for v, w in E:\n",
    "#         if v in V and w in V:\n",
    "#             neighbor[v].append(w)                \n",
    "#             neighbor[w].append(v)    \n",
    "\n",
    "#     start_v = 1\n",
    "#     visited = set()\n",
    "#     queue = deque([start_v])\n",
    "#     order = []\n",
    "#     visited.add(start_v)\n",
    "#     while queue:\n",
    "#         # FIFO (QUEUE)\n",
    "#         v = queue.popleft()\n",
    "    \n",
    "#         # visiting\n",
    "#         order.append(v)\n",
    "    \n",
    "#         # check neighbors\n",
    "#         for w in neighbor[v]:\n",
    "#             # if not visited\n",
    "#             if w not in visited:\n",
    "#                 # visited\n",
    "#                 visited.add(w)\n",
    "#                 # queue\n",
    "#                 queue.append(w)        \n",
    "#     return len(visited)"
   ]
  },
  {
   "cell_type": "code",
   "execution_count": 4,
   "id": "36eb5c25-2b12-4e7d-b6a9-8d608f66dde5",
   "metadata": {},
   "outputs": [
    {
     "data": {
      "text/plain": [
       "5"
      ]
     },
     "execution_count": 4,
     "metadata": {},
     "output_type": "execute_result"
    }
   ],
   "source": [
    "socialMedia(7, [(1, 2), (2,3), (1,5), (5, 2), (5, 6), (4, 7)])"
   ]
  },
  {
   "cell_type": "code",
   "execution_count": null,
   "id": "9a315886-1227-4a31-a747-4d423873fc51",
   "metadata": {
    "id": "9a315886-1227-4a31-a747-4d423873fc51",
    "outputId": "7fe5a3f1-9e82-424d-aa7c-8a250ed428e6"
   },
   "outputs": [
    {
     "data": {
      "text/plain": [
       "5"
      ]
     },
     "execution_count": 4,
     "metadata": {},
     "output_type": "execute_result"
    }
   ],
   "source": [
    "socialMedia(7, [(1, 2), (2,3), (1,5), (5, 2), (5, 6), (4, 7)])"
   ]
  },
  {
   "cell_type": "code",
   "execution_count": null,
   "id": "4c5496e2-5b02-4401-b02f-c3e184d843d5",
   "metadata": {
    "id": "4c5496e2-5b02-4401-b02f-c3e184d843d5",
    "outputId": "378c9a93-fbe0-48d6-84ea-ffc3a60ce5cf"
   },
   "outputs": [
    {
     "data": {
      "text/plain": [
       "2"
      ]
     },
     "execution_count": 5,
     "metadata": {},
     "output_type": "execute_result"
    }
   ],
   "source": [
    "socialMedia(4, [(1, 2), (2, 1), (3, 4)])"
   ]
  },
  {
   "cell_type": "code",
   "execution_count": 5,
   "id": "77d539bb-e8e8-406f-851a-d13e728efed7",
   "metadata": {},
   "outputs": [
    {
     "data": {
      "text/plain": [
       "2"
      ]
     },
     "execution_count": 5,
     "metadata": {},
     "output_type": "execute_result"
    }
   ],
   "source": [
    "socialMedia(4, [(1, 2), (2, 1), (3, 4)])"
   ]
  },
  {
   "cell_type": "code",
   "execution_count": null,
   "id": "1a9a747b-0d9f-4ea2-97e2-e01f26e22293",
   "metadata": {},
   "outputs": [],
   "source": []
  }
 ],
 "metadata": {
  "colab": {
   "provenance": []
  },
  "kernelspec": {
   "display_name": "Python 3 (ipykernel)",
   "language": "python",
   "name": "python3"
  },
  "language_info": {
   "codemirror_mode": {
    "name": "ipython",
    "version": 3
   },
   "file_extension": ".py",
   "mimetype": "text/x-python",
   "name": "python",
   "nbconvert_exporter": "python",
   "pygments_lexer": "ipython3",
   "version": "3.12.7"
  }
 },
 "nbformat": 4,
 "nbformat_minor": 5
}
