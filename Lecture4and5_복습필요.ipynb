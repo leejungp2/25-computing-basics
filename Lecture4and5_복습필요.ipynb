{
 "cells": [
  {
   "cell_type": "markdown",
   "id": "bb0f94b0",
   "metadata": {},
   "source": [
    "## Quiz 정답"
   ]
  },
  {
   "cell_type": "code",
   "execution_count": 13,
   "id": "28780ac4",
   "metadata": {},
   "outputs": [
    {
     "name": "stdout",
     "output_type": "stream",
     "text": [
      "[1, 2, 3, 5]\n"
     ]
    }
   ],
   "source": [
    "# 문제 3\n",
    "lst = [1, 2, 3]\n",
    "lst.append(5)\n",
    "\n",
    "print(lst)"
   ]
  },
  {
   "cell_type": "code",
   "execution_count": null,
   "id": "fa0c3724",
   "metadata": {},
   "outputs": [
    {
     "name": "stdout",
     "output_type": "stream",
     "text": [
      "[5, 3, 2]\n"
     ]
    }
   ],
   "source": [
    "lst_A = lst\n",
    "lst_A.reverse() # [5, 3, 2, 1]로 뒤집기\n",
    "lst_A.pop() # 마지막 요소 1 제거\n",
    "##  pop()은 리스트뿐만 아니라 딕셔너리, 세트에서도 사용할 수 있으며, 요소를 제거하면서 동시에 그 값을 반환하는 유용한 메서드\n",
    "print(lst_A)"
   ]
  },
  {
   "cell_type": "code",
   "execution_count": 10,
   "id": "78b584a6",
   "metadata": {},
   "outputs": [
    {
     "name": "stdout",
     "output_type": "stream",
     "text": [
      "[2, 3]\n",
      "[2, 3, 1, 2, 3]\n"
     ]
    }
   ],
   "source": [
    "lst_B = lst_A[:2]\n",
    "lst_B = lst_B*2\n",
    "lst_B.insert(2, 1)\n",
    "\n",
    "print(lst_A)\n",
    "print(lst_B)"
   ]
  },
  {
   "cell_type": "code",
   "execution_count": null,
   "id": "ec438e59",
   "metadata": {},
   "outputs": [
    {
     "name": "stdout",
     "output_type": "stream",
     "text": [
      "[1, 2, 4, 4, 6]\n"
     ]
    }
   ],
   "source": [
    "# 문제 4\n",
    "lst = [1, 2, 3, 4, 5]\n",
    "for i in range(4, 0, -1):\n",
    "    if i == 3:\n",
    "        continue # continue는 밑에를 skip\n",
    "    elif i<2:\n",
    "        break # break는 미래까지 skip -> i = 4, 2일 때만 실행\n",
    "    lst[i] = lst[i] + 1\n",
    "print(lst)"
   ]
  },
  {
   "cell_type": "markdown",
   "id": "a9f0285f",
   "metadata": {},
   "source": [
    "<range 함수의 구조>\n",
    "``` \n",
    "start: 시작 값 (포함)\n",
    "stop: 끝 값 (포함되지 않음)\n",
    "step: 증가/감소 폭\n",
    "``` "
   ]
  },
  {
   "cell_type": "code",
   "execution_count": null,
   "id": "e2843da7",
   "metadata": {},
   "outputs": [
    {
     "data": {
      "text/plain": [
       "[4, 3, 2, 1]"
      ]
     },
     "execution_count": 1,
     "metadata": {},
     "output_type": "execute_result"
    }
   ],
   "source": [
    "list(range(4, 0, -1))"
   ]
  },
  {
   "cell_type": "code",
   "execution_count": null,
   "id": "199f2313",
   "metadata": {},
   "outputs": [
    {
     "data": {
      "text/plain": [
       "[0, 1, 2, 3, 4, 5, 6, 7, 8, 9]"
      ]
     },
     "execution_count": 3,
     "metadata": {},
     "output_type": "execute_result"
    }
   ],
   "source": [
    "list(range(0, 10, 1))"
   ]
  },
  {
   "cell_type": "code",
   "execution_count": null,
   "id": "77e1aaa5",
   "metadata": {},
   "outputs": [
    {
     "name": "stdout",
     "output_type": "stream",
     "text": [
      "0\n",
      "1\n",
      "2\n",
      "3\n",
      "4\n",
      "5\n",
      "6\n",
      "7\n",
      "8\n",
      "9\n"
     ]
    }
   ],
   "source": [
    "# 위와 동일한 구조\n",
    "for i in range(10):\n",
    "    print(i)"
   ]
  },
  {
   "cell_type": "markdown",
   "id": "5cc9fb1d",
   "metadata": {},
   "source": [
    "## Module"
   ]
  },
  {
   "cell_type": "code",
   "execution_count": 15,
   "id": "9a37db95",
   "metadata": {},
   "outputs": [
    {
     "name": "stdout",
     "output_type": "stream",
     "text": [
      "5.0\n",
      "9.0\n",
      "30.0\n"
     ]
    }
   ],
   "source": [
    "import temp as tmp\n",
    "\n",
    "print(tmp.a)\n",
    "print(tmp.b)\n",
    "print(tmp.convert_to_celcius(86))"
   ]
  },
  {
   "cell_type": "code",
   "execution_count": 16,
   "id": "fa584f7c",
   "metadata": {},
   "outputs": [],
   "source": [
    "a = [1, 2, 3, 4]"
   ]
  },
  {
   "cell_type": "code",
   "execution_count": null,
   "id": "c371d703",
   "metadata": {},
   "outputs": [
    {
     "data": {
      "text/plain": [
       "list"
      ]
     },
     "execution_count": 17,
     "metadata": {},
     "output_type": "execute_result"
    }
   ],
   "source": [
    "type(a) #data type 반환"
   ]
  },
  {
   "cell_type": "code",
   "execution_count": null,
   "id": "9c5965af",
   "metadata": {},
   "outputs": [
    {
     "data": {
      "text/plain": [
       "2"
      ]
     },
     "execution_count": 18,
     "metadata": {},
     "output_type": "execute_result"
    }
   ],
   "source": [
    "a[1] # 1은 앞에서 두 번째"
   ]
  },
  {
   "cell_type": "code",
   "execution_count": null,
   "id": "678cdaa5",
   "metadata": {},
   "outputs": [
    {
     "data": {
      "text/plain": [
       "4"
      ]
     },
     "execution_count": 19,
     "metadata": {},
     "output_type": "execute_result"
    }
   ],
   "source": [
    "a[-1] # 마이너스는 뒤에서 첫 번째"
   ]
  },
  {
   "cell_type": "code",
   "execution_count": null,
   "id": "daf2fb33",
   "metadata": {},
   "outputs": [],
   "source": [
    "def P1(input_list: list[int])-> int: #return 값도 int\n",
    "    # return summation value -> initialize\n",
    "    pos_sum = 0 # 아무 값도 없다고 초기화\n",
    "    \n",
    "    # for each value in the list\n",
    "    for i in input_list:\n",
    "        # check each value, positive or not\n",
    "        if i in input_list:\n",
    "            if i>0:\n",
    "                pos_sum = pos_sum + 1 # pos_sum += 1\n",
    "            # otherwise, nothing\n",
    "    \n",
    "    # return\n",
    "    return pos_sum"
   ]
  },
  {
   "cell_type": "code",
   "execution_count": 22,
   "id": "5d78eb20",
   "metadata": {},
   "outputs": [
    {
     "data": {
      "text/plain": [
       "1"
      ]
     },
     "execution_count": 22,
     "metadata": {},
     "output_type": "execute_result"
    }
   ],
   "source": [
    "P1([-1, -2, 3])"
   ]
  },
  {
   "cell_type": "markdown",
   "id": "afc0ac3b",
   "metadata": {},
   "source": [
    "### Exercise: print starts\n",
    "- Task: Make a function that print stars as below.\n",
    "(1) star_flag(n) (n is a positive number)\n",
    "\n",
    "```\n",
    "def star_flag(n: int) -> None:\n",
    "\n",
    "```\n",
    "\n",
    "*\n",
    "**\n",
    "***\n",
    "**\n",
    "*\n",
    "\n",
    "cf) return 값이 없을 때 none 사용"
   ]
  },
  {
   "cell_type": "code",
   "execution_count": null,
   "id": "b14c4f13",
   "metadata": {},
   "outputs": [],
   "source": [
    "def star_flag(n: int) -> None:\n",
    "    for i in range(n):\n",
    "        print('*'*(i+1))\n",
    "    for i in range (n-1, 0, -1): # 중간 값은 하나만 출력되어야 함.\n",
    "        print ('*'*(i))"
   ]
  }
 ],
 "metadata": {
  "kernelspec": {
   "display_name": "basic-computing",
   "language": "python",
   "name": "python3"
  },
  "language_info": {
   "codemirror_mode": {
    "name": "ipython",
    "version": 3
   },
   "file_extension": ".py",
   "mimetype": "text/x-python",
   "name": "python",
   "nbconvert_exporter": "python",
   "pygments_lexer": "ipython3",
   "version": "3.10.18"
  }
 },
 "nbformat": 4,
 "nbformat_minor": 5
}
