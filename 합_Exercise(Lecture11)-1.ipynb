{
 "cells": [
  {
   "cell_type": "markdown",
   "id": "30b4ee4d",
   "metadata": {
    "id": "30b4ee4d"
   },
   "source": [
    "# Q1. Pascal's Triangle"
   ]
  },
  {
   "attachments": {},
   "cell_type": "markdown",
   "id": "7d527a27",
   "metadata": {
    "id": "7d527a27"
   },
   "source": [
    "### Create a function for calculating a list of row index of the Pascal’s triangle"
   ]
  },
  {
   "cell_type": "code",
   "execution_count": 3,
   "id": "6b416b8c",
   "metadata": {},
   "outputs": [],
   "source": [
    "from typing import List"
   ]
  },
  {
   "cell_type": "code",
   "execution_count": 4,
   "id": "24bdf330",
   "metadata": {},
   "outputs": [],
   "source": [
    "def Pascal(n: int) -> List[int]:\n",
    "    # base case: if-elif\n",
    "    if n == 0:\n",
    "        return [1]\n",
    "    elif n == 1:\n",
    "        return [1, 1]\n",
    "\n",
    "    # otherwise, recursive case: for문, curr_output 반환    \n",
    "    prev_output = Pascal(n-1) # 바로 위 행을 재귀적으로 계산해서 저장\n",
    "    curr_output = [1] # 각 행의 첫 번쨰 원소는 항상 1\n",
    "    for i in range(len(prev_output)-1): # 마지막 인덱스는 i+1이 존재하지 않으므로 -1 (range 다음은 항상 len!)\n",
    "        curr_output.append(prev_output[i] + prev_output[i+1]) # 위의 두 개 항을 더해서 리스트에 추가\n",
    "    curr_output.append(1) # 마지막 원소도 항상 1\n",
    "    return curr_output"
   ]
  },
  {
   "cell_type": "code",
   "execution_count": 5,
   "id": "a7c3aa06",
   "metadata": {},
   "outputs": [
    {
     "name": "stdout",
     "output_type": "stream",
     "text": [
      "[1]\n",
      "[1, 1]\n",
      "[1, 2, 1]\n",
      "[1, 3, 3, 1]\n",
      "[1, 4, 6, 4, 1]\n",
      "[1, 5, 10, 10, 5, 1]\n",
      "[1, 6, 15, 20, 15, 6, 1]\n",
      "[1, 7, 21, 35, 35, 21, 7, 1]\n",
      "[1, 8, 28, 56, 70, 56, 28, 8, 1]\n",
      "[1, 9, 36, 84, 126, 126, 84, 36, 9, 1]\n"
     ]
    }
   ],
   "source": [
    "for i in range(10):\n",
    "    print(Pascal(i))"
   ]
  },
  {
   "cell_type": "markdown",
   "id": "70163ceb",
   "metadata": {
    "id": "70163ceb"
   },
   "source": [
    "# Q2. Merge Sort"
   ]
  },
  {
   "cell_type": "markdown",
   "id": "da9c09ab",
   "metadata": {
    "id": "da9c09ab"
   },
   "source": [
    "### Create a function for outputting a list and a value from the merge sort in the order"
   ]
  },
  {
   "cell_type": "code",
   "execution_count": null,
   "id": "2b3e28f5",
   "metadata": {
    "id": "2b3e28f5",
    "outputId": "8e403c29-fb97-4868-a9bf-60fb2433c042"
   },
   "outputs": [],
   "source": [
    "# 이거 Q3이랑 똑같음!\n",
    "def mergeSortHelp(L:list, first:int, last:int) -> None:\n",
    "    if first == last: # Base Case\n",
    "        return\n",
    "    else: # Recursive Case\n",
    "        # Step 1 : Divide it into two sublists\n",
    "        mid = first + (last - first) // 2 # mid 계산법 잘 보기\n",
    "        # Step 2 : Sort the two sublists\n",
    "        mergeSortHelp(L, first, mid)\n",
    "        mergeSortHelp(L, mid+1, last)\n",
    "        # Step 3 : Merge the two \"sorted\" sublists\n",
    "        merge(L, first, mid, last)\n",
    "\n",
    "        \n",
    "def merge(L:list, first:int, mid:int, last:int) -> None:\n",
    "    # get current lists (left, write)\n",
    "    half1_list = L[first:(mid+1)]\n",
    "    half2_list = L[(mid+1):(last+1)]\n",
    "\n",
    "    # set start point\n",
    "    i = first\n",
    "    h1 = 0 # half1_list에서 읽어올 포인터\n",
    "    h2 = 0 # half2_list에서 읽어올 포인터\n",
    "\n",
    "    # merge by comparing\n",
    "    while h1 < len(half1_list) and h2 < len(half2_list):\n",
    "        # if the left one is larger than the right one\n",
    "        if half1_list[h1] <= half2_list[h2]:\n",
    "            # assign and move\n",
    "            L[i] = half1_list[h1] # 더 작은 값을 i 위치에 써 넣음\n",
    "            h1 += 1\n",
    "        else:\n",
    "            # assign and move\n",
    "            L[i] = half2_list[h2]\n",
    "            h2 += 1\n",
    "        print(L, L[i])\n",
    "        # move: 리스트 L의 다음 위치로 이동\n",
    "        i += 1\n",
    "    \n",
    "    # remaining\n",
    "    if h1 < len(half1_list):\n",
    "        for j in range(h1, len(half1_list)):\n",
    "            L[i] = half1_list[j] # j = 남은 원소의 인덱스\n",
    "            print(L, L[i])\n",
    "            i += 1\n",
    "    elif h2 < len(half2_list):\n",
    "        for j in range(h2, len(half2_list)):\n",
    "            L[i] = half2_list[j]\n",
    "            print(L, L[i])\n",
    "            i += 1        \n",
    "            \n"
   ]
  },
  {
   "cell_type": "code",
   "execution_count": 7,
   "id": "8678ffc3",
   "metadata": {},
   "outputs": [
    {
     "name": "stdout",
     "output_type": "stream",
     "text": [
      "[4, 5, 1, 3, 2] 4\n",
      "[4, 5, 1, 3, 2] 5\n",
      "[1, 5, 1, 3, 2] 1\n",
      "[1, 4, 1, 3, 2] 4\n",
      "[1, 4, 5, 3, 2] 5\n",
      "[1, 4, 5, 2, 2] 2\n",
      "[1, 4, 5, 2, 3] 3\n",
      "[1, 4, 5, 2, 3] 1\n",
      "[1, 2, 5, 2, 3] 2\n",
      "[1, 2, 3, 2, 3] 3\n",
      "[1, 2, 3, 4, 3] 4\n",
      "[1, 2, 3, 4, 5] 5\n"
     ]
    }
   ],
   "source": [
    "L = [4, 5, 1, 3, 2]\n",
    "mergeSortHelp(L, 0, 4)"
   ]
  }
 ],
 "metadata": {
  "colab": {
   "provenance": []
  },
  "kernelspec": {
   "display_name": "basic-computing",
   "language": "python",
   "name": "python3"
  },
  "language_info": {
   "codemirror_mode": {
    "name": "ipython",
    "version": 3
   },
   "file_extension": ".py",
   "mimetype": "text/x-python",
   "name": "python",
   "nbconvert_exporter": "python",
   "pygments_lexer": "ipython3",
   "version": "3.10.18"
  }
 },
 "nbformat": 4,
 "nbformat_minor": 5
}
