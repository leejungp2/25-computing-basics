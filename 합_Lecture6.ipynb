{
 "cells": [
  {
   "cell_type": "markdown",
   "id": "3af0798e",
   "metadata": {},
   "source": [
    "## Lecture 6: Sets and Tuples, Dictionary, Mutability"
   ]
  },
  {
   "cell_type": "markdown",
   "id": "7d94c834",
   "metadata": {},
   "source": [
    "## 1. Find Duplicates\n",
    "\n",
    "- Take a list of integers as input argument, and return a set of numbers that appear two or more times.\n",
    "- 입력 리스트(input_list)를 받아서, 리스트 내에서 두 번 이상 등장하는 원소만 모아 set으로 반환하는 함수.\n",
    "\n",
    "Ex 1)\n",
    "- P1([1, 2, 3, 1])\n",
    "- {1}\n",
    "\n",
    "Ex 2)\n",
    "- P1([1, 1, 2, 3, 3, 3])\n",
    "- {1, 3}\n",
    "\n",
    "Ex 3)\n",
    "- P1([1, 2, 3, 4, 5]) seto"
   ]
  },
  {
   "cell_type": "code",
   "execution_count": null,
   "id": "001cc99f-b9e2-485e-a178-56a0bd727aca",
   "metadata": {},
   "outputs": [],
   "source": [
    "#* input은 list & set, output은 set\n",
    "def P1(input_list: list[int])->set:\n",
    "    output_set = set()\n",
    "    input_set = set(input_list)\n",
    "\n",
    "    for i in input_set:\n",
    "        if input_list.count(i) >= 2:\n",
    "            output_set.add(i)    \n",
    "    return output_set"
   ]
  },
  {
   "cell_type": "code",
   "execution_count": 2,
   "id": "62321b5c-9deb-4df2-9ad6-72e1a455cad8",
   "metadata": {},
   "outputs": [],
   "source": [
    "# output에 dict 만들어놓고 set에 추가\n",
    "def P1(input_list: list[int])->set:\n",
    "    output_cnt = dict() # key: 리스트 원소, value: 등장 횟수\n",
    "    output_set = set()\n",
    "\n",
    "    # for each data\n",
    "    for i in input_list:\n",
    "        if i in output_cnt: # if data already counted\n",
    "            output_cnt[i] += 1\n",
    "            output_set.add(i)\n",
    "        else:\n",
    "            output_cnt[i] = 1; # 최초 개수 세기, i가 key, 1이 value\n",
    "    return output_set"
   ]
  },
  {
   "cell_type": "code",
   "execution_count": 3,
   "id": "acc21a07-1bb5-4c37-8faf-5a3606095ee3",
   "metadata": {},
   "outputs": [],
   "source": [
    "# output으로 dict 먼저 계산 후, output_set 리스트 새로 생성\n",
    "def P1(input_list: list[int])->set:\n",
    "    # counter (key = integer, value = count)\n",
    "    output_cnt = dict() # 등장 횟수를 dictionary 저장\n",
    "\n",
    "    # for each data \n",
    "    for i in input_list:\n",
    "        if i in output_cnt: # \n",
    "            output_cnt[i] += 1;            \n",
    "        else:\n",
    "            output_cnt[i] = 1;  \n",
    "    \n",
    "    # dict counter >= 2\n",
    "    output_set = []\n",
    "    for key, val in output_cnt.items():\n",
    "        if val >= 2:\n",
    "            output_set.append(key)\n",
    "        \n",
    "    return set(output_set)"
   ]
  },
  {
   "cell_type": "code",
   "execution_count": null,
   "id": "53e179ac",
   "metadata": {},
   "outputs": [],
   "source": [
    "# 교수님 풀이 1\n",
    "def P1(input_list: list[int]) -> set:\n",
    "    # counter (key = integer, value = count)\n",
    "    output_cnt = dict()\n",
    "\n",
    "    # for each data\n",
    "    for i in input_list:\n",
    "        # if data already counted\n",
    "        if i in output_cnt:\n",
    "            output_cnt[i] += 1\n",
    "        else:\n",
    "            output_cnt[i] = 1\n",
    "    \n",
    "    # dict counter >= 2\n",
    "    output_set = []\n",
    "    for key, val in output_cnt.items():\n",
    "        if val >= 2:\n",
    "            output_set.append(key)\n",
    "    \n",
    "    return set(output_set)"
   ]
  },
  {
   "cell_type": "code",
   "execution_count": null,
   "id": "52b61f74",
   "metadata": {},
   "outputs": [],
   "source": [
    "# 교수님 풀이 2\n",
    "def P1(input_list: list[int]) -> set:\n",
    "    output_set = set()\n",
    "    input_set\n",
    "    # set으로 만들어주면, unique한 데이터만 돌리는 상황이 됨.\n",
    "    # 그 상황에서 개수만 체크"
   ]
  },
  {
   "cell_type": "code",
   "execution_count": 4,
   "id": "a9e89b01-b0a5-46a7-9665-17b8ecdb8e90",
   "metadata": {},
   "outputs": [
    {
     "data": {
      "text/plain": [
       "{1}"
      ]
     },
     "execution_count": 4,
     "metadata": {},
     "output_type": "execute_result"
    }
   ],
   "source": [
    "P1([1, 2, 3, 1])"
   ]
  },
  {
   "cell_type": "code",
   "execution_count": 5,
   "id": "43b77baf-9dd0-41fd-805f-48104331f11d",
   "metadata": {},
   "outputs": [
    {
     "data": {
      "text/plain": [
       "{1, 3}"
      ]
     },
     "execution_count": 5,
     "metadata": {},
     "output_type": "execute_result"
    }
   ],
   "source": [
    "P1([1, 1, 2, 3, 3, 3])"
   ]
  },
  {
   "cell_type": "code",
   "execution_count": 6,
   "id": "50bc2b15-cfb8-418b-854f-daa98195f85f",
   "metadata": {},
   "outputs": [
    {
     "data": {
      "text/plain": [
       "set()"
      ]
     },
     "execution_count": 6,
     "metadata": {},
     "output_type": "execute_result"
    }
   ],
   "source": [
    "P1([1, 2, 3, 4, 5])"
   ]
  },
  {
   "cell_type": "markdown",
   "id": "d19ae26b",
   "metadata": {},
   "source": [
    "## Exercise 2: dictionary에서 value가 가장 큰 key를 찾아서 반환하는 함수"
   ]
  },
  {
   "cell_type": "markdown",
   "id": "0bba3a7e",
   "metadata": {},
   "source": [
    "### 2. Particle with Highest Probability\n",
    "- Probability of detecting each subatomic particles is given in the form of dictionary {str: float}.\n",
    "- Make a function that returns the particle with the highest probability.\n",
    "There is no case that the probability is the same among different particles.\n",
    "\n",
    "```\n",
    "Ex 1)\n",
    ">>> P2({'neutron': 0.55, 'proton': 0.21, 'meson': 0.03, 'muon': 0.07, 'neutrino': 0.14})\n",
    "'neutron'\n",
    "\n",
    "Ex 2)\n",
    ">>> P2({'neutron': 0.11, 'proton': 0.21, 'meson': 0.05, 'muon': 0.09, 'neutrino': 0.12})\n",
    "'proton'\n",
    "```"
   ]
  },
  {
   "cell_type": "code",
   "execution_count": null,
   "id": "b07ba3cf-9017-4594-8873-0a3a293c0093",
   "metadata": {},
   "outputs": [],
   "source": [
    "#* 목표: probability가 가장 높은 애의 key값을 반환하는 것\n",
    "def P2(input_dict: dict)->str:\n",
    "    # get values \n",
    "    prob_list = list(input_dict.values()) # 리스트로 바꿔서 저장\n",
    "    print(prob_list)\n",
    "    # get max prob\n",
    "    max_prob = max(prob_list)\n",
    "    print(max_prob)\n",
    "\n",
    "    # find the right key\n",
    "    ## key 사용\n",
    "    for key in input_dict.keys():\n",
    "        if input_dict[key] == max_prob:\n",
    "            return key\n",
    "        "
   ]
  },
  {
   "cell_type": "code",
   "execution_count": null,
   "id": "3b29d4a3",
   "metadata": {},
   "outputs": [],
   "source": [
    "#* 이건 두 풀이 다 괜찮았음!\n",
    "def P2(input_dict: dict)->str:\n",
    "    # get values \n",
    "    prob_list = list(input_dict.values())\n",
    "    print(prob_list)\n",
    "    # get max prob\n",
    "    max_prob = max(prob_list)\n",
    "    print(max_prob)\n",
    "\n",
    "    # find the right key\n",
    "    ## key, value 둘 다 사용\n",
    "    for key, value in input_dict.items():\n",
    "        if value == max_prob:\n",
    "            return key"
   ]
  },
  {
   "cell_type": "code",
   "execution_count": 8,
   "id": "4c8d34e9-efc2-4b96-adca-b292179f57de",
   "metadata": {},
   "outputs": [
    {
     "name": "stdout",
     "output_type": "stream",
     "text": [
      "[0.55, 0.21, 0.03]\n",
      "0.55\n"
     ]
    },
    {
     "data": {
      "text/plain": [
       "'ne'"
      ]
     },
     "execution_count": 8,
     "metadata": {},
     "output_type": "execute_result"
    }
   ],
   "source": [
    "P2({'ne': 0.55, 'pro': 0.21, 'me': 0.03})"
   ]
  },
  {
   "cell_type": "code",
   "execution_count": 69,
   "id": "542a8516-62e0-4451-878c-f2dcb2c9699c",
   "metadata": {},
   "outputs": [
    {
     "name": "stdout",
     "output_type": "stream",
     "text": [
      "[0.11, 0.21, 0.05]\n",
      "0.21\n"
     ]
    },
    {
     "data": {
      "text/plain": [
       "'pro'"
      ]
     },
     "execution_count": 69,
     "metadata": {},
     "output_type": "execute_result"
    }
   ],
   "source": [
    "P2({'ne': 0.11, 'pro': 0.21, 'me': 0.05})"
   ]
  },
  {
   "cell_type": "markdown",
   "id": "ea58697d",
   "metadata": {},
   "source": [
    "### Exercise 3: 딕셔너리 안에 또 다른 딕셔너리(inner dictionary)가 들어 있는 중첩 구조에서, inner dictionary의 key 구조가 비슷한지 비교"
   ]
  },
  {
   "cell_type": "markdown",
   "id": "e9f473f7",
   "metadata": {},
   "source": [
    "### 3. Check Dictionary of Dictionaries\n",
    "=> 문제가 불완전쓰\n",
    "- {'A': {1: 'a', 2: 'b'}, 'B': {2: 'c', 3: 'd'}}\n",
    "- {'a': {'aa':123, 'ab': [1,2]}, 'b': {'aa': 'bb', 'ab': 'cc'}}\n",
    "\n",
    "```\n",
    "Ex 1)\n",
    ">>> P3(fa': {'aa':123, 'ab': [1,21}, 'b': {'aa': 'bb', 'ab': 'cc'}})\n",
    "1\n",
    "# (Explanation: All values have the same keys, {'aa', 'ab'}.)\n",
    "\n",
    "Ex 2)\n",
    ">>> P3('A': {1: 'a', 2: 'b'}, 'B': {2: 'c', 3: 'd'})\n",
    "```"
   ]
  },
  {
   "cell_type": "code",
   "execution_count": null,
   "id": "c2a36d55-f1cf-4f71-af6f-fc83ecf6c2ae",
   "metadata": {},
   "outputs": [],
   "source": [
    "def P3(input_dict):\n",
    "    output_set = set()\n",
    "    for key, inner_dict in input_dict.items():\n",
    "        output_set.add(list(inner_dict.keys())) # list로 하면 에러남. set과 안맞음.\n",
    "    if len(output_set) == 1:\n",
    "        return 1\n",
    "    else:\n",
    "        return 0"
   ]
  },
  {
   "cell_type": "code",
   "execution_count": null,
   "id": "d88c546a",
   "metadata": {},
   "outputs": [],
   "source": [
    "#* 연습하기 -> tuple로 바꾸면 에러 사라짐\n",
    "def P3(input_dict):\n",
    "    # set 선언 먼저\n",
    "    output_set = set()\n",
    "    # input이 되는 딕셔너리에서 inner dict 빼냄. 그래서 output_set으로 만듦\n",
    "    for key, inner_dict in input_dict.items():\n",
    "        output_set.add(tuple(inner_dict.keys()))\n",
    "    if len(output_set) == 1:\n",
    "        return 1\n",
    "    else:\n",
    "        return 0"
   ]
  },
  {
   "cell_type": "code",
   "execution_count": 19,
   "id": "0bd1e7e8-d15d-4846-9ef5-f4e6bebf697f",
   "metadata": {},
   "outputs": [
    {
     "data": {
      "text/plain": [
       "1"
      ]
     },
     "execution_count": 19,
     "metadata": {},
     "output_type": "execute_result"
    }
   ],
   "source": [
    "P3({'a': {'aa':123, 'ab': [1,2]}, 'b': {'aa': 'bb', 'ab': 'cc'}})"
   ]
  },
  {
   "cell_type": "code",
   "execution_count": 20,
   "id": "8bfc70d3-f560-4e35-88d7-80ef376c0916",
   "metadata": {},
   "outputs": [
    {
     "data": {
      "text/plain": [
       "0"
      ]
     },
     "execution_count": 20,
     "metadata": {},
     "output_type": "execute_result"
    }
   ],
   "source": [
    "P3({'A': {1: 'a', 2: 'b'}, 'B': {2: 'c', 3: 'd'}})"
   ]
  }
 ],
 "metadata": {
  "kernelspec": {
   "display_name": "basic-computing",
   "language": "python",
   "name": "python3"
  },
  "language_info": {
   "codemirror_mode": {
    "name": "ipython",
    "version": 3
   },
   "file_extension": ".py",
   "mimetype": "text/x-python",
   "name": "python",
   "nbconvert_exporter": "python",
   "pygments_lexer": "ipython3",
   "version": "3.10.18"
  }
 },
 "nbformat": 4,
 "nbformat_minor": 5
}
