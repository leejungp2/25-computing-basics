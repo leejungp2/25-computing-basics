{
 "cells": [
  {
   "cell_type": "markdown",
   "id": "8bdab5a1",
   "metadata": {},
   "source": [
    "몫과 나머지"
   ]
  },
  {
   "cell_type": "code",
   "execution_count": 1,
   "id": "7638fa31",
   "metadata": {},
   "outputs": [],
   "source": [
    "def my_devide(num1: int, num2: int) -> None:\n",
    "    quotient = num1 // num2 # 함수 안에서 정의된 variable은 함수 안에서만 작동함\n",
    "    remainder = num1 % num2\n",
    "    return quotient, remainder\n",
    "              "
   ]
  },
  {
   "cell_type": "code",
   "execution_count": 2,
   "id": "3a3c55e7",
   "metadata": {},
   "outputs": [],
   "source": [
    "def my_devide(num1: int, num2: int) -> None:\n",
    "    quotient, remainder = divmod(num1, num2)\n",
    "    return quotient, remainder"
   ]
  },
  {
   "cell_type": "code",
   "execution_count": 3,
   "id": "89e99122",
   "metadata": {},
   "outputs": [],
   "source": [
    "def my_devide(num1: int, num2: int) -> None:\n",
    "    quotient = int(num1 / num2)\n",
    "    remainder = num1 - num2*quotient\n",
    "    return quotient, remainder"
   ]
  },
  {
   "cell_type": "code",
   "execution_count": 6,
   "id": "ec81766e",
   "metadata": {},
   "outputs": [],
   "source": [
    "num1 = 6\n",
    "num2 = 4"
   ]
  },
  {
   "cell_type": "code",
   "execution_count": 7,
   "id": "70a9223c",
   "metadata": {},
   "outputs": [
    {
     "data": {
      "text/plain": [
       "(1, 2)"
      ]
     },
     "execution_count": 7,
     "metadata": {},
     "output_type": "execute_result"
    }
   ],
   "source": [
    "my_devide(num1, num2)"
   ]
  },
  {
   "cell_type": "markdown",
   "id": "c61c8f31",
   "metadata": {},
   "source": [
    "n각형 대각선 개수"
   ]
  },
  {
   "cell_type": "code",
   "execution_count": 8,
   "id": "8949a14c",
   "metadata": {},
   "outputs": [],
   "source": [
    "# 대각선 개수 식: n(n-3) / 2\n",
    "def my_diagonal(num1: int) -> None:\n",
    "    diagonal = int(num1 * (num1-3)/2)\n",
    "    return diagonal"
   ]
  },
  {
   "cell_type": "markdown",
   "id": "cd6590ab",
   "metadata": {},
   "source": [
    "간단 퀴즈"
   ]
  },
  {
   "cell_type": "code",
   "execution_count": null,
   "id": "88a03083",
   "metadata": {},
   "outputs": [
    {
     "ename": "NameError",
     "evalue": "name 'false' is not defined",
     "output_type": "error",
     "traceback": [
      "\u001b[0;31m---------------------------------------------------------------------------\u001b[0m",
      "\u001b[0;31mNameError\u001b[0m                                 Traceback (most recent call last)",
      "Cell \u001b[0;32mIn[9], line 2\u001b[0m\n\u001b[1;32m      1\u001b[0m \u001b[38;5;66;03m# quiz\u001b[39;00m\n\u001b[0;32m----> 2\u001b[0m \u001b[43mfalse\u001b[49m \u001b[38;5;129;01mor\u001b[39;00m \u001b[38;5;28;01mTrue\u001b[39;00m \u001b[38;5;129;01mand\u001b[39;00m \u001b[38;5;129;01mnot\u001b[39;00m \u001b[38;5;28;01mFalse\u001b[39;00m\n",
      "\u001b[0;31mNameError\u001b[0m: name 'false' is not defined"
     ]
    }
   ],
   "source": [
    "# quiz 1\n",
    "false or True and not False\n",
    "# 파이썬에서 false는 앞에가 대문자로 정의 되어야 함."
   ]
  },
  {
   "cell_type": "markdown",
   "id": "e4d03334",
   "metadata": {},
   "source": [
    "### String"
   ]
  },
  {
   "cell_type": "code",
   "execution_count": 10,
   "id": "d91f692f",
   "metadata": {},
   "outputs": [
    {
     "data": {
      "text/plain": [
       "''"
      ]
     },
     "execution_count": 10,
     "metadata": {},
     "output_type": "execute_result"
    }
   ],
   "source": [
    "\"30\" * 0"
   ]
  },
  {
   "cell_type": "code",
   "execution_count": 11,
   "id": "125c78b4",
   "metadata": {},
   "outputs": [
    {
     "data": {
      "text/plain": [
       "'303030'"
      ]
     },
     "execution_count": 11,
     "metadata": {},
     "output_type": "execute_result"
    }
   ],
   "source": [
    "\"30\" * 3"
   ]
  },
  {
   "cell_type": "code",
   "execution_count": 12,
   "id": "ed496d8b",
   "metadata": {},
   "outputs": [
    {
     "data": {
      "text/plain": [
       "'--------------------'"
      ]
     },
     "execution_count": 12,
     "metadata": {},
     "output_type": "execute_result"
    }
   ],
   "source": [
    "\"-\" * 20"
   ]
  },
  {
   "cell_type": "code",
   "execution_count": 13,
   "id": "d8d3e49c",
   "metadata": {},
   "outputs": [
    {
     "data": {
      "text/plain": [
       "'3020'"
      ]
     },
     "execution_count": 13,
     "metadata": {},
     "output_type": "execute_result"
    }
   ],
   "source": [
    "\"30\" + '20'"
   ]
  },
  {
   "cell_type": "code",
   "execution_count": 16,
   "id": "50aee121",
   "metadata": {},
   "outputs": [
    {
     "name": "stdout",
     "output_type": "stream",
     "text": [
      "Wrong\n"
     ]
    }
   ],
   "source": [
    "if len('30*0') == '300'.count(\"30\"):\n",
    "    print('Right')\n",
    "else:\n",
    "    print(\"Wrong\")"
   ]
  },
  {
   "cell_type": "code",
   "execution_count": null,
   "id": "01778cc0",
   "metadata": {},
   "outputs": [],
   "source": [
    "a = input() # print와 input은 출력 방향이 다름"
   ]
  },
  {
   "cell_type": "code",
   "execution_count": 18,
   "id": "227135da",
   "metadata": {},
   "outputs": [
    {
     "data": {
      "text/plain": [
       "'My name is jung'"
      ]
     },
     "execution_count": 18,
     "metadata": {},
     "output_type": "execute_result"
    }
   ],
   "source": [
    "a"
   ]
  },
  {
   "cell_type": "code",
   "execution_count": 19,
   "id": "e374e54d",
   "metadata": {},
   "outputs": [],
   "source": [
    "b = input(\"What is your name? :\")"
   ]
  },
  {
   "cell_type": "code",
   "execution_count": 20,
   "id": "b81390cb",
   "metadata": {},
   "outputs": [
    {
     "data": {
      "text/plain": [
       "'My name is jung'"
      ]
     },
     "execution_count": 20,
     "metadata": {},
     "output_type": "execute_result"
    }
   ],
   "source": [
    "b"
   ]
  },
  {
   "cell_type": "markdown",
   "id": "13f2e2fd",
   "metadata": {},
   "source": [
    "### Control Structures\n",
    "아스키코드 상에서의 대소관계 비교\n",
    "- boolean type\n",
    "- if-else\n",
    "- \"in\" operator"
   ]
  },
  {
   "cell_type": "code",
   "execution_count": 21,
   "id": "b79b33ca",
   "metadata": {},
   "outputs": [
    {
     "data": {
      "text/plain": [
       "True"
      ]
     },
     "execution_count": 21,
     "metadata": {},
     "output_type": "execute_result"
    }
   ],
   "source": [
    "0 == False"
   ]
  },
  {
   "cell_type": "code",
   "execution_count": 22,
   "id": "5bc7f1a6",
   "metadata": {},
   "outputs": [
    {
     "data": {
      "text/plain": [
       "False"
      ]
     },
     "execution_count": 22,
     "metadata": {},
     "output_type": "execute_result"
    }
   ],
   "source": [
    "\"0\" == False"
   ]
  },
  {
   "cell_type": "markdown",
   "id": "3c07ab62",
   "metadata": {},
   "source": [
    "### Task\n",
    "- Referring to a beef temperature chart.\n",
    "- input: internal_temperature (ex. 50도)\n",
    "- return: roasted degree (Rare, Medium rare, Medium, Well done)\n",
    "\n",
    "<참고 사항>\n",
    "- Rare: 45-47\n",
    "- Medium rare: 50-52\n",
    "- Medium: 55-60\n",
    "- Well done: 64-70\n",
    "\n",
    "cf) 49도면 어떻게 반환해야 하지?"
   ]
  },
  {
   "cell_type": "code",
   "execution_count": null,
   "id": "8244e438",
   "metadata": {},
   "outputs": [],
   "source": [
    "a = input(\"What is the internal temperature?\")\n",
    "\n",
    "# 조건문을 반드시 함수 안에 넣을 것...\n",
    "if 45<=a<48"
   ]
  },
  {
   "cell_type": "code",
   "execution_count": null,
   "id": "2804963f",
   "metadata": {},
   "outputs": [],
   "source": [
    "# 답지\n",
    "def roasting (internal_temperature: int) -> str:\n",
    "    if 45<= temp <= 47: \n",
    "        return \"Rare\"\n",
    "    else:\n",
    "        roasted = \"Undefined\"\n",
    "    return roasted\n",
    "\n",
    "# 이렇게 할꺼면 처음에 roasted = \"undefined\" 같이 초기 조건을 assign 해야함"
   ]
  },
  {
   "cell_type": "code",
   "execution_count": null,
   "id": "3efa2306",
   "metadata": {},
   "outputs": [],
   "source": [
    "## 교수님 답지\n",
    "def beef_cook(temp):\n",
    "    if temp >= 45 and temp<=47:\n",
    "        return \"Rare\"\n",
    "    elif temp >= 50 and temp <=52:\n",
    "        return \"Medium Rare\"\n",
    "    elif temp >= 55 and temp <= 57:\n",
    "        return \"Medium\"\n",
    "    elif temp >=64 and temp<=70:\n",
    "        return \"Well Done\"\n",
    "    else:\n",
    "        return \"애매모호\"\n",
    "# -> 위의 예시보다, 이렇게 바로 return을 하도록 하는 게 더 좋은 예시"
   ]
  },
  {
   "cell_type": "markdown",
   "id": "3e721d6b",
   "metadata": {},
   "source": [
    "### split()\n",
    "- Exercise: Split first name and last name"
   ]
  },
  {
   "cell_type": "code",
   "execution_count": 27,
   "id": "af272fbc",
   "metadata": {},
   "outputs": [
    {
     "data": {
      "text/plain": [
       "['abcdefgh']"
      ]
     },
     "execution_count": 27,
     "metadata": {},
     "output_type": "execute_result"
    }
   ],
   "source": [
    "\"abcdefgh\".split()"
   ]
  },
  {
   "cell_type": "code",
   "execution_count": 28,
   "id": "fbe5e40c",
   "metadata": {},
   "outputs": [
    {
     "data": {
      "text/plain": [
       "['ab', 'cdef', 'gh']"
      ]
     },
     "execution_count": 28,
     "metadata": {},
     "output_type": "execute_result"
    }
   ],
   "source": [
    "\"ab cdef gh\".split()"
   ]
  },
  {
   "cell_type": "code",
   "execution_count": 29,
   "id": "595196a9",
   "metadata": {},
   "outputs": [
    {
     "data": {
      "text/plain": [
       "['ab\\\\cdef', 'gh']"
      ]
     },
     "execution_count": 29,
     "metadata": {},
     "output_type": "execute_result"
    }
   ],
   "source": [
    "\"ab\\cdef\\ngh\".split()"
   ]
  },
  {
   "cell_type": "code",
   "execution_count": 30,
   "id": "dcceff0a",
   "metadata": {},
   "outputs": [
    {
     "data": {
      "text/plain": [
       "['Ju', 'g Lee']"
      ]
     },
     "execution_count": 30,
     "metadata": {},
     "output_type": "execute_result"
    }
   ],
   "source": [
    "\"Jung Lee\".split(\"n\")"
   ]
  }
 ],
 "metadata": {
  "kernelspec": {
   "display_name": "basic-computing",
   "language": "python",
   "name": "python3"
  },
  "language_info": {
   "codemirror_mode": {
    "name": "ipython",
    "version": 3
   },
   "file_extension": ".py",
   "mimetype": "text/x-python",
   "name": "python",
   "nbconvert_exporter": "python",
   "pygments_lexer": "ipython3",
   "version": "3.10.18"
  }
 },
 "nbformat": 4,
 "nbformat_minor": 5
}
