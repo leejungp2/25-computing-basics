{
 "cells": [
  {
   "cell_type": "markdown",
   "metadata": {},
   "source": [
    "## **Exercise** : Basic Sorting Algorithm - selection sort and insertion sort "
   ]
  },
  {
   "cell_type": "markdown",
   "metadata": {},
   "source": [
    "##### 숫자 N을 입력으로 받고, \n",
    "##### 1) N을 구성하는 숫자들을 활용하여, 가장 큰 값을 만들고 \n",
    "##### 2) 30의 배수인지 확인\n",
    "\n",
    "##### [Conditions]\n",
    "##### 입력 (INPUT) : N을 입력받는다. N는 최대 100,000개의 숫자로 구성되어 있으며, 0으로 시작하지 않는다.\n",
    "##### 출력 (OUTPUT) : 위의 조건을 만족하면 해당 수를 출력. 만족하지 않는다면, -1을 출력하라."
   ]
  },
  {
   "cell_type": "markdown",
   "metadata": {},
   "source": [
    "**Examples**\n",
    "\n",
    "| input example  |  output example |\n",
    "| :--: | :--: |\n",
    "|    30  |   30  |\n",
    "|   102 | 210  |\n",
    "|   2931   |   -1   |\n",
    "|   80875542   |    88755420  |"
   ]
  },
  {
   "cell_type": "markdown",
   "metadata": {},
   "source": [
    "### selection sort"
   ]
  },
  {
   "cell_type": "code",
   "execution_count": null,
   "metadata": {},
   "outputs": [],
   "source": [
    "def selection_sort(N:int):   \n",
    "    "
   ]
  },
  {
   "cell_type": "code",
   "execution_count": null,
   "metadata": {},
   "outputs": [],
   "source": [
    "insertion_sort(102)"
   ]
  },
  {
   "cell_type": "code",
   "execution_count": null,
   "metadata": {},
   "outputs": [],
   "source": [
    "insertion_sort(2931)"
   ]
  },
  {
   "cell_type": "markdown",
   "metadata": {},
   "source": [
    "### insertion sort"
   ]
  },
  {
   "cell_type": "code",
   "execution_count": null,
   "metadata": {},
   "outputs": [],
   "source": [
    "def insertion_sort(N: int):\n"
   ]
  },
  {
   "cell_type": "code",
   "execution_count": null,
   "metadata": {},
   "outputs": [],
   "source": [
    "selection_sort(102)"
   ]
  },
  {
   "cell_type": "code",
   "execution_count": null,
   "metadata": {},
   "outputs": [],
   "source": [
    "selection_sort(2931)"
   ]
  }
 ],
 "metadata": {
  "kernelspec": {
   "display_name": "Python 3 (ipykernel)",
   "language": "python",
   "name": "python3"
  },
  "language_info": {
   "codemirror_mode": {
    "name": "ipython",
    "version": 3
   },
   "file_extension": ".py",
   "mimetype": "text/x-python",
   "name": "python",
   "nbconvert_exporter": "python",
   "pygments_lexer": "ipython3",
   "version": "3.12.8"
  },
  "vscode": {
   "interpreter": {
    "hash": "bdf171008f7f94bb9a9655f8b98be42976f175d5e0f2758d662f461298401f1f"
   }
  }
 },
 "nbformat": 4,
 "nbformat_minor": 4
}
