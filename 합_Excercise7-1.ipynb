{
 "cells": [
  {
   "cell_type": "markdown",
   "id": "37da5851",
   "metadata": {},
   "source": [
    "# Practice 1. Café menu\n",
    "\n",
    "Write two functions to read a cafe's menu from a text file (menu.txt) and return a list of menu.\n",
    "\n",
    "* menu - returns list of lists\n",
    "* reverse_menu - returns a list of strings in reverse order"
   ]
  },
  {
   "cell_type": "code",
   "execution_count": 11,
   "id": "80d140a0",
   "metadata": {},
   "outputs": [],
   "source": [
    "from typing import TextIO, List"
   ]
  },
  {
   "cell_type": "code",
   "execution_count": 12,
   "id": "8a29fdd4",
   "metadata": {},
   "outputs": [],
   "source": [
    "def menu(filename : str) -> List[List]:\n",
    "    # 빈 리스트 생성\n",
    "    out_list = []\n",
    "    # Write your code here\n",
    "    with open('files/menu.txt', 'r') as f:\n",
    "        # 이 방법은 readlines 쓰는 단계를 건너 뛰고 바로 for문에서 파일 순회\n",
    "        for line in f: # 한 줄씩 읽어서 줄바꿈 제거 후 공백 기준 분리 \n",
    "            words = line.strip().split()\n",
    "            out_list.append(words)\n",
    "    return out_list"
   ]
  },
  {
   "cell_type": "code",
   "execution_count": 13,
   "id": "60b34296",
   "metadata": {},
   "outputs": [],
   "source": [
    "# 수업 방법 1\n",
    "def menu(filename : str) -> List[List]:\n",
    "    out_list = []\n",
    "    try:\n",
    "        with open(filename, \"r\") as f:\n",
    "            content = f.readlines()\n",
    "            for l in content:\n",
    "                word_list = l.split()\n",
    "                out_list.append(word_list)\n",
    "    except FileNotFoundError:\n",
    "        print(\"파일을 찾을 수 없습니다.\")\n",
    "\n",
    "    return out_list"
   ]
  },
  {
   "cell_type": "code",
   "execution_count": 14,
   "id": "35fef3d2",
   "metadata": {},
   "outputs": [],
   "source": [
    "# 수업 방법 2\n",
    "## 이거 맨 위에 방법이랑 동일. try-except 문 쓴 거 빼고.\n",
    "def menu(filename : str) -> List[List]:\n",
    "    out_list = []\n",
    "    try:\n",
    "        with open(filename, \"r\") as f:\n",
    "            for line in f:\n",
    "                out_list.append(line.split())\n",
    "    except FileNotFoundError:\n",
    "        print(\"파일을 찾을 수 없습니다.\")\n",
    "\n",
    "    return out_list"
   ]
  },
  {
   "cell_type": "code",
   "execution_count": 15,
   "id": "2301df84",
   "metadata": {},
   "outputs": [
    {
     "data": {
      "text/plain": [
       "[['Americano', '3.66', '4.11', '4.56'],\n",
       " ['CafeLatte', '4.11', '4.56', '5.00'],\n",
       " ['CafeMocha', '4.55', '5.00', '5.45'],\n",
       " ['DecafeCaffeLatte', '4.38', '4.82']]"
      ]
     },
     "execution_count": 15,
     "metadata": {},
     "output_type": "execute_result"
    }
   ],
   "source": [
    "menu('/Users/Owner/git_inside/25-2-basic-computing/files/menu.txt')"
   ]
  },
  {
   "cell_type": "code",
   "execution_count": 16,
   "id": "355a34c8",
   "metadata": {},
   "outputs": [],
   "source": [
    "# 방법1 (너무 간결해서 알아보기 좀 힘듦)\n",
    "def reverse_menu(filename: str) -> list:\n",
    "    with open('files/menu.txt', 'r') as f:\n",
    "        lines = [line.strip() for line in f if line.strip()]\n",
    "        return lines[::-1]"
   ]
  },
  {
   "cell_type": "code",
   "execution_count": 17,
   "id": "b153071e",
   "metadata": {},
   "outputs": [],
   "source": [
    "# 방법2 -> 새 리스트에 추가 (strip -> reverse)\n",
    "def reverse_menu(filename: str) -> list:\n",
    "    reverse_list = []\n",
    "    # Write your code here\n",
    "    with open('files/menu.txt', 'r') as f:\n",
    "        lines = f.readlines()\n",
    "    # 역순으로 순회하면서 개행 문자 제거\n",
    "    for line in reversed(lines): # reversed는 리스트만 역순으로 만들 수 있음. 따라서 위와 코드가 좀 달라짐.\n",
    "        stripped_line = line.strip()\n",
    "        if stripped_line:\n",
    "            reverse_list.append(stripped_line)\n",
    "    return reverse_list"
   ]
  },
  {
   "cell_type": "code",
   "execution_count": null,
   "id": "b0dec5f0",
   "metadata": {},
   "outputs": [],
   "source": [
    "#* 방법3: 수업 -> 기존 리스트 수정 (reverse -> strip)\n",
    "def reverse_menu(filename: str) -> list:\n",
    "    reverse_list = []\n",
    "    try:\n",
    "        with open(filename, \"r\") as f:\n",
    "            reverse_list = f.readlines()\n",
    "            reverse_list = reverse_list[::-1] # 처음부터 끝까지 역순으로\n",
    "            for i, line in enumerate(reverse_list):\n",
    "                reverse_list[i] = line.strip()\n",
    "    except FileNotFoundError:\n",
    "        print(\"파일을 찾을 수 없습니다.\")\n",
    "    return reverse_list"
   ]
  },
  {
   "cell_type": "code",
   "execution_count": 19,
   "id": "501bc6d0",
   "metadata": {},
   "outputs": [
    {
     "data": {
      "text/plain": [
       "['DecafeCaffeLatte 4.38 4.82',\n",
       " 'CafeMocha 4.55 5.00 5.45',\n",
       " 'CafeLatte 4.11 4.56 5.00',\n",
       " 'Americano 3.66 4.11 4.56']"
      ]
     },
     "execution_count": 19,
     "metadata": {},
     "output_type": "execute_result"
    }
   ],
   "source": [
    "reverse_menu('/Users/Owner/git_inside/25-2-basic-computing/files/menu.txt')"
   ]
  },
  {
   "cell_type": "markdown",
   "id": "36383641",
   "metadata": {},
   "source": [
    "# Practice 2. Find the largest number\n",
    "\n",
    "Suppose the file (file_practice.txt) contains 1) numbers ending with ‘.'   and 2) comments written after hash symbol(#).  \n",
    "Write a code that 3) finds the largest number in the file.\n",
    "\n",
    "* 2)관련: Ignore any part of the line commented with ‘#’."
   ]
  },
  {
   "cell_type": "code",
   "execution_count": 20,
   "id": "59c8bdda",
   "metadata": {},
   "outputs": [],
   "source": [
    "from typing import TextIO"
   ]
  },
  {
   "cell_type": "code",
   "execution_count": null,
   "id": "f9b47dc5",
   "metadata": {},
   "outputs": [],
   "source": [
    "#* 수업 코드: 모든 숫자를 리스트에 모아서 한 번에 max() 계산\n",
    "def findLargestNum(filename : str) -> int:\n",
    "    total_num_list = [] # 리스트 초기화\n",
    "    try:\n",
    "        with open(\"files/file_practice.txt\", \"r\") as f: # 파일 열기\n",
    "            for line in f: # 파일 한 줄씩 읽기\n",
    "                if line.startswith('#'): # 주석 건너뛰기 - startswith: 내장 문자열 메서드\n",
    "                    continue\n",
    "                # line: 파일의 한 줄(문자열)\n",
    "                line = line.split(\"#\")[0] # 나눠서 중간 주석 제거 - split[0]: split 후 앞부분만 남김\n",
    "                # num_list: 그 줄 안에 있는 숫자들 리스트\n",
    "                num_list = line.split()  # 나누기 - split(): 남은 데이터를 공백 기준으로 나눔\n",
    "                for num in num_list: # 양 끝 점 제거 - strip()\n",
    "                    total_num_list.append(int(num.strip(\".\")))\n",
    "    except FileNotFoundError:\n",
    "        print('파일을 찾을 수 없습니다.')\n",
    "        \n",
    "    return max(total_num_list)"
   ]
  },
  {
   "cell_type": "code",
   "execution_count": 30,
   "id": "bae50308",
   "metadata": {},
   "outputs": [
    {
     "data": {
      "text/plain": [
       "6721"
      ]
     },
     "execution_count": 30,
     "metadata": {},
     "output_type": "execute_result"
    }
   ],
   "source": [
    "findLargestNum('files/file_practice.txt')"
   ]
  },
  {
   "cell_type": "code",
   "execution_count": 37,
   "id": "cd14198f",
   "metadata": {},
   "outputs": [],
   "source": [
    "# GPT 코드: 한 줄에서 바로 숫자를 읽어가며 실시간으로 최댓값 갱신\n",
    "# 이러면 메모리를 덜 쓴다네요..\n",
    "def findLargestNum_2(filename : str) -> int:\n",
    "    # 가장 작은 값으로 초기화 -> 무한히 작은 수를 뜻함 \n",
    "    maxNum = float('-inf')\n",
    "    \n",
    "    # 파일 열기\n",
    "    with open('files/file_practice.txt', 'r') as file:\n",
    "        # 전처리 (3가지)\n",
    "        for line in file: # 파일의 데이터 한 줄 = line\n",
    "            # 1. '#'으로 시작하는 헤더 줄은 건너뛴다.\n",
    "            if line.startswith('#'):\n",
    "                continue\n",
    "            \n",
    "            # 2. '#' 이후 주석 및 공백 제거: split, strip\n",
    "            line = line.split('#')[0].strip() \n",
    "            \n",
    "            # 3. 빈 줄이면 스킵: if not - continue\n",
    "            if not line: \n",
    "                continue\n",
    "            \n",
    "            # 4. 공백 기준으로 숫자 분리\n",
    "            num_list = line.split()\n",
    "            \n",
    "            # 5. 각 숫자 처리: endswith, slicing\n",
    "            for num_str in num_list:\n",
    "                # '.' 없애기\n",
    "                if num_str.endswith('.'):\n",
    "                    num_str = num_str[:-1]\n",
    "            \n",
    "                # 6. 숫자 변환 후 최댓값 갱신: try-except, float\n",
    "                try:\n",
    "                    num = float(num_str)\n",
    "                    if num > maxNum:\n",
    "                        maxNum = num  \n",
    "                except ValueError: # 숫자로 변환 안 되면 무시\n",
    "                    continue\n",
    "    \n",
    "    return int(maxNum)"
   ]
  },
  {
   "cell_type": "code",
   "execution_count": 38,
   "id": "ce0c8b9d",
   "metadata": {},
   "outputs": [
    {
     "data": {
      "text/plain": [
       "6721"
      ]
     },
     "execution_count": 38,
     "metadata": {},
     "output_type": "execute_result"
    }
   ],
   "source": [
    "findLargestNum_2('files/file_practice.txt')"
   ]
  }
 ],
 "metadata": {
  "kernelspec": {
   "display_name": "basic-computing",
   "language": "python",
   "name": "python3"
  },
  "language_info": {
   "codemirror_mode": {
    "name": "ipython",
    "version": 3
   },
   "file_extension": ".py",
   "mimetype": "text/x-python",
   "name": "python",
   "nbconvert_exporter": "python",
   "pygments_lexer": "ipython3",
   "version": "3.10.18"
  }
 },
 "nbformat": 4,
 "nbformat_minor": 5
}
