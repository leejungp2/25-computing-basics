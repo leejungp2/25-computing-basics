{
 "cells": [
  {
   "cell_type": "markdown",
   "metadata": {
    "id": "I9FM6s1o9ZUc"
   },
   "source": [
    "# In-class Exercise"
   ]
  },
  {
   "cell_type": "markdown",
   "metadata": {
    "id": "pz0rVpAR9ZUf"
   },
   "source": [
    "### Q1.Stack"
   ]
  },
  {
   "cell_type": "markdown",
   "metadata": {
    "id": "q9INvpLR9ZUf"
   },
   "source": [
    "push(x): Add a LinkedNode that has val x to myStack  \n",
    "pop: Remove the most recently added LinkedNode from myStack  \n",
    "top: Return val of the most recently added LinkedNode  \n",
    "getSize: Return the number of LinkedNodes in myStack  \n",
    "isEmpty: Return True if myStack is empty, or False otherwise."
   ]
  },
  {
   "cell_type": "code",
   "execution_count": 1,
   "metadata": {
    "id": "a2xIR4I69ZUg",
    "tags": []
   },
   "outputs": [],
   "source": [
    "class LinkedNode():\n",
    "    def __init__(self, x):\n",
    "        self.val = x\n",
    "        self.next = None\n",
    "\n",
    "\n",
    "class myStack():\n",
    "    def __init__(self) -> None:\n",
    "        self.sentinel = LinkedNode(0) # sentinel 처음 설정\n",
    "        self.size = 0\n",
    "\n",
    "    # push: 스택에 새 원소 추가\n",
    "    def push(self, x: int) -> None:\n",
    "        ##### Write your Code Here #####\n",
    "        new_node = LinkedNode(x)\n",
    "        # sentinel에서 시작\n",
    "        cur_node = self.sentinel\n",
    "        \n",
    "        while cur_node.next != None: # check each node: while문\n",
    "            cur_node = cur_node.next\n",
    "        \n",
    "        cur_node.next = new_node # 마지막 노드의 next에서 새 노드 연결\n",
    "        self.size += 1 # size 1 증가\n",
    "    \n",
    "    # pop: 스택의 가장 마지막 원소 제거\n",
    "    def pop(self) -> None:\n",
    "        ##### Write your Code Here #####\n",
    "        if self.size == 0:\n",
    "            return\n",
    "        # sentinel에서 시작\n",
    "        prv_node = self.sentinel\n",
    "        cur_node = self.sentinel.next\n",
    "        \n",
    "        while cur_node.next != None:\n",
    "            prv_node = cur_node\n",
    "            cur_node = cur_node.next\n",
    "            \n",
    "        # point to None\n",
    "        prv_node.next = None\n",
    "        self.size -=1\n",
    "\n",
    "    # top(): 마지막 값 확인\n",
    "    def top(self) -> int:\n",
    "        ##### Write your Code Here #####\n",
    "        cur_node = self.sentinel\n",
    "        while cur_node.next != None:\n",
    "            cur_node = cur_node.next\n",
    "        return cur_node.val\n",
    "\n",
    "    # getSize(): 스택 크기 반환\n",
    "    def getSize(self) -> int:\n",
    "        ##### Write your Code Here #####\n",
    "        return self.size\n",
    "\n",
    "    # isEmpty(): 스택이 비었는지 확인\n",
    "    def isEmpty(self) -> bool:\n",
    "        ##### Write your Code Here #####\n",
    "        def isEmpty(self) -> bool:\n",
    "            return (self.size == 0)"
   ]
  },
  {
   "cell_type": "code",
   "execution_count": 2,
   "metadata": {
    "id": "YRjWz5ls9ZUh",
    "tags": []
   },
   "outputs": [],
   "source": [
    "s = myStack()"
   ]
  },
  {
   "cell_type": "code",
   "execution_count": 3,
   "metadata": {
    "colab": {
     "base_uri": "https://localhost:8080/"
    },
    "executionInfo": {
     "elapsed": 5,
     "status": "ok",
     "timestamp": 1696245165907,
     "user": {
      "displayName": "­정지혜 / 학생 / 데이터사이언스학과",
      "userId": "18385305302286132298"
     },
     "user_tz": -540
    },
    "id": "gzYTu59-9ZUh",
    "outputId": "cb15a90a-d84f-413f-e251-9000f15e867e",
    "tags": []
   },
   "outputs": [
    {
     "name": "stdout",
     "output_type": "stream",
     "text": [
      "None 1 10\n",
      "None 0 0\n"
     ]
    }
   ],
   "source": [
    "s.push(10)\n",
    "print(s.isEmpty(), s.getSize(), s.top())\n",
    "s.pop()\n",
    "print(s.isEmpty(), s.getSize(), s.top())"
   ]
  },
  {
   "cell_type": "markdown",
   "metadata": {
    "id": "YMPHMl5J9ZUi"
   },
   "source": [
    "### Q2. Reversing SLL"
   ]
  },
  {
   "cell_type": "markdown",
   "metadata": {
    "id": "sgdBwNQo9ZUi"
   },
   "source": [
    "※ Space complexity should be O(1)  \n",
    "(Generating new LinkedLists or lists is not allowed)"
   ]
  },
  {
   "cell_type": "code",
   "execution_count": null,
   "metadata": {
    "id": "lTdCGhc49ZUj"
   },
   "outputs": [],
   "source": [
    "class ListNode:\n",
    "    def __init__(self, val=0, next=None):\n",
    "        self.val = val\n",
    "        self.next = next"
   ]
  },
  {
   "cell_type": "code",
   "execution_count": null,
   "metadata": {
    "id": "ciRBsqcR9ZUj"
   },
   "outputs": [],
   "source": [
    "# converting list form into a singly linked list\n",
    "def create_linked_list(l: list) -> ListNode:\n",
    "    if len(l) == 0:\n",
    "        return None\n",
    "\n",
    "    start = ListNode(l[0])\n",
    "    node = start\n",
    "\n",
    "    for i in range(1, len(l)):\n",
    "        node_new = ListNode(l[i])\n",
    "        node.next = node_new\n",
    "        node = node_new\n",
    "\n",
    "    return start\n",
    "\n",
    "\n",
    "# printing linked-list in form of a list\n",
    "def print_linked_list(n: ListNode, l: list) -> None:\n",
    "    if n is not None:\n",
    "        l.append(n.val)\n",
    "        print_linked_list(n.next, l)\n",
    "    else:\n",
    "        print(l)\n",
    "\n",
    "\n",
    "def reverse_SSL(head: ListNode) -> ListNode:\n",
    "    ##### Write your Code Here #####\n",
    "    # 이전 노드를 가리키는 포인터 (처음엔 None)\n",
    "    prv_node = None\n",
    "    # 현재 노드를 가리키는 포인터 (head부터 시작)\n",
    "    cur_node = head\n",
    "\n",
    "    # 리스트의 끝(None)에 도달할 때까지 반복: while문\n",
    "    while cur_node != None:\n",
    "        # 1️⃣ 다음 노드를 미리 저장해둔다 (끊기 전에 next 위치 기억)\n",
    "        nxt_node = cur_node.next\n",
    "\n",
    "        # 2️⃣ 현재 노드의 next 방향을 이전 노드로 뒤집는다\n",
    "        cur_node.next = prv_node\n",
    "\n",
    "        # 3️⃣ 이전 노드를 현재 노드로 옮긴다\n",
    "        prv_node = cur_node\n",
    "\n",
    "        # 4️⃣ 현재 노드를 다음 노드로 옮긴다\n",
    "        cur_node = nxt_node\n",
    "\n",
    "    # 반복문이 끝나면 prv_node가 새로운 head가 된다\n",
    "    return prv_node"
   ]
  },
  {
   "cell_type": "code",
   "execution_count": null,
   "metadata": {
    "colab": {
     "base_uri": "https://localhost:8080/"
    },
    "executionInfo": {
     "elapsed": 374,
     "status": "ok",
     "timestamp": 1696245135408,
     "user": {
      "displayName": "­정지혜 / 학생 / 데이터사이언스학과",
      "userId": "18385305302286132298"
     },
     "user_tz": -540
    },
    "id": "W0IY8Azn9ZUj",
    "outputId": "afcea17a-b7fb-4554-f7fc-dbdefd968387"
   },
   "outputs": [
    {
     "name": "stdout",
     "output_type": "stream",
     "text": [
      "[3, 1, 2, 4]\n"
     ]
    }
   ],
   "source": [
    "l1 = create_linked_list([4, 2, 1, 3])\n",
    "print_linked_list(reverse_SSL(l1), [])"
   ]
  }
 ],
 "metadata": {
  "colab": {
   "provenance": []
  },
  "kernelspec": {
   "display_name": "basic-computing",
   "language": "python",
   "name": "python3"
  },
  "language_info": {
   "codemirror_mode": {
    "name": "ipython",
    "version": 3
   },
   "file_extension": ".py",
   "mimetype": "text/x-python",
   "name": "python",
   "nbconvert_exporter": "python",
   "pygments_lexer": "ipython3",
   "version": "3.10.18"
  }
 },
 "nbformat": 4,
 "nbformat_minor": 0
}
