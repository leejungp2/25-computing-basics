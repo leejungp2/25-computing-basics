{
 "cells": [
  {
   "cell_type": "markdown",
   "id": "59f00f9a",
   "metadata": {},
   "source": [
    "### Reassignment"
   ]
  },
  {
   "cell_type": "code",
   "execution_count": 1,
   "id": "319cb2cd",
   "metadata": {},
   "outputs": [],
   "source": [
    "f = min"
   ]
  },
  {
   "cell_type": "code",
   "execution_count": 2,
   "id": "7941ed32",
   "metadata": {},
   "outputs": [
    {
     "data": {
      "text/plain": [
       "<function min>"
      ]
     },
     "execution_count": 2,
     "metadata": {},
     "output_type": "execute_result"
    }
   ],
   "source": [
    "f"
   ]
  },
  {
   "cell_type": "code",
   "execution_count": null,
   "id": "6b66ed8f",
   "metadata": {},
   "outputs": [],
   "source": [
    "# 순서대로 배정되므로 f는 max에 assign 됨\n",
    "f = max"
   ]
  },
  {
   "cell_type": "code",
   "execution_count": null,
   "id": "ead0445e",
   "metadata": {},
   "outputs": [],
   "source": [
    "# 동시에 두 개 assign 가능\n",
    "g, h = min, max"
   ]
  },
  {
   "cell_type": "code",
   "execution_count": null,
   "id": "d73a1f5f",
   "metadata": {},
   "outputs": [],
   "source": [
    "# max라는 variable이 새로 생기고, 여기에 g를 연결하는 개념\n",
    "max = g"
   ]
  },
  {
   "cell_type": "code",
   "execution_count": 11,
   "id": "c30bcd7e",
   "metadata": {},
   "outputs": [
    {
     "data": {
      "text/plain": [
       "3"
      ]
     },
     "execution_count": 11,
     "metadata": {},
     "output_type": "execute_result"
    }
   ],
   "source": [
    "max(f(2, g(h(1,5),3)),4)\n",
    "## 밖에서부터 하나씩 정리해보면 됨\n",
    "# max는 variable이므로 함수 max가 아니라, variable로 변환 됨\n",
    "# 실제로는 g = min으로 변환 된 것\n",
    "# f는 max 함수 / g(h(1,5)) = 5 / 3\n",
    "# g(h(1,5), 3) = 3\n"
   ]
  },
  {
   "cell_type": "code",
   "execution_count": 12,
   "id": "de125809",
   "metadata": {},
   "outputs": [],
   "source": [
    "GSDS = 10\n",
    "gsds = -10"
   ]
  },
  {
   "cell_type": "code",
   "execution_count": 13,
   "id": "a9accdaf",
   "metadata": {},
   "outputs": [
    {
     "data": {
      "text/plain": [
       "10"
      ]
     },
     "execution_count": 13,
     "metadata": {},
     "output_type": "execute_result"
    }
   ],
   "source": [
    "GSDS"
   ]
  },
  {
   "cell_type": "code",
   "execution_count": 14,
   "id": "5d31a9ce",
   "metadata": {},
   "outputs": [
    {
     "data": {
      "text/plain": [
       "-10"
      ]
     },
     "execution_count": 14,
     "metadata": {},
     "output_type": "execute_result"
    }
   ],
   "source": [
    "gsds"
   ]
  },
  {
   "cell_type": "code",
   "execution_count": 15,
   "id": "ac56d35b",
   "metadata": {},
   "outputs": [],
   "source": [
    "age = 32\n",
    "month = 8"
   ]
  },
  {
   "cell_type": "code",
   "execution_count": 16,
   "id": "b7ffdd78",
   "metadata": {},
   "outputs": [],
   "source": [
    "final_result = age + month * 23"
   ]
  },
  {
   "cell_type": "code",
   "execution_count": 17,
   "id": "b8e2d74f",
   "metadata": {},
   "outputs": [
    {
     "data": {
      "text/plain": [
       "216"
      ]
     },
     "execution_count": 17,
     "metadata": {},
     "output_type": "execute_result"
    }
   ],
   "source": [
    "final_result"
   ]
  },
  {
   "cell_type": "code",
   "execution_count": 18,
   "id": "e5f5f785",
   "metadata": {},
   "outputs": [],
   "source": [
    "last_name = \"??\"\n",
    "first_name = \"??\""
   ]
  },
  {
   "cell_type": "code",
   "execution_count": 19,
   "id": "d31b5b94",
   "metadata": {},
   "outputs": [
    {
     "data": {
      "text/plain": [
       "'??'"
      ]
     },
     "execution_count": 19,
     "metadata": {},
     "output_type": "execute_result"
    }
   ],
   "source": [
    "first_name"
   ]
  },
  {
   "cell_type": "markdown",
   "id": "88617b49",
   "metadata": {},
   "source": [
    "### Int vs. Float\n",
    "- float 형태가 integer보다 memory를 많이 차지함"
   ]
  },
  {
   "cell_type": "code",
   "execution_count": null,
   "id": "d0ac0ae3",
   "metadata": {},
   "outputs": [
    {
     "data": {
      "text/plain": [
       "2"
      ]
     },
     "execution_count": 20,
     "metadata": {},
     "output_type": "execute_result"
    }
   ],
   "source": [
    "8 //  # 얘만 int 형태로 나옴"
   ]
  },
  {
   "cell_type": "code",
   "execution_count": null,
   "id": "e120b901",
   "metadata": {},
   "outputs": [
    {
     "data": {
      "text/plain": [
       "2.0"
      ]
     },
     "execution_count": 21,
     "metadata": {},
     "output_type": "execute_result"
    }
   ],
   "source": [
    "2.0 - 2.0 + 2 # float & int = float"
   ]
  },
  {
   "cell_type": "code",
   "execution_count": 22,
   "id": "d63a7a5a",
   "metadata": {},
   "outputs": [
    {
     "data": {
      "text/plain": [
       "2.0"
      ]
     },
     "execution_count": 22,
     "metadata": {},
     "output_type": "execute_result"
    }
   ],
   "source": [
    "2*1.0"
   ]
  },
  {
   "cell_type": "code",
   "execution_count": 23,
   "id": "b1ed570a",
   "metadata": {},
   "outputs": [
    {
     "data": {
      "text/plain": [
       "2.0"
      ]
     },
     "execution_count": 23,
     "metadata": {},
     "output_type": "execute_result"
    }
   ],
   "source": [
    "min(3, 2.0)"
   ]
  },
  {
   "cell_type": "code",
   "execution_count": 25,
   "id": "dc69d76c",
   "metadata": {},
   "outputs": [
    {
     "data": {
      "text/plain": [
       "2"
      ]
     },
     "execution_count": 25,
     "metadata": {},
     "output_type": "execute_result"
    }
   ],
   "source": [
    "min(3.0, 2) # 비교는 float로 하지만 값 반환은 원래 형태로 반환"
   ]
  },
  {
   "cell_type": "code",
   "execution_count": 24,
   "id": "d4dc0385",
   "metadata": {},
   "outputs": [
    {
     "data": {
      "text/plain": [
       "2.0"
      ]
     },
     "execution_count": 24,
     "metadata": {},
     "output_type": "execute_result"
    }
   ],
   "source": [
    "max(2.0, 2)"
   ]
  },
  {
   "cell_type": "code",
   "execution_count": null,
   "id": "4a6d01d5",
   "metadata": {},
   "outputs": [],
   "source": []
  }
 ],
 "metadata": {
  "kernelspec": {
   "display_name": "basic-computing",
   "language": "python",
   "name": "python3"
  },
  "language_info": {
   "codemirror_mode": {
    "name": "ipython",
    "version": 3
   },
   "file_extension": ".py",
   "mimetype": "text/x-python",
   "name": "python",
   "nbconvert_exporter": "python",
   "pygments_lexer": "ipython3",
   "version": "3.10.18"
  }
 },
 "nbformat": 4,
 "nbformat_minor": 5
}
