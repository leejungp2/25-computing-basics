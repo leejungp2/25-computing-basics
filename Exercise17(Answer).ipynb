{
 "cells": [
  {
   "cell_type": "markdown",
   "id": "f145bd19",
   "metadata": {
    "id": "f145bd19"
   },
   "source": [
    "## Practice 1. Deepest Leaves Sum\n",
    "Given the root of a binary tree, return the sum of values of its deepest leaves."
   ]
  },
  {
   "cell_type": "code",
   "execution_count": 1,
   "id": "049ffc67",
   "metadata": {
    "id": "049ffc67"
   },
   "outputs": [],
   "source": [
    "# TreeNode Definition for Binary Tree\n",
    "class TreeNode:\n",
    "    def __init__(self, val=0, left=None, right=None):\n",
    "        self.val = val\n",
    "        self.left = left\n",
    "        self.right = right"
   ]
  },
  {
   "cell_type": "code",
   "execution_count": 2,
   "id": "2553c694",
   "metadata": {
    "id": "2553c694"
   },
   "outputs": [],
   "source": [
    "# Tree Construction\n",
    "root = TreeNode(1)\n",
    "root.left = TreeNode(2)\n",
    "root.right = TreeNode(3)\n",
    "root.left.left = TreeNode(4)\n",
    "root.left.right = TreeNode(5)\n",
    "root.right.left = None\n",
    "root.right.right = TreeNode(6)\n",
    "root.left.left.left = TreeNode(7)\n",
    "root.left.left.right = None\n",
    "root.left.right.left = None\n",
    "root.left.right.right = None\n",
    "root.right.right.left = None\n",
    "root.right.right.right = TreeNode(8)"
   ]
  },
  {
   "cell_type": "code",
   "execution_count": 3,
   "id": "d0107434",
   "metadata": {
    "id": "d0107434"
   },
   "outputs": [],
   "source": [
    "from collections import deque\n",
    "\n",
    "# class: 트리 전체를 감싸는 wrapper 역할\n",
    "class Tree():\n",
    "    def __init__(self, root: TreeNode) -> None:\n",
    "        self.root = root\n",
    "\n",
    "    # 여기부터 탐색 진행\n",
    "    def deepestLeavesSum(self) -> None:\n",
    "        if self.root == None: # 1. 루트가 비어있으면 None 반환\n",
    "            return\n",
    "\n",
    "        # 2. queue 초기화\n",
    "        q = deque([self.root]) # BFS\n",
    "        deepest_level_sum = 0 # 마지막 레벨의 합을 저장할 변수\n",
    "\n",
    "        # 3. BFS loop: while문, for문, if\n",
    "        while q:\n",
    "            # current level nodes\n",
    "            level_size = len(q) # 현재 레벨의 노드 개수\n",
    "\n",
    "            # compute current level sum\n",
    "            curr_sum = 0 # 현재 레벨 노드 값을 모두 더한 합을 저장\n",
    "            \n",
    "            # q에서 노드를 하나 꺼내, 해당 노드의 값을 curr_sum에 더함\n",
    "            for i in range(level_size):\n",
    "                # get current node\n",
    "                node = q.popleft()\n",
    "                # add value\n",
    "                curr_sum += node.val\n",
    "                # check next levet\n",
    "                if node.left:\n",
    "                    q.append(node.left)\n",
    "                if node.right:\n",
    "                    q.append(node.right)\n",
    "            deepest_level_sum = curr_sum # 마지막 저장된 curr_sum이 가장 깊음\n",
    "        return deepest_level_sum"
   ]
  },
  {
   "cell_type": "code",
   "execution_count": 4,
   "id": "4df2c679-20a8-4173-b6fb-7b6ad8a38b11",
   "metadata": {},
   "outputs": [
    {
     "data": {
      "text/plain": [
       "15"
      ]
     },
     "execution_count": 4,
     "metadata": {},
     "output_type": "execute_result"
    }
   ],
   "source": [
    "# Create a tree\n",
    "myTree = Tree(root)\n",
    "\n",
    "# Execute preorder DFT\n",
    "myTree.deepestLeavesSum()"
   ]
  },
  {
   "cell_type": "code",
   "execution_count": null,
   "id": "52e427ea",
   "metadata": {
    "id": "52e427ea"
   },
   "outputs": [],
   "source": []
  },
  {
   "cell_type": "markdown",
   "id": "4c654973",
   "metadata": {},
   "source": []
  }
 ],
 "metadata": {
  "colab": {
   "provenance": []
  },
  "kernelspec": {
   "display_name": "basic-computing",
   "language": "python",
   "name": "python3"
  },
  "language_info": {
   "codemirror_mode": {
    "name": "ipython",
    "version": 3
   },
   "file_extension": ".py",
   "mimetype": "text/x-python",
   "name": "python",
   "nbconvert_exporter": "python",
   "pygments_lexer": "ipython3",
   "version": "3.10.18"
  }
 },
 "nbformat": 4,
 "nbformat_minor": 5
}
